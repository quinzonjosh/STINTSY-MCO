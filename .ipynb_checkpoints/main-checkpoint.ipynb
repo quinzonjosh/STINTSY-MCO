{
 "cells": [
  {
   "cell_type": "markdown",
   "id": "fcc573dd",
   "metadata": {},
   "source": [
    "# **STINTSY S11 Group 1 Major Course Output**\n",
    "Members:<br>\n",
    "Andres, Donielle<br>\n",
    "Limjoco, Jared Ethan<br>\n",
    "Quinzon, Christopher Josh<br>\n",
    "Uy, Shane Owen"
   ]
  },
  {
   "cell_type": "markdown",
   "id": "8f16d3a8",
   "metadata": {},
   "source": [
    "## **Section 1: Introduction to the problem/task and dataset**\n",
    "\n",
    "The garment industry plays a crucial role in today's industrial globalization as this labor-intesive sector relies heavily manual processes and in order to meet the global demands for clothing and textile products, the industry must ensure efficient production and delivery of the employees of garment manufacturing companies. Decision-makers or those of high positions in the garment industry makes this happen by systematically monitoring, analyzing, and predicting the productivity performance of the different teams that work within their factories. This makes it possible for companies in the industry to gain a competitive advantage in the market. <br><br>\n",
    "\n",
    "In order to systematically monitor, analyze, and predict the productivity performance of the teams in factories, a comprehensive dataset has been built, covering important attributes related to the garment manufacturing process and the productivity of employees. This dataset serves as a valuable resource for researchers, data scientists, and industry professionals to understand the industry on a deeper level by looking at different factors contributing to the productivity of the industry. <br><br>\n",
    "\n",
    "This project's primary objective is to predict and analyze the productivity performance of working teams in garment manufacturing companies. The target of this project is to develop models and generate insights that can predict the productivity of the teams in the garment industry based on the provided attributes. Being able to do so will greatly help decision-makers to make data-driven decision to improve the overall efficiency and competitiveness of their garment manufacturing operations\n",
    "\n",
    "<br><br>\n",
    "Comments:\n",
    "- be more specific on the main task\n",
    "- can do \"predict and analyze the relationship between the given incentives to each worker to the percent of productivity that was delivered in each department per quarter\" para linear regression nalang gamitin naten if ganito"
   ]
  },
  {
   "cell_type": "code",
   "execution_count": null,
   "id": "4e22e6f8",
   "metadata": {},
   "outputs": [],
   "source": []
  },
  {
   "cell_type": "markdown",
   "id": "13bf0ce0",
   "metadata": {},
   "source": [
    "## **Section 2: Description of the dataset**"
   ]
  },
  {
   "cell_type": "markdown",
   "id": "bad983e5",
   "metadata": {},
   "source": [
    "In this section of the notebook, you must fulfill the following: <br>\n",
    "\n",
    "State a brief description of the dataset.<br>\n",
    "- Provide a description of the collection process executed to build the dataset.\n",
    "<br> \n",
    "\n",
    "> Discuss the implications of the data collection method on the generated conclusions and insights. Note that you may need to look at relevant sources related to the dataset to acquire necessary information for this part of the project. \n",
    "\n",
    "- Describe the structure of the dataset file. <br>\n",
    "\n",
    "> o What does each row and column represent? <br> o How many instances are there in the dataset? <br> o How many features are there in the dataset? <br> o If the dataset is composed of different files that you will combine in the succeeding steps, describe the structure and the contents of each file. <br>\n",
    "\n",
    "- Discuss the features in each dataset file. What does each feature represent? All features, even those which are not used for the study, should be described to the reader. The purpose of each feature in the dataset should be clear to the reader of the notebook without having to go through an external link."
   ]
  },
  {
   "cell_type": "markdown",
   "id": "b1bd90b9",
   "metadata": {},
   "source": [
    "**Garments Features** <br>\n",
    "- date – Date in MM-DD-YYYY\n",
    "- quarter – A portion of the month. A month was divided into four quarters.\n",
    "- department – Department associated with the instance.\n",
    "- day – Day of the week\n",
    "- team – Team number associated with the instance.\n",
    "- targeted_productivity – Targeted productivity set by the authority for each team for each day.\n",
    "- smv – Standard Minute Value; the allocated time for a task\n",
    "- wip – Work in progress. Includes the number of unfinished items for products.\n",
    "- over_time – Represents the amount of overtime by each team in minutes.\n",
    "- incentive – Represents the amount of financial incentive that enables or motivates a particular course of action.\n",
    "- idle_time – The amount of time when the production was interrupted due to several reasons.\n",
    "- idle_men – The number of workers who were idle due to production interruption.\n",
    "- no_of_style_change – Number of changes in the style of a particular product\n",
    "- no_of_workers – Number of workers in each team\n",
    "- actual_productivity – The actual % of productivity that was delivered by the workers. It ranges from 0-1.\n"
   ]
  },
  {
   "cell_type": "markdown",
   "id": "98f02865",
   "metadata": {},
   "source": [
    "## **Section 3: List of requirements**"
   ]
  },
  {
   "cell_type": "markdown",
   "id": "ba44174c",
   "metadata": {},
   "source": [
    "List all the Python libraries and modules that you used."
   ]
  },
  {
   "cell_type": "code",
   "execution_count": 1,
   "id": "f2a7b6e7",
   "metadata": {},
   "outputs": [],
   "source": [
    "# pandas dataframe\n",
    "import pandas as pd\n",
    "\n",
    "# numpy library\n",
    "import numpy as np\n",
    "\n",
    "# label encoder\n",
    "from sklearn import preprocessing"
   ]
  },
  {
   "cell_type": "markdown",
   "id": "0dfef86a",
   "metadata": {},
   "source": [
    "## **Section 4: Data preprocessing and cleaning**"
   ]
  },
  {
   "cell_type": "markdown",
   "id": "736444fa",
   "metadata": {},
   "source": [
    "Perform the necessary steps before using the data. In this section of the notebook, please take note of the following: <br>\n",
    "\n",
    "- If needed, perform preprocessing techniques to transform the data to the appropriate representation. This may include binning, log transformations, conversion to one-hot encoding, normalization, standardization, interpolation, truncation, and feature engineering, among others. There should be a correct and proper justification of the use of each preprocessing technique used in the project.\n",
    "- Make sure that the data is clean, especially features that are used in the project. This may include checking for misrepresentations, checking the data type, dealing with missing data, dealing with duplicate data, and dealing with outliers, among others. There should be a correct and proper justification of the application (or non-application) of each data cleaning method used in the project. Clean only the variables utilized in the study"
   ]
  },
  {
   "cell_type": "markdown",
   "id": "b9325172",
   "metadata": {},
   "source": [
    "Comments:\n",
    "- needs data cleaning\n",
    "- change variable names and renaming(correct spelling)\n",
    "- check missing values and correct data types\n",
    "- one hot encoding and feature engineering"
   ]
  },
  {
   "cell_type": "code",
   "execution_count": 2,
   "id": "c8c3b1ab",
   "metadata": {},
   "outputs": [
    {
     "name": "stdout",
     "output_type": "stream",
     "text": [
      "<class 'pandas.core.frame.DataFrame'>\n",
      "RangeIndex: 1197 entries, 0 to 1196\n",
      "Data columns (total 15 columns):\n",
      " #   Column                 Non-Null Count  Dtype  \n",
      "---  ------                 --------------  -----  \n",
      " 0   date                   1197 non-null   object \n",
      " 1   quarter                1197 non-null   object \n",
      " 2   department             1197 non-null   object \n",
      " 3   day                    1197 non-null   object \n",
      " 4   team                   1197 non-null   int64  \n",
      " 5   targeted_productivity  1197 non-null   float64\n",
      " 6   smv                    1197 non-null   float64\n",
      " 7   wip                    691 non-null    float64\n",
      " 8   over_time              1197 non-null   int64  \n",
      " 9   incentive              1197 non-null   int64  \n",
      " 10  idle_time              1197 non-null   float64\n",
      " 11  idle_men               1197 non-null   int64  \n",
      " 12  no_of_style_change     1197 non-null   int64  \n",
      " 13  no_of_workers          1197 non-null   float64\n",
      " 14  actual_productivity    1197 non-null   float64\n",
      "dtypes: float64(6), int64(5), object(4)\n",
      "memory usage: 140.4+ KB\n",
      "None\n"
     ]
    },
    {
     "data": {
      "text/html": [
       "<div>\n",
       "<style scoped>\n",
       "    .dataframe tbody tr th:only-of-type {\n",
       "        vertical-align: middle;\n",
       "    }\n",
       "\n",
       "    .dataframe tbody tr th {\n",
       "        vertical-align: top;\n",
       "    }\n",
       "\n",
       "    .dataframe thead th {\n",
       "        text-align: right;\n",
       "    }\n",
       "</style>\n",
       "<table border=\"1\" class=\"dataframe\">\n",
       "  <thead>\n",
       "    <tr style=\"text-align: right;\">\n",
       "      <th></th>\n",
       "      <th>date</th>\n",
       "      <th>quarter</th>\n",
       "      <th>department</th>\n",
       "      <th>day</th>\n",
       "      <th>team</th>\n",
       "      <th>targeted_productivity</th>\n",
       "      <th>smv</th>\n",
       "      <th>wip</th>\n",
       "      <th>over_time</th>\n",
       "      <th>incentive</th>\n",
       "      <th>idle_time</th>\n",
       "      <th>idle_men</th>\n",
       "      <th>no_of_style_change</th>\n",
       "      <th>no_of_workers</th>\n",
       "      <th>actual_productivity</th>\n",
       "    </tr>\n",
       "  </thead>\n",
       "  <tbody>\n",
       "    <tr>\n",
       "      <th>0</th>\n",
       "      <td>01/01/2015</td>\n",
       "      <td>Quarter1</td>\n",
       "      <td>sweing</td>\n",
       "      <td>Thursday</td>\n",
       "      <td>8</td>\n",
       "      <td>0.80</td>\n",
       "      <td>26.16</td>\n",
       "      <td>1108.0</td>\n",
       "      <td>7080</td>\n",
       "      <td>98</td>\n",
       "      <td>0.0</td>\n",
       "      <td>0</td>\n",
       "      <td>0</td>\n",
       "      <td>59.0</td>\n",
       "      <td>0.940725</td>\n",
       "    </tr>\n",
       "    <tr>\n",
       "      <th>1</th>\n",
       "      <td>01/01/2015</td>\n",
       "      <td>Quarter1</td>\n",
       "      <td>finishing</td>\n",
       "      <td>Thursday</td>\n",
       "      <td>1</td>\n",
       "      <td>0.75</td>\n",
       "      <td>3.94</td>\n",
       "      <td>NaN</td>\n",
       "      <td>960</td>\n",
       "      <td>0</td>\n",
       "      <td>0.0</td>\n",
       "      <td>0</td>\n",
       "      <td>0</td>\n",
       "      <td>8.0</td>\n",
       "      <td>0.886500</td>\n",
       "    </tr>\n",
       "    <tr>\n",
       "      <th>2</th>\n",
       "      <td>01/01/2015</td>\n",
       "      <td>Quarter1</td>\n",
       "      <td>sweing</td>\n",
       "      <td>Thursday</td>\n",
       "      <td>11</td>\n",
       "      <td>0.80</td>\n",
       "      <td>11.41</td>\n",
       "      <td>968.0</td>\n",
       "      <td>3660</td>\n",
       "      <td>50</td>\n",
       "      <td>0.0</td>\n",
       "      <td>0</td>\n",
       "      <td>0</td>\n",
       "      <td>30.5</td>\n",
       "      <td>0.800570</td>\n",
       "    </tr>\n",
       "    <tr>\n",
       "      <th>3</th>\n",
       "      <td>01/01/2015</td>\n",
       "      <td>Quarter1</td>\n",
       "      <td>sweing</td>\n",
       "      <td>Thursday</td>\n",
       "      <td>12</td>\n",
       "      <td>0.80</td>\n",
       "      <td>11.41</td>\n",
       "      <td>968.0</td>\n",
       "      <td>3660</td>\n",
       "      <td>50</td>\n",
       "      <td>0.0</td>\n",
       "      <td>0</td>\n",
       "      <td>0</td>\n",
       "      <td>30.5</td>\n",
       "      <td>0.800570</td>\n",
       "    </tr>\n",
       "    <tr>\n",
       "      <th>4</th>\n",
       "      <td>01/01/2015</td>\n",
       "      <td>Quarter1</td>\n",
       "      <td>sweing</td>\n",
       "      <td>Thursday</td>\n",
       "      <td>6</td>\n",
       "      <td>0.80</td>\n",
       "      <td>25.90</td>\n",
       "      <td>1170.0</td>\n",
       "      <td>1920</td>\n",
       "      <td>50</td>\n",
       "      <td>0.0</td>\n",
       "      <td>0</td>\n",
       "      <td>0</td>\n",
       "      <td>56.0</td>\n",
       "      <td>0.800382</td>\n",
       "    </tr>\n",
       "    <tr>\n",
       "      <th>5</th>\n",
       "      <td>01/01/2015</td>\n",
       "      <td>Quarter1</td>\n",
       "      <td>sweing</td>\n",
       "      <td>Thursday</td>\n",
       "      <td>7</td>\n",
       "      <td>0.80</td>\n",
       "      <td>25.90</td>\n",
       "      <td>984.0</td>\n",
       "      <td>6720</td>\n",
       "      <td>38</td>\n",
       "      <td>0.0</td>\n",
       "      <td>0</td>\n",
       "      <td>0</td>\n",
       "      <td>56.0</td>\n",
       "      <td>0.800125</td>\n",
       "    </tr>\n",
       "    <tr>\n",
       "      <th>6</th>\n",
       "      <td>01/01/2015</td>\n",
       "      <td>Quarter1</td>\n",
       "      <td>finishing</td>\n",
       "      <td>Thursday</td>\n",
       "      <td>2</td>\n",
       "      <td>0.75</td>\n",
       "      <td>3.94</td>\n",
       "      <td>NaN</td>\n",
       "      <td>960</td>\n",
       "      <td>0</td>\n",
       "      <td>0.0</td>\n",
       "      <td>0</td>\n",
       "      <td>0</td>\n",
       "      <td>8.0</td>\n",
       "      <td>0.755167</td>\n",
       "    </tr>\n",
       "    <tr>\n",
       "      <th>7</th>\n",
       "      <td>01/01/2015</td>\n",
       "      <td>Quarter1</td>\n",
       "      <td>sweing</td>\n",
       "      <td>Thursday</td>\n",
       "      <td>3</td>\n",
       "      <td>0.75</td>\n",
       "      <td>28.08</td>\n",
       "      <td>795.0</td>\n",
       "      <td>6900</td>\n",
       "      <td>45</td>\n",
       "      <td>0.0</td>\n",
       "      <td>0</td>\n",
       "      <td>0</td>\n",
       "      <td>57.5</td>\n",
       "      <td>0.753683</td>\n",
       "    </tr>\n",
       "    <tr>\n",
       "      <th>8</th>\n",
       "      <td>01/01/2015</td>\n",
       "      <td>Quarter1</td>\n",
       "      <td>sweing</td>\n",
       "      <td>Thursday</td>\n",
       "      <td>2</td>\n",
       "      <td>0.75</td>\n",
       "      <td>19.87</td>\n",
       "      <td>733.0</td>\n",
       "      <td>6000</td>\n",
       "      <td>34</td>\n",
       "      <td>0.0</td>\n",
       "      <td>0</td>\n",
       "      <td>0</td>\n",
       "      <td>55.0</td>\n",
       "      <td>0.753098</td>\n",
       "    </tr>\n",
       "    <tr>\n",
       "      <th>9</th>\n",
       "      <td>01/01/2015</td>\n",
       "      <td>Quarter1</td>\n",
       "      <td>sweing</td>\n",
       "      <td>Thursday</td>\n",
       "      <td>1</td>\n",
       "      <td>0.75</td>\n",
       "      <td>28.08</td>\n",
       "      <td>681.0</td>\n",
       "      <td>6900</td>\n",
       "      <td>45</td>\n",
       "      <td>0.0</td>\n",
       "      <td>0</td>\n",
       "      <td>0</td>\n",
       "      <td>57.5</td>\n",
       "      <td>0.750428</td>\n",
       "    </tr>\n",
       "  </tbody>\n",
       "</table>\n",
       "</div>"
      ],
      "text/plain": [
       "         date   quarter  department       day  team  targeted_productivity  \\\n",
       "0  01/01/2015  Quarter1      sweing  Thursday     8                   0.80   \n",
       "1  01/01/2015  Quarter1  finishing   Thursday     1                   0.75   \n",
       "2  01/01/2015  Quarter1      sweing  Thursday    11                   0.80   \n",
       "3  01/01/2015  Quarter1      sweing  Thursday    12                   0.80   \n",
       "4  01/01/2015  Quarter1      sweing  Thursday     6                   0.80   \n",
       "5  01/01/2015  Quarter1      sweing  Thursday     7                   0.80   \n",
       "6  01/01/2015  Quarter1  finishing   Thursday     2                   0.75   \n",
       "7  01/01/2015  Quarter1      sweing  Thursday     3                   0.75   \n",
       "8  01/01/2015  Quarter1      sweing  Thursday     2                   0.75   \n",
       "9  01/01/2015  Quarter1      sweing  Thursday     1                   0.75   \n",
       "\n",
       "     smv     wip  over_time  incentive  idle_time  idle_men  \\\n",
       "0  26.16  1108.0       7080         98        0.0         0   \n",
       "1   3.94     NaN        960          0        0.0         0   \n",
       "2  11.41   968.0       3660         50        0.0         0   \n",
       "3  11.41   968.0       3660         50        0.0         0   \n",
       "4  25.90  1170.0       1920         50        0.0         0   \n",
       "5  25.90   984.0       6720         38        0.0         0   \n",
       "6   3.94     NaN        960          0        0.0         0   \n",
       "7  28.08   795.0       6900         45        0.0         0   \n",
       "8  19.87   733.0       6000         34        0.0         0   \n",
       "9  28.08   681.0       6900         45        0.0         0   \n",
       "\n",
       "   no_of_style_change  no_of_workers  actual_productivity  \n",
       "0                   0           59.0             0.940725  \n",
       "1                   0            8.0             0.886500  \n",
       "2                   0           30.5             0.800570  \n",
       "3                   0           30.5             0.800570  \n",
       "4                   0           56.0             0.800382  \n",
       "5                   0           56.0             0.800125  \n",
       "6                   0            8.0             0.755167  \n",
       "7                   0           57.5             0.753683  \n",
       "8                   0           55.0             0.753098  \n",
       "9                   0           57.5             0.750428  "
      ]
     },
     "execution_count": 2,
     "metadata": {},
     "output_type": "execute_result"
    }
   ],
   "source": [
    "df = pd.read_csv('garments.csv')\n",
    "\n",
    "print(df.info())\n",
    "df.head(10)"
   ]
  },
  {
   "cell_type": "code",
   "execution_count": 7,
   "id": "31ad703e",
   "metadata": {},
   "outputs": [
    {
     "data": {
      "text/plain": [
       "array([0, 1, 2, 3])"
      ]
     },
     "execution_count": 7,
     "metadata": {},
     "output_type": "execute_result"
    }
   ],
   "source": [
    "df_copy = df\n",
    "\n",
    "# remove null values\n",
    "df_copy['wip'] = df_copy['wip'].fillna(0)\n",
    "df_copy['wip'] = df_copy['wip'].astype(np.int64)\n",
    "\n",
    "# replace misspelled words and remove whitespace\n",
    "df_copy['department'] = df_copy['department'].str.replace('sweing', 'sewing')\n",
    "df_copy['department'] = df_copy['department'].str.strip()\n",
    "\n",
    "# removed Quarter5 and changed it to Quarter4\n",
    "df_copy['quarter'] = df_copy['quarter'].str.replace('Quarter5', 'Quarter4')\n",
    "\n",
    "# replace no of workers from float to int\n",
    "df_copy['no_of_workers'] = df_copy['no_of_workers'].astype(np.int64)\n",
    "\n",
    "# sets values of actual productivity that are higher than 1% to 1%\n",
    "df_copy['actual_productivity'] = np.where(df_copy['actual_productivity'] > 1.0, 1.0, df_copy['actual_productivity'])\n",
    "\n",
    "# drop date column (as question only needs per quarter basis)\n",
    "df_copy = df.drop(columns = ['date'])\n",
    "\n",
    "#encode quarter into numerals \n",
    "#(0 : Quarter 1, 1: Quarter 2, 2: Quarter 3, 3: Quarter 4)\n",
    "label_enc = preprocessing.LabelEncoder()\n",
    "label_enc.fit_transform(df_copy['quarter'])\n",
    "df_copy['quarter'] = label_enc.transform(df_copy['quarter'])\n",
    "\n",
    "df_copy.head(1000)\n",
    "\n",
    "# changes so far\n",
    "# - removed null values from work in progress\n",
    "# - replaced \"sweing\" misspelling to \"sewing\"\n",
    "# - removed \"Quarter 5\" and changed it to \"Quarter 4\"\n",
    "# - replaced \"number of workers\" from float to int type\n",
    "# - removed actual productivity values higher than 1% and changed it to 1%\n",
    "# - dropped date column (since we are only looking at quarter and day of the week productivity)\n",
    "# - label encoded quarters into numerals "
   ]
  },
  {
   "cell_type": "markdown",
   "id": "b7be2e13",
   "metadata": {},
   "source": [
    "## **Section 5: Exploratory data analysis**"
   ]
  },
  {
   "cell_type": "markdown",
   "id": "b9448103",
   "metadata": {},
   "source": [
    "Perform exploratory data analysis comprehensively to gain a good understanding of your dataset. <br>In this section of the notebook, you must present relevant numerical summaries and\n",
    "visualizations. Make sure that each code is accompanied by a brief explanation. The whole process should be supported with verbose textual descriptions of your procedures and findings."
   ]
  },
  {
   "cell_type": "markdown",
   "id": "6008775d",
   "metadata": {},
   "source": []
  },
  {
   "cell_type": "markdown",
   "id": "c006e9e9",
   "metadata": {},
   "source": [
    "## **Section 6: Model training**"
   ]
  },
  {
   "cell_type": "markdown",
   "id": "1ba06b87",
   "metadata": {},
   "source": [
    "Use machine learning models to accomplish your chosen task for the dataset. In this section of the notebook, please take note of the following:\n",
    "- The project should train and evaluate at least 3 different kinds of machine learning models.\n",
    "- Each model should be appropriate in accomplishing the chosen task for the dataset. There should be a clear and correct justification on the use of each machine learning model.\n",
    "- Make sure that the values of the hyperparameters of each model are mentioned. At the minimum, the optimizer, the learning rate, and the learning rate schedule should be discussed per model.\n",
    "- The report should show that the models are not overfitting nor underfitting."
   ]
  },
  {
   "cell_type": "markdown",
   "id": "6387f84f",
   "metadata": {},
   "source": []
  },
  {
   "cell_type": "markdown",
   "id": "20855ca2",
   "metadata": {},
   "source": [
    "## **Section 7: Hyperparameter tuning**"
   ]
  },
  {
   "cell_type": "markdown",
   "id": "ba106cb6",
   "metadata": {},
   "source": [
    "Perform grid search or random search to tune the hyperparameters of each model. In this section of the notebook, please take note of the following:<br>\n",
    "- Make sure to elaborately explain the method of hyperparameter tuning.\n",
    "- Explicitly mention the different hyperparameters and their range of values. Show the corresponding performance of each configuration.\n",
    "- Report the performance of all models using appropriate evaluation metrics and visualizations.\n",
    "- Properly interpret the result based on relevant evaluation metrics."
   ]
  },
  {
   "cell_type": "markdown",
   "id": "087f66f8",
   "metadata": {},
   "source": []
  },
  {
   "cell_type": "markdown",
   "id": "079f1fcb",
   "metadata": {},
   "source": [
    "## **Section 8: Model selection**"
   ]
  },
  {
   "cell_type": "markdown",
   "id": "1abd6e24",
   "metadata": {},
   "source": [
    "Present a summary of all model configurations. Include each algorithm and the best set of values for its hyperparameters. Identify the best model configuration and discuss its advantage over other configurations."
   ]
  },
  {
   "cell_type": "markdown",
   "id": "526069ad",
   "metadata": {},
   "source": []
  },
  {
   "cell_type": "markdown",
   "id": "37b3a490",
   "metadata": {},
   "source": [
    "## **Section 9: Insights and conclusions**"
   ]
  },
  {
   "cell_type": "markdown",
   "id": "ee2b0c58",
   "metadata": {},
   "source": [
    "Clearly state your insights and conclusions from training a model on the data. Why did some models produce better results? Summarize your conclusions to explain the performance of the models. Discuss recommendations to improve the performance of the model."
   ]
  },
  {
   "cell_type": "markdown",
   "id": "a3fa5150",
   "metadata": {},
   "source": []
  },
  {
   "cell_type": "markdown",
   "id": "f5def5c4",
   "metadata": {},
   "source": [
    "## **Section 10: References**"
   ]
  },
  {
   "cell_type": "markdown",
   "id": "94bb7927",
   "metadata": {},
   "source": []
  },
  {
   "cell_type": "markdown",
   "id": "13936e02",
   "metadata": {},
   "source": []
  }
 ],
 "metadata": {
  "kernelspec": {
   "display_name": "Python 3 (ipykernel)",
   "language": "python",
   "name": "python3"
  },
  "language_info": {
   "codemirror_mode": {
    "name": "ipython",
    "version": 3
   },
   "file_extension": ".py",
   "mimetype": "text/x-python",
   "name": "python",
   "nbconvert_exporter": "python",
   "pygments_lexer": "ipython3",
   "version": "3.9.18"
  }
 },
 "nbformat": 4,
 "nbformat_minor": 5
}
