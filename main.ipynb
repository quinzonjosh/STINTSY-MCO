{
 "cells": [
  {
   "cell_type": "markdown",
   "id": "fcc573dd",
   "metadata": {},
   "source": [
    "# **STINTSY S11 Group 1 Major Course Output**\n",
    "Members:<br>\n",
    "Andres, Donielle<br>\n",
    "Limjoco, Jared Ethan<br>\n",
    "Quinzon, Christopher Josh<br>\n",
    "Uy, Shane Owen"
   ]
  },
  {
   "cell_type": "markdown",
   "id": "8f16d3a8",
   "metadata": {},
   "source": [
    "## **Section 1: Introduction to the problem/task and dataset**\n",
    "\n",
    "The garment industry plays a crucial role in today's industrial globalization as this labor-intesive sector relies heavily manual processes and in order to meet the global demands for clothing and textile products, the industry must ensure efficient production and delivery of the employees of garment manufacturing companies. Decision-makers or those of high positions in the garment industry makes this happen by systematically monitoring, analyzing, and predicting the productivity performance of the different teams that work within their factories. This makes it possible for companies in the industry to gain a competitive advantage in the market. <br><br>\n",
    "\n",
    "In order to systematically monitor, analyze, and predict the productivity performance of the teams in factories, a comprehensive dataset has been built, covering important attributes related to the garment manufacturing process and the productivity of employees. This dataset serves as a valuable resource for researchers, data scientists, and industry professionals to understand the industry on a deeper level by looking at different factors contributing to the productivity of the industry. <br><br>\n",
    "\n",
    "This project's primary objective is to predict and analyze the productivity performance of working teams in garment manufacturing companies. The target of this project is to develop models and generate insights that can predict the productivity of the teams in the garment industry based on the provided attributes. Being able to do so will greatly help decision-makers to make data-driven decision to improve the overall efficiency and competitiveness of their garment manufacturing operations"
   ]
  },
  {
   "cell_type": "markdown",
   "id": "13bf0ce0",
   "metadata": {},
   "source": [
    "## **Section 2: Description of the dataset**"
   ]
  },
  {
   "cell_type": "markdown",
   "id": "bad983e5",
   "metadata": {},
   "source": [
    "The Garment Dataset was compiled to assess the production of the garment company by analyzing the productivity of employees across various departments. The data was sourced from the data analysis of the performance records of the Garment Company, extracting information related to garment productions and the actual productivity rate compared to the targeted productivity rate. A similar study by Balla et al. (2021), utilized Machine Learning techniques to be able to predict the productivity rate of garment employees based on the Garment Dataset by analyzing and identifying the patterns that are not apparent in statistical methods. The insights from this study can potentially enhance the efficiency of garment workers, leading to a boost in the overall profitability of the clothing industry. \n",
    "<br><br>\n",
    "The Garment Dataset used consists of 1197 instances and 15 features. The features include date, day, quarter, department, team (number), number of workers, number of style changes, targeted productivity, SMV, WIP, overtime, incentive, idle time, idle men, and actual productivity. Each instance in the dataset represents a specific garment team and includes values for each of the 15 features. Each feature is discussed below:"
   ]
  },
  {
   "cell_type": "markdown",
   "id": "b1bd90b9",
   "metadata": {},
   "source": [
    "**Garments Features** <br>\n",
    "- date – Date in MM-DD-YYYY\n",
    "- quarter – A portion of the month. A month was divided into four quarters.\n",
    "- department – Department associated with the instance.\n",
    "- day – Day of the week\n",
    "- team – Team number associated with the instance.\n",
    "- targeted_productivity – Targeted productivity set by the authority for each team for each day.\n",
    "- smv – Standard Minute Value; the allocated time for a task\n",
    "- wip – Work in progress. Includes the number of unfinished items for products.\n",
    "- over_time – Represents the amount of overtime by each team in minutes.\n",
    "- incentive – Represents the amount of financial incentive that enables or motivates a particular course of action.\n",
    "- idle_time – The amount of time when the production was interrupted due to several reasons.\n",
    "- idle_men – The number of workers who were idle due to production interruption.\n",
    "- no_of_style_change – Number of changes in the style of a particular product\n",
    "- no_of_workers – Number of workers in each team\n",
    "- actual_productivity – The actual % of productivity that was delivered by the workers. It ranges from 0-1.\n"
   ]
  },
  {
   "cell_type": "markdown",
   "id": "98f02865",
   "metadata": {},
   "source": [
    "## **Section 3: List of requirements**"
   ]
  },
  {
   "cell_type": "markdown",
   "id": "26e3f735",
   "metadata": {},
   "source": [
    "#### **Initial Libraries** "
   ]
  },
  {
   "cell_type": "code",
   "execution_count": 88,
   "id": "04297feb",
   "metadata": {},
   "outputs": [],
   "source": [
    "import pandas as pd\n",
    "import numpy as np\n",
    "from math import sqrt\n",
    "from functions import compute_RMSE\n"
   ]
  },
  {
   "cell_type": "markdown",
   "id": "4552ae09",
   "metadata": {},
   "source": [
    "#### **Data Visualization Libraries** "
   ]
  },
  {
   "cell_type": "code",
   "execution_count": 89,
   "id": "1e63c4c0",
   "metadata": {},
   "outputs": [],
   "source": [
    "import matplotlib.pyplot as plt\n",
    "import seaborn as sns"
   ]
  },
  {
   "cell_type": "markdown",
   "id": "7e9521db",
   "metadata": {},
   "source": [
    "#### **SKLearn** "
   ]
  },
  {
   "cell_type": "code",
   "execution_count": 259,
   "id": "ef672911",
   "metadata": {},
   "outputs": [],
   "source": [
    "from sklearn import preprocessing, model_selection\n",
    "from sklearn.metrics import mean_squared_error\n",
    "from sklearn.metrics import mean_absolute_error\n",
    "from sklearn.metrics import r2_score\n",
    "from sklearn.preprocessing import LabelEncoder\n",
    "from sklearn.ensemble import RandomForestRegressor\n",
    "from sklearn.model_selection import GridSearchCV\n",
    "from sklearn.metrics import mean_squared_error\n",
    "from sklearn import tree"
   ]
  },
  {
   "cell_type": "markdown",
   "id": "0dfef86a",
   "metadata": {},
   "source": [
    "## **Section 4: Data preprocessing and cleaning**\n",
    "<p>\n",
    "In this section, we will be performing data preprocessing and cleaning to refine the quality of the dataset and remove or fix any inconsistencies or anomalies that may compromise the garments dataset's reliability. "
   ]
  },
  {
   "cell_type": "markdown",
   "id": "9d37eb99",
   "metadata": {},
   "source": [
    "First, we load the dataset and check the dataset's information such as the columns, data types, and non-null count."
   ]
  },
  {
   "cell_type": "code",
   "execution_count": 91,
   "id": "c8c3b1ab",
   "metadata": {},
   "outputs": [
    {
     "name": "stdout",
     "output_type": "stream",
     "text": [
      "<class 'pandas.core.frame.DataFrame'>\n",
      "RangeIndex: 1197 entries, 0 to 1196\n",
      "Data columns (total 15 columns):\n",
      " #   Column                 Non-Null Count  Dtype  \n",
      "---  ------                 --------------  -----  \n",
      " 0   date                   1197 non-null   object \n",
      " 1   quarter                1197 non-null   object \n",
      " 2   department             1197 non-null   object \n",
      " 3   day                    1197 non-null   object \n",
      " 4   team                   1197 non-null   int64  \n",
      " 5   targeted_productivity  1197 non-null   float64\n",
      " 6   smv                    1197 non-null   float64\n",
      " 7   wip                    691 non-null    float64\n",
      " 8   over_time              1197 non-null   int64  \n",
      " 9   incentive              1197 non-null   int64  \n",
      " 10  idle_time              1197 non-null   float64\n",
      " 11  idle_men               1197 non-null   int64  \n",
      " 12  no_of_style_change     1197 non-null   int64  \n",
      " 13  no_of_workers          1197 non-null   float64\n",
      " 14  actual_productivity    1197 non-null   float64\n",
      "dtypes: float64(6), int64(5), object(4)\n",
      "memory usage: 140.4+ KB\n",
      "None\n"
     ]
    },
    {
     "data": {
      "text/html": [
       "<div>\n",
       "<style scoped>\n",
       "    .dataframe tbody tr th:only-of-type {\n",
       "        vertical-align: middle;\n",
       "    }\n",
       "\n",
       "    .dataframe tbody tr th {\n",
       "        vertical-align: top;\n",
       "    }\n",
       "\n",
       "    .dataframe thead th {\n",
       "        text-align: right;\n",
       "    }\n",
       "</style>\n",
       "<table border=\"1\" class=\"dataframe\">\n",
       "  <thead>\n",
       "    <tr style=\"text-align: right;\">\n",
       "      <th></th>\n",
       "      <th>date</th>\n",
       "      <th>quarter</th>\n",
       "      <th>department</th>\n",
       "      <th>day</th>\n",
       "      <th>team</th>\n",
       "      <th>targeted_productivity</th>\n",
       "      <th>smv</th>\n",
       "      <th>wip</th>\n",
       "      <th>over_time</th>\n",
       "      <th>incentive</th>\n",
       "      <th>idle_time</th>\n",
       "      <th>idle_men</th>\n",
       "      <th>no_of_style_change</th>\n",
       "      <th>no_of_workers</th>\n",
       "      <th>actual_productivity</th>\n",
       "    </tr>\n",
       "  </thead>\n",
       "  <tbody>\n",
       "    <tr>\n",
       "      <th>0</th>\n",
       "      <td>01/01/2015</td>\n",
       "      <td>Quarter1</td>\n",
       "      <td>sweing</td>\n",
       "      <td>Thursday</td>\n",
       "      <td>8</td>\n",
       "      <td>0.80</td>\n",
       "      <td>26.16</td>\n",
       "      <td>1108.0</td>\n",
       "      <td>7080</td>\n",
       "      <td>98</td>\n",
       "      <td>0.0</td>\n",
       "      <td>0</td>\n",
       "      <td>0</td>\n",
       "      <td>59.0</td>\n",
       "      <td>0.940725</td>\n",
       "    </tr>\n",
       "    <tr>\n",
       "      <th>1</th>\n",
       "      <td>01/01/2015</td>\n",
       "      <td>Quarter1</td>\n",
       "      <td>finishing</td>\n",
       "      <td>Thursday</td>\n",
       "      <td>1</td>\n",
       "      <td>0.75</td>\n",
       "      <td>3.94</td>\n",
       "      <td>NaN</td>\n",
       "      <td>960</td>\n",
       "      <td>0</td>\n",
       "      <td>0.0</td>\n",
       "      <td>0</td>\n",
       "      <td>0</td>\n",
       "      <td>8.0</td>\n",
       "      <td>0.886500</td>\n",
       "    </tr>\n",
       "    <tr>\n",
       "      <th>2</th>\n",
       "      <td>01/01/2015</td>\n",
       "      <td>Quarter1</td>\n",
       "      <td>sweing</td>\n",
       "      <td>Thursday</td>\n",
       "      <td>11</td>\n",
       "      <td>0.80</td>\n",
       "      <td>11.41</td>\n",
       "      <td>968.0</td>\n",
       "      <td>3660</td>\n",
       "      <td>50</td>\n",
       "      <td>0.0</td>\n",
       "      <td>0</td>\n",
       "      <td>0</td>\n",
       "      <td>30.5</td>\n",
       "      <td>0.800570</td>\n",
       "    </tr>\n",
       "    <tr>\n",
       "      <th>3</th>\n",
       "      <td>01/01/2015</td>\n",
       "      <td>Quarter1</td>\n",
       "      <td>sweing</td>\n",
       "      <td>Thursday</td>\n",
       "      <td>12</td>\n",
       "      <td>0.80</td>\n",
       "      <td>11.41</td>\n",
       "      <td>968.0</td>\n",
       "      <td>3660</td>\n",
       "      <td>50</td>\n",
       "      <td>0.0</td>\n",
       "      <td>0</td>\n",
       "      <td>0</td>\n",
       "      <td>30.5</td>\n",
       "      <td>0.800570</td>\n",
       "    </tr>\n",
       "    <tr>\n",
       "      <th>4</th>\n",
       "      <td>01/01/2015</td>\n",
       "      <td>Quarter1</td>\n",
       "      <td>sweing</td>\n",
       "      <td>Thursday</td>\n",
       "      <td>6</td>\n",
       "      <td>0.80</td>\n",
       "      <td>25.90</td>\n",
       "      <td>1170.0</td>\n",
       "      <td>1920</td>\n",
       "      <td>50</td>\n",
       "      <td>0.0</td>\n",
       "      <td>0</td>\n",
       "      <td>0</td>\n",
       "      <td>56.0</td>\n",
       "      <td>0.800382</td>\n",
       "    </tr>\n",
       "    <tr>\n",
       "      <th>5</th>\n",
       "      <td>01/01/2015</td>\n",
       "      <td>Quarter1</td>\n",
       "      <td>sweing</td>\n",
       "      <td>Thursday</td>\n",
       "      <td>7</td>\n",
       "      <td>0.80</td>\n",
       "      <td>25.90</td>\n",
       "      <td>984.0</td>\n",
       "      <td>6720</td>\n",
       "      <td>38</td>\n",
       "      <td>0.0</td>\n",
       "      <td>0</td>\n",
       "      <td>0</td>\n",
       "      <td>56.0</td>\n",
       "      <td>0.800125</td>\n",
       "    </tr>\n",
       "    <tr>\n",
       "      <th>6</th>\n",
       "      <td>01/01/2015</td>\n",
       "      <td>Quarter1</td>\n",
       "      <td>finishing</td>\n",
       "      <td>Thursday</td>\n",
       "      <td>2</td>\n",
       "      <td>0.75</td>\n",
       "      <td>3.94</td>\n",
       "      <td>NaN</td>\n",
       "      <td>960</td>\n",
       "      <td>0</td>\n",
       "      <td>0.0</td>\n",
       "      <td>0</td>\n",
       "      <td>0</td>\n",
       "      <td>8.0</td>\n",
       "      <td>0.755167</td>\n",
       "    </tr>\n",
       "    <tr>\n",
       "      <th>7</th>\n",
       "      <td>01/01/2015</td>\n",
       "      <td>Quarter1</td>\n",
       "      <td>sweing</td>\n",
       "      <td>Thursday</td>\n",
       "      <td>3</td>\n",
       "      <td>0.75</td>\n",
       "      <td>28.08</td>\n",
       "      <td>795.0</td>\n",
       "      <td>6900</td>\n",
       "      <td>45</td>\n",
       "      <td>0.0</td>\n",
       "      <td>0</td>\n",
       "      <td>0</td>\n",
       "      <td>57.5</td>\n",
       "      <td>0.753683</td>\n",
       "    </tr>\n",
       "    <tr>\n",
       "      <th>8</th>\n",
       "      <td>01/01/2015</td>\n",
       "      <td>Quarter1</td>\n",
       "      <td>sweing</td>\n",
       "      <td>Thursday</td>\n",
       "      <td>2</td>\n",
       "      <td>0.75</td>\n",
       "      <td>19.87</td>\n",
       "      <td>733.0</td>\n",
       "      <td>6000</td>\n",
       "      <td>34</td>\n",
       "      <td>0.0</td>\n",
       "      <td>0</td>\n",
       "      <td>0</td>\n",
       "      <td>55.0</td>\n",
       "      <td>0.753098</td>\n",
       "    </tr>\n",
       "    <tr>\n",
       "      <th>9</th>\n",
       "      <td>01/01/2015</td>\n",
       "      <td>Quarter1</td>\n",
       "      <td>sweing</td>\n",
       "      <td>Thursday</td>\n",
       "      <td>1</td>\n",
       "      <td>0.75</td>\n",
       "      <td>28.08</td>\n",
       "      <td>681.0</td>\n",
       "      <td>6900</td>\n",
       "      <td>45</td>\n",
       "      <td>0.0</td>\n",
       "      <td>0</td>\n",
       "      <td>0</td>\n",
       "      <td>57.5</td>\n",
       "      <td>0.750428</td>\n",
       "    </tr>\n",
       "  </tbody>\n",
       "</table>\n",
       "</div>"
      ],
      "text/plain": [
       "         date   quarter  department       day  team  targeted_productivity  \\\n",
       "0  01/01/2015  Quarter1      sweing  Thursday     8                   0.80   \n",
       "1  01/01/2015  Quarter1  finishing   Thursday     1                   0.75   \n",
       "2  01/01/2015  Quarter1      sweing  Thursday    11                   0.80   \n",
       "3  01/01/2015  Quarter1      sweing  Thursday    12                   0.80   \n",
       "4  01/01/2015  Quarter1      sweing  Thursday     6                   0.80   \n",
       "5  01/01/2015  Quarter1      sweing  Thursday     7                   0.80   \n",
       "6  01/01/2015  Quarter1  finishing   Thursday     2                   0.75   \n",
       "7  01/01/2015  Quarter1      sweing  Thursday     3                   0.75   \n",
       "8  01/01/2015  Quarter1      sweing  Thursday     2                   0.75   \n",
       "9  01/01/2015  Quarter1      sweing  Thursday     1                   0.75   \n",
       "\n",
       "     smv     wip  over_time  incentive  idle_time  idle_men  \\\n",
       "0  26.16  1108.0       7080         98        0.0         0   \n",
       "1   3.94     NaN        960          0        0.0         0   \n",
       "2  11.41   968.0       3660         50        0.0         0   \n",
       "3  11.41   968.0       3660         50        0.0         0   \n",
       "4  25.90  1170.0       1920         50        0.0         0   \n",
       "5  25.90   984.0       6720         38        0.0         0   \n",
       "6   3.94     NaN        960          0        0.0         0   \n",
       "7  28.08   795.0       6900         45        0.0         0   \n",
       "8  19.87   733.0       6000         34        0.0         0   \n",
       "9  28.08   681.0       6900         45        0.0         0   \n",
       "\n",
       "   no_of_style_change  no_of_workers  actual_productivity  \n",
       "0                   0           59.0             0.940725  \n",
       "1                   0            8.0             0.886500  \n",
       "2                   0           30.5             0.800570  \n",
       "3                   0           30.5             0.800570  \n",
       "4                   0           56.0             0.800382  \n",
       "5                   0           56.0             0.800125  \n",
       "6                   0            8.0             0.755167  \n",
       "7                   0           57.5             0.753683  \n",
       "8                   0           55.0             0.753098  \n",
       "9                   0           57.5             0.750428  "
      ]
     },
     "execution_count": 91,
     "metadata": {},
     "output_type": "execute_result"
    }
   ],
   "source": [
    "df = pd.read_csv('garments.csv')\n",
    "\n",
    "print(df.info())\n",
    "df.head(10)"
   ]
  },
  {
   "cell_type": "markdown",
   "id": "a7188cb0",
   "metadata": {},
   "source": [
    "Copy the Dataset"
   ]
  },
  {
   "cell_type": "code",
   "execution_count": 92,
   "id": "af0edf17",
   "metadata": {},
   "outputs": [],
   "source": [
    "df_copy = df"
   ]
  },
  {
   "cell_type": "markdown",
   "id": "7121b834",
   "metadata": {},
   "source": [
    "Remove Null Values"
   ]
  },
  {
   "cell_type": "code",
   "execution_count": 93,
   "id": "1ce836bb",
   "metadata": {},
   "outputs": [],
   "source": [
    "# remove null values\n",
    "df_copy['wip'] = df_copy['wip'].fillna(0)\n",
    "df_copy['wip'] = df_copy['wip'].astype(np.int64)"
   ]
  },
  {
   "cell_type": "markdown",
   "id": "d50964d4",
   "metadata": {},
   "source": [
    "Check spelling and remove whitespace"
   ]
  },
  {
   "cell_type": "code",
   "execution_count": 94,
   "id": "9e7f78e0",
   "metadata": {},
   "outputs": [],
   "source": [
    "# replace misspelled words and remove whitespace\n",
    "df_copy['department'] = df_copy['department'].str.replace('sweing', 'sewing')\n",
    "df_copy['department'] = df_copy['department'].str.strip()"
   ]
  },
  {
   "cell_type": "markdown",
   "id": "fd4e159c",
   "metadata": {},
   "source": [
    "Type Casting the `number of workers` column"
   ]
  },
  {
   "cell_type": "code",
   "execution_count": 95,
   "id": "d7bcb109",
   "metadata": {},
   "outputs": [],
   "source": [
    "# replace no of workers from float to int\n",
    "df_copy['no_of_workers'] = df_copy['no_of_workers'].astype(np.int64)"
   ]
  },
  {
   "cell_type": "markdown",
   "id": "7d2a1919",
   "metadata": {},
   "source": [
    "Addressing outliers in the `actual_productivity` column by setting the values that are higher than 1.0 to 1.0 since the `target_productivity` values are 0 to 1 only."
   ]
  },
  {
   "cell_type": "code",
   "execution_count": 96,
   "id": "fc571645",
   "metadata": {},
   "outputs": [],
   "source": [
    "# sets values of actual productivity that are higher than 1% to 1%\n",
    "df_copy['actual_productivity'] = np.where(df_copy['actual_productivity'] > 1.0, 1.0, df_copy['actual_productivity'])"
   ]
  },
  {
   "cell_type": "markdown",
   "id": "e1f5af39",
   "metadata": {},
   "source": [
    "Dropping the `date` column because it won't be used"
   ]
  },
  {
   "cell_type": "code",
   "execution_count": 97,
   "id": "984bf55c",
   "metadata": {},
   "outputs": [],
   "source": [
    "# drop date column\n",
    "df_copy = df.drop(columns = ['date'])"
   ]
  },
  {
   "cell_type": "markdown",
   "id": "905b55d2",
   "metadata": {},
   "source": [
    "Label Encoding the `quarter`, `department`, and `day` columns for the regression models to have a better understanding on the potential relationships and patterns in the data for predictive analysis."
   ]
  },
  {
   "cell_type": "code",
   "execution_count": 98,
   "id": "31ad703e",
   "metadata": {},
   "outputs": [],
   "source": [
    "# encode quarter into numerals \n",
    "#(0 : Quarter 1, 1: Quarter 2, 2: Quarter 3, 3: Quarter 4)\n",
    "label_enc = preprocessing.LabelEncoder()\n",
    "label_enc.fit_transform(df_copy['quarter'])\n",
    "df_copy['quarter'] = label_enc.transform(df_copy['quarter'])\n",
    "\n",
    "#(0 : finishing, 1: sewing)\n",
    "label_enc = LabelEncoder()\n",
    "label_enc.fit_transform(df_copy['department'])\n",
    "df_copy['department'] = label_enc.transform(df_copy['department'])\n",
    "\n",
    "#(0: Monday, 1: Tues, 2: Wed, 3: Thursday, 4: Friday, 5: Saturday, 6: Sunday)\n",
    "df_copy['day'] = label_enc.fit_transform(df['day'])"
   ]
  },
  {
   "cell_type": "code",
   "execution_count": 99,
   "id": "1e7a5a1d",
   "metadata": {},
   "outputs": [
    {
     "data": {
      "text/html": [
       "<div>\n",
       "<style scoped>\n",
       "    .dataframe tbody tr th:only-of-type {\n",
       "        vertical-align: middle;\n",
       "    }\n",
       "\n",
       "    .dataframe tbody tr th {\n",
       "        vertical-align: top;\n",
       "    }\n",
       "\n",
       "    .dataframe thead th {\n",
       "        text-align: right;\n",
       "    }\n",
       "</style>\n",
       "<table border=\"1\" class=\"dataframe\">\n",
       "  <thead>\n",
       "    <tr style=\"text-align: right;\">\n",
       "      <th></th>\n",
       "      <th>quarter</th>\n",
       "      <th>department</th>\n",
       "      <th>day</th>\n",
       "      <th>team</th>\n",
       "      <th>targeted_productivity</th>\n",
       "      <th>smv</th>\n",
       "      <th>wip</th>\n",
       "      <th>over_time</th>\n",
       "      <th>incentive</th>\n",
       "      <th>idle_time</th>\n",
       "      <th>idle_men</th>\n",
       "      <th>no_of_style_change</th>\n",
       "      <th>no_of_workers</th>\n",
       "      <th>actual_productivity</th>\n",
       "    </tr>\n",
       "  </thead>\n",
       "  <tbody>\n",
       "    <tr>\n",
       "      <th>0</th>\n",
       "      <td>0</td>\n",
       "      <td>1</td>\n",
       "      <td>3</td>\n",
       "      <td>8</td>\n",
       "      <td>0.80</td>\n",
       "      <td>26.16</td>\n",
       "      <td>1108</td>\n",
       "      <td>7080</td>\n",
       "      <td>98</td>\n",
       "      <td>0.0</td>\n",
       "      <td>0</td>\n",
       "      <td>0</td>\n",
       "      <td>59</td>\n",
       "      <td>0.940725</td>\n",
       "    </tr>\n",
       "    <tr>\n",
       "      <th>1</th>\n",
       "      <td>0</td>\n",
       "      <td>0</td>\n",
       "      <td>3</td>\n",
       "      <td>1</td>\n",
       "      <td>0.75</td>\n",
       "      <td>3.94</td>\n",
       "      <td>0</td>\n",
       "      <td>960</td>\n",
       "      <td>0</td>\n",
       "      <td>0.0</td>\n",
       "      <td>0</td>\n",
       "      <td>0</td>\n",
       "      <td>8</td>\n",
       "      <td>0.886500</td>\n",
       "    </tr>\n",
       "    <tr>\n",
       "      <th>2</th>\n",
       "      <td>0</td>\n",
       "      <td>1</td>\n",
       "      <td>3</td>\n",
       "      <td>11</td>\n",
       "      <td>0.80</td>\n",
       "      <td>11.41</td>\n",
       "      <td>968</td>\n",
       "      <td>3660</td>\n",
       "      <td>50</td>\n",
       "      <td>0.0</td>\n",
       "      <td>0</td>\n",
       "      <td>0</td>\n",
       "      <td>30</td>\n",
       "      <td>0.800570</td>\n",
       "    </tr>\n",
       "    <tr>\n",
       "      <th>3</th>\n",
       "      <td>0</td>\n",
       "      <td>1</td>\n",
       "      <td>3</td>\n",
       "      <td>12</td>\n",
       "      <td>0.80</td>\n",
       "      <td>11.41</td>\n",
       "      <td>968</td>\n",
       "      <td>3660</td>\n",
       "      <td>50</td>\n",
       "      <td>0.0</td>\n",
       "      <td>0</td>\n",
       "      <td>0</td>\n",
       "      <td>30</td>\n",
       "      <td>0.800570</td>\n",
       "    </tr>\n",
       "    <tr>\n",
       "      <th>4</th>\n",
       "      <td>0</td>\n",
       "      <td>1</td>\n",
       "      <td>3</td>\n",
       "      <td>6</td>\n",
       "      <td>0.80</td>\n",
       "      <td>25.90</td>\n",
       "      <td>1170</td>\n",
       "      <td>1920</td>\n",
       "      <td>50</td>\n",
       "      <td>0.0</td>\n",
       "      <td>0</td>\n",
       "      <td>0</td>\n",
       "      <td>56</td>\n",
       "      <td>0.800382</td>\n",
       "    </tr>\n",
       "    <tr>\n",
       "      <th>...</th>\n",
       "      <td>...</td>\n",
       "      <td>...</td>\n",
       "      <td>...</td>\n",
       "      <td>...</td>\n",
       "      <td>...</td>\n",
       "      <td>...</td>\n",
       "      <td>...</td>\n",
       "      <td>...</td>\n",
       "      <td>...</td>\n",
       "      <td>...</td>\n",
       "      <td>...</td>\n",
       "      <td>...</td>\n",
       "      <td>...</td>\n",
       "      <td>...</td>\n",
       "    </tr>\n",
       "    <tr>\n",
       "      <th>995</th>\n",
       "      <td>0</td>\n",
       "      <td>1</td>\n",
       "      <td>2</td>\n",
       "      <td>2</td>\n",
       "      <td>0.70</td>\n",
       "      <td>30.33</td>\n",
       "      <td>254</td>\n",
       "      <td>1800</td>\n",
       "      <td>0</td>\n",
       "      <td>0.0</td>\n",
       "      <td>0</td>\n",
       "      <td>0</td>\n",
       "      <td>58</td>\n",
       "      <td>0.683551</td>\n",
       "    </tr>\n",
       "    <tr>\n",
       "      <th>996</th>\n",
       "      <td>0</td>\n",
       "      <td>1</td>\n",
       "      <td>2</td>\n",
       "      <td>11</td>\n",
       "      <td>0.80</td>\n",
       "      <td>11.61</td>\n",
       "      <td>347</td>\n",
       "      <td>0</td>\n",
       "      <td>50</td>\n",
       "      <td>4.0</td>\n",
       "      <td>20</td>\n",
       "      <td>0</td>\n",
       "      <td>57</td>\n",
       "      <td>0.682433</td>\n",
       "    </tr>\n",
       "    <tr>\n",
       "      <th>997</th>\n",
       "      <td>0</td>\n",
       "      <td>0</td>\n",
       "      <td>2</td>\n",
       "      <td>4</td>\n",
       "      <td>0.60</td>\n",
       "      <td>3.94</td>\n",
       "      <td>0</td>\n",
       "      <td>960</td>\n",
       "      <td>0</td>\n",
       "      <td>0.0</td>\n",
       "      <td>0</td>\n",
       "      <td>0</td>\n",
       "      <td>8</td>\n",
       "      <td>0.673083</td>\n",
       "    </tr>\n",
       "    <tr>\n",
       "      <th>998</th>\n",
       "      <td>0</td>\n",
       "      <td>0</td>\n",
       "      <td>2</td>\n",
       "      <td>10</td>\n",
       "      <td>0.70</td>\n",
       "      <td>2.90</td>\n",
       "      <td>0</td>\n",
       "      <td>3360</td>\n",
       "      <td>0</td>\n",
       "      <td>0.0</td>\n",
       "      <td>0</td>\n",
       "      <td>0</td>\n",
       "      <td>8</td>\n",
       "      <td>0.664583</td>\n",
       "    </tr>\n",
       "    <tr>\n",
       "      <th>999</th>\n",
       "      <td>0</td>\n",
       "      <td>1</td>\n",
       "      <td>2</td>\n",
       "      <td>4</td>\n",
       "      <td>0.60</td>\n",
       "      <td>26.66</td>\n",
       "      <td>692</td>\n",
       "      <td>6840</td>\n",
       "      <td>23</td>\n",
       "      <td>0.0</td>\n",
       "      <td>0</td>\n",
       "      <td>0</td>\n",
       "      <td>57</td>\n",
       "      <td>0.600240</td>\n",
       "    </tr>\n",
       "  </tbody>\n",
       "</table>\n",
       "<p>1000 rows × 14 columns</p>\n",
       "</div>"
      ],
      "text/plain": [
       "     quarter  department  day  team  targeted_productivity    smv   wip  \\\n",
       "0          0           1    3     8                   0.80  26.16  1108   \n",
       "1          0           0    3     1                   0.75   3.94     0   \n",
       "2          0           1    3    11                   0.80  11.41   968   \n",
       "3          0           1    3    12                   0.80  11.41   968   \n",
       "4          0           1    3     6                   0.80  25.90  1170   \n",
       "..       ...         ...  ...   ...                    ...    ...   ...   \n",
       "995        0           1    2     2                   0.70  30.33   254   \n",
       "996        0           1    2    11                   0.80  11.61   347   \n",
       "997        0           0    2     4                   0.60   3.94     0   \n",
       "998        0           0    2    10                   0.70   2.90     0   \n",
       "999        0           1    2     4                   0.60  26.66   692   \n",
       "\n",
       "     over_time  incentive  idle_time  idle_men  no_of_style_change  \\\n",
       "0         7080         98        0.0         0                   0   \n",
       "1          960          0        0.0         0                   0   \n",
       "2         3660         50        0.0         0                   0   \n",
       "3         3660         50        0.0         0                   0   \n",
       "4         1920         50        0.0         0                   0   \n",
       "..         ...        ...        ...       ...                 ...   \n",
       "995       1800          0        0.0         0                   0   \n",
       "996          0         50        4.0        20                   0   \n",
       "997        960          0        0.0         0                   0   \n",
       "998       3360          0        0.0         0                   0   \n",
       "999       6840         23        0.0         0                   0   \n",
       "\n",
       "     no_of_workers  actual_productivity  \n",
       "0               59             0.940725  \n",
       "1                8             0.886500  \n",
       "2               30             0.800570  \n",
       "3               30             0.800570  \n",
       "4               56             0.800382  \n",
       "..             ...                  ...  \n",
       "995             58             0.683551  \n",
       "996             57             0.682433  \n",
       "997              8             0.673083  \n",
       "998              8             0.664583  \n",
       "999             57             0.600240  \n",
       "\n",
       "[1000 rows x 14 columns]"
      ]
     },
     "execution_count": 99,
     "metadata": {},
     "output_type": "execute_result"
    }
   ],
   "source": [
    "df_copy.head(1000)"
   ]
  },
  {
   "cell_type": "markdown",
   "id": "b7be2e13",
   "metadata": {},
   "source": [
    "## **Section 5: Exploratory data analysis**\n",
    "\n",
    "<p>\n",
    "The next part of this notebook involves performing Exploratory Data Analysis (EDA) in order to investigate, understand, and visualize the garments dataset. This part will include essential information on the format and metadata of the dataset, the data types of each feature, distribution, relationships, and visualizations of the features. "
   ]
  },
  {
   "cell_type": "markdown",
   "id": "c2f53e71",
   "metadata": {},
   "source": [
    "### **Format and Metadata**\n",
    "Each observation/row represents a set of attributes that may contribute to the overall productivity of a single group of workers under a department for a certain day and quarter."
   ]
  },
  {
   "cell_type": "code",
   "execution_count": 100,
   "id": "1cdf7d95",
   "metadata": {},
   "outputs": [
    {
     "data": {
      "text/html": [
       "<div>\n",
       "<style scoped>\n",
       "    .dataframe tbody tr th:only-of-type {\n",
       "        vertical-align: middle;\n",
       "    }\n",
       "\n",
       "    .dataframe tbody tr th {\n",
       "        vertical-align: top;\n",
       "    }\n",
       "\n",
       "    .dataframe thead th {\n",
       "        text-align: right;\n",
       "    }\n",
       "</style>\n",
       "<table border=\"1\" class=\"dataframe\">\n",
       "  <thead>\n",
       "    <tr style=\"text-align: right;\">\n",
       "      <th></th>\n",
       "      <th>quarter</th>\n",
       "      <th>department</th>\n",
       "      <th>day</th>\n",
       "      <th>team</th>\n",
       "      <th>targeted_productivity</th>\n",
       "      <th>smv</th>\n",
       "      <th>wip</th>\n",
       "      <th>over_time</th>\n",
       "      <th>incentive</th>\n",
       "      <th>idle_time</th>\n",
       "      <th>idle_men</th>\n",
       "      <th>no_of_style_change</th>\n",
       "      <th>no_of_workers</th>\n",
       "      <th>actual_productivity</th>\n",
       "    </tr>\n",
       "  </thead>\n",
       "  <tbody>\n",
       "    <tr>\n",
       "      <th>0</th>\n",
       "      <td>0</td>\n",
       "      <td>1</td>\n",
       "      <td>3</td>\n",
       "      <td>8</td>\n",
       "      <td>0.80</td>\n",
       "      <td>26.16</td>\n",
       "      <td>1108</td>\n",
       "      <td>7080</td>\n",
       "      <td>98</td>\n",
       "      <td>0.0</td>\n",
       "      <td>0</td>\n",
       "      <td>0</td>\n",
       "      <td>59</td>\n",
       "      <td>0.940725</td>\n",
       "    </tr>\n",
       "    <tr>\n",
       "      <th>1</th>\n",
       "      <td>0</td>\n",
       "      <td>0</td>\n",
       "      <td>3</td>\n",
       "      <td>1</td>\n",
       "      <td>0.75</td>\n",
       "      <td>3.94</td>\n",
       "      <td>0</td>\n",
       "      <td>960</td>\n",
       "      <td>0</td>\n",
       "      <td>0.0</td>\n",
       "      <td>0</td>\n",
       "      <td>0</td>\n",
       "      <td>8</td>\n",
       "      <td>0.886500</td>\n",
       "    </tr>\n",
       "    <tr>\n",
       "      <th>2</th>\n",
       "      <td>0</td>\n",
       "      <td>1</td>\n",
       "      <td>3</td>\n",
       "      <td>11</td>\n",
       "      <td>0.80</td>\n",
       "      <td>11.41</td>\n",
       "      <td>968</td>\n",
       "      <td>3660</td>\n",
       "      <td>50</td>\n",
       "      <td>0.0</td>\n",
       "      <td>0</td>\n",
       "      <td>0</td>\n",
       "      <td>30</td>\n",
       "      <td>0.800570</td>\n",
       "    </tr>\n",
       "    <tr>\n",
       "      <th>3</th>\n",
       "      <td>0</td>\n",
       "      <td>1</td>\n",
       "      <td>3</td>\n",
       "      <td>12</td>\n",
       "      <td>0.80</td>\n",
       "      <td>11.41</td>\n",
       "      <td>968</td>\n",
       "      <td>3660</td>\n",
       "      <td>50</td>\n",
       "      <td>0.0</td>\n",
       "      <td>0</td>\n",
       "      <td>0</td>\n",
       "      <td>30</td>\n",
       "      <td>0.800570</td>\n",
       "    </tr>\n",
       "    <tr>\n",
       "      <th>4</th>\n",
       "      <td>0</td>\n",
       "      <td>1</td>\n",
       "      <td>3</td>\n",
       "      <td>6</td>\n",
       "      <td>0.80</td>\n",
       "      <td>25.90</td>\n",
       "      <td>1170</td>\n",
       "      <td>1920</td>\n",
       "      <td>50</td>\n",
       "      <td>0.0</td>\n",
       "      <td>0</td>\n",
       "      <td>0</td>\n",
       "      <td>56</td>\n",
       "      <td>0.800382</td>\n",
       "    </tr>\n",
       "    <tr>\n",
       "      <th>5</th>\n",
       "      <td>0</td>\n",
       "      <td>1</td>\n",
       "      <td>3</td>\n",
       "      <td>7</td>\n",
       "      <td>0.80</td>\n",
       "      <td>25.90</td>\n",
       "      <td>984</td>\n",
       "      <td>6720</td>\n",
       "      <td>38</td>\n",
       "      <td>0.0</td>\n",
       "      <td>0</td>\n",
       "      <td>0</td>\n",
       "      <td>56</td>\n",
       "      <td>0.800125</td>\n",
       "    </tr>\n",
       "    <tr>\n",
       "      <th>6</th>\n",
       "      <td>0</td>\n",
       "      <td>0</td>\n",
       "      <td>3</td>\n",
       "      <td>2</td>\n",
       "      <td>0.75</td>\n",
       "      <td>3.94</td>\n",
       "      <td>0</td>\n",
       "      <td>960</td>\n",
       "      <td>0</td>\n",
       "      <td>0.0</td>\n",
       "      <td>0</td>\n",
       "      <td>0</td>\n",
       "      <td>8</td>\n",
       "      <td>0.755167</td>\n",
       "    </tr>\n",
       "    <tr>\n",
       "      <th>7</th>\n",
       "      <td>0</td>\n",
       "      <td>1</td>\n",
       "      <td>3</td>\n",
       "      <td>3</td>\n",
       "      <td>0.75</td>\n",
       "      <td>28.08</td>\n",
       "      <td>795</td>\n",
       "      <td>6900</td>\n",
       "      <td>45</td>\n",
       "      <td>0.0</td>\n",
       "      <td>0</td>\n",
       "      <td>0</td>\n",
       "      <td>57</td>\n",
       "      <td>0.753683</td>\n",
       "    </tr>\n",
       "    <tr>\n",
       "      <th>8</th>\n",
       "      <td>0</td>\n",
       "      <td>1</td>\n",
       "      <td>3</td>\n",
       "      <td>2</td>\n",
       "      <td>0.75</td>\n",
       "      <td>19.87</td>\n",
       "      <td>733</td>\n",
       "      <td>6000</td>\n",
       "      <td>34</td>\n",
       "      <td>0.0</td>\n",
       "      <td>0</td>\n",
       "      <td>0</td>\n",
       "      <td>55</td>\n",
       "      <td>0.753098</td>\n",
       "    </tr>\n",
       "    <tr>\n",
       "      <th>9</th>\n",
       "      <td>0</td>\n",
       "      <td>1</td>\n",
       "      <td>3</td>\n",
       "      <td>1</td>\n",
       "      <td>0.75</td>\n",
       "      <td>28.08</td>\n",
       "      <td>681</td>\n",
       "      <td>6900</td>\n",
       "      <td>45</td>\n",
       "      <td>0.0</td>\n",
       "      <td>0</td>\n",
       "      <td>0</td>\n",
       "      <td>57</td>\n",
       "      <td>0.750428</td>\n",
       "    </tr>\n",
       "  </tbody>\n",
       "</table>\n",
       "</div>"
      ],
      "text/plain": [
       "   quarter  department  day  team  targeted_productivity    smv   wip  \\\n",
       "0        0           1    3     8                   0.80  26.16  1108   \n",
       "1        0           0    3     1                   0.75   3.94     0   \n",
       "2        0           1    3    11                   0.80  11.41   968   \n",
       "3        0           1    3    12                   0.80  11.41   968   \n",
       "4        0           1    3     6                   0.80  25.90  1170   \n",
       "5        0           1    3     7                   0.80  25.90   984   \n",
       "6        0           0    3     2                   0.75   3.94     0   \n",
       "7        0           1    3     3                   0.75  28.08   795   \n",
       "8        0           1    3     2                   0.75  19.87   733   \n",
       "9        0           1    3     1                   0.75  28.08   681   \n",
       "\n",
       "   over_time  incentive  idle_time  idle_men  no_of_style_change  \\\n",
       "0       7080         98        0.0         0                   0   \n",
       "1        960          0        0.0         0                   0   \n",
       "2       3660         50        0.0         0                   0   \n",
       "3       3660         50        0.0         0                   0   \n",
       "4       1920         50        0.0         0                   0   \n",
       "5       6720         38        0.0         0                   0   \n",
       "6        960          0        0.0         0                   0   \n",
       "7       6900         45        0.0         0                   0   \n",
       "8       6000         34        0.0         0                   0   \n",
       "9       6900         45        0.0         0                   0   \n",
       "\n",
       "   no_of_workers  actual_productivity  \n",
       "0             59             0.940725  \n",
       "1              8             0.886500  \n",
       "2             30             0.800570  \n",
       "3             30             0.800570  \n",
       "4             56             0.800382  \n",
       "5             56             0.800125  \n",
       "6              8             0.755167  \n",
       "7             57             0.753683  \n",
       "8             55             0.753098  \n",
       "9             57             0.750428  "
      ]
     },
     "execution_count": 100,
     "metadata": {},
     "output_type": "execute_result"
    }
   ],
   "source": [
    "df_copy.head(10)"
   ]
  },
  {
   "cell_type": "markdown",
   "id": "c92b2c54",
   "metadata": {},
   "source": [
    "###   **Data type  for Each Feature**"
   ]
  },
  {
   "cell_type": "code",
   "execution_count": 101,
   "id": "e0647e8b",
   "metadata": {},
   "outputs": [
    {
     "data": {
      "text/html": [
       "<div>\n",
       "<style scoped>\n",
       "    .dataframe tbody tr th:only-of-type {\n",
       "        vertical-align: middle;\n",
       "    }\n",
       "\n",
       "    .dataframe tbody tr th {\n",
       "        vertical-align: top;\n",
       "    }\n",
       "\n",
       "    .dataframe thead th {\n",
       "        text-align: right;\n",
       "    }\n",
       "</style>\n",
       "<table border=\"1\" class=\"dataframe\">\n",
       "  <thead>\n",
       "    <tr style=\"text-align: right;\">\n",
       "      <th></th>\n",
       "      <th>feature</th>\n",
       "      <th>data_type</th>\n",
       "    </tr>\n",
       "  </thead>\n",
       "  <tbody>\n",
       "    <tr>\n",
       "      <th>0</th>\n",
       "      <td>quarter</td>\n",
       "      <td>int32</td>\n",
       "    </tr>\n",
       "    <tr>\n",
       "      <th>1</th>\n",
       "      <td>department</td>\n",
       "      <td>int32</td>\n",
       "    </tr>\n",
       "    <tr>\n",
       "      <th>2</th>\n",
       "      <td>day</td>\n",
       "      <td>int32</td>\n",
       "    </tr>\n",
       "    <tr>\n",
       "      <th>3</th>\n",
       "      <td>team</td>\n",
       "      <td>int64</td>\n",
       "    </tr>\n",
       "    <tr>\n",
       "      <th>4</th>\n",
       "      <td>targeted_productivity</td>\n",
       "      <td>float64</td>\n",
       "    </tr>\n",
       "    <tr>\n",
       "      <th>5</th>\n",
       "      <td>smv</td>\n",
       "      <td>float64</td>\n",
       "    </tr>\n",
       "    <tr>\n",
       "      <th>6</th>\n",
       "      <td>wip</td>\n",
       "      <td>int64</td>\n",
       "    </tr>\n",
       "    <tr>\n",
       "      <th>7</th>\n",
       "      <td>over_time</td>\n",
       "      <td>int64</td>\n",
       "    </tr>\n",
       "    <tr>\n",
       "      <th>8</th>\n",
       "      <td>incentive</td>\n",
       "      <td>int64</td>\n",
       "    </tr>\n",
       "    <tr>\n",
       "      <th>9</th>\n",
       "      <td>idle_time</td>\n",
       "      <td>float64</td>\n",
       "    </tr>\n",
       "    <tr>\n",
       "      <th>10</th>\n",
       "      <td>idle_men</td>\n",
       "      <td>int64</td>\n",
       "    </tr>\n",
       "    <tr>\n",
       "      <th>11</th>\n",
       "      <td>no_of_style_change</td>\n",
       "      <td>int64</td>\n",
       "    </tr>\n",
       "    <tr>\n",
       "      <th>12</th>\n",
       "      <td>no_of_workers</td>\n",
       "      <td>int64</td>\n",
       "    </tr>\n",
       "    <tr>\n",
       "      <th>13</th>\n",
       "      <td>actual_productivity</td>\n",
       "      <td>float64</td>\n",
       "    </tr>\n",
       "  </tbody>\n",
       "</table>\n",
       "</div>"
      ],
      "text/plain": [
       "                  feature data_type\n",
       "0                 quarter     int32\n",
       "1              department     int32\n",
       "2                     day     int32\n",
       "3                    team     int64\n",
       "4   targeted_productivity   float64\n",
       "5                     smv   float64\n",
       "6                     wip     int64\n",
       "7               over_time     int64\n",
       "8               incentive     int64\n",
       "9               idle_time   float64\n",
       "10               idle_men     int64\n",
       "11     no_of_style_change     int64\n",
       "12          no_of_workers     int64\n",
       "13    actual_productivity   float64"
      ]
     },
     "execution_count": 101,
     "metadata": {},
     "output_type": "execute_result"
    }
   ],
   "source": [
    "features_info = df_copy.dtypes.reset_index().rename(columns={0: 'data_type'})\n",
    "features_info.columns = ['feature', 'data_type']\n",
    "\n",
    "features_info"
   ]
  },
  {
   "cell_type": "markdown",
   "id": "9011522c",
   "metadata": {},
   "source": [
    "### **Distribution of Different Features**\n",
    "Showing the distribution of the features necessary for the objective of this notebook will allow us to see how the values of a certain feature are spread, arranged, or frequent, giving us a visual summary of the data and see some pattern/trend."
   ]
  },
  {
   "cell_type": "code",
   "execution_count": 102,
   "id": "1ef153db",
   "metadata": {},
   "outputs": [
    {
     "data": {
      "image/png": "[encoded data removed]",
      "text/plain": [
       "<Figure size 1500x2000 with 14 Axes>"
      ]
     },
     "metadata": {},
     "output_type": "display_data"
    }
   ],
   "source": [
    "features = df_copy.columns.tolist()\n",
    "\n",
    "fig, axs = plt.subplots(nrows=7, ncols=2, figsize=(15, 20))\n",
    "\n",
    "for i, feature in enumerate(features):\n",
    "    row = i // 2\n",
    "    col = i % 2\n",
    "    sns.histplot(df[feature], kde=False, ax=axs[row, col])\n",
    "    axs[row, col].set_title(f'Distribution of {feature}')\n",
    "\n",
    "# If the number of features is odd, we remove the last subplot\n",
    "if len(features) % 2 != 0:\n",
    "    fig.delaxes(axs[row, col+1])\n",
    "\n",
    "plt.tight_layout()\n",
    "plt.show()"
   ]
  },
  {
   "cell_type": "markdown",
   "id": "c7ddbf94",
   "metadata": {},
   "source": [
    "### **Checking for Outliers** <p>\n",
    "Comment: not sure if we need to remove outliers"
   ]
  },
  {
   "cell_type": "code",
   "execution_count": 103,
   "id": "99c1b30c",
   "metadata": {},
   "outputs": [
    {
     "data": {
      "text/plain": [
       "(array([-5000.,     0.,  5000., 10000., 15000., 20000., 25000., 30000.]),\n",
       " [Text(-5000.0, 0, '−5000'),\n",
       "  Text(0.0, 0, '0'),\n",
       "  Text(5000.0, 0, '5000'),\n",
       "  Text(10000.0, 0, '10000'),\n",
       "  Text(15000.0, 0, '15000'),\n",
       "  Text(20000.0, 0, '20000'),\n",
       "  Text(25000.0, 0, '25000'),\n",
       "  Text(30000.0, 0, '30000')])"
      ]
     },
     "execution_count": 103,
     "metadata": {},
     "output_type": "execute_result"
    },
    {
     "data": {
      "image/png": "[encoded data removed]",
      "text/plain": [
       "<Figure size 1000x500 with 1 Axes>"
      ]
     },
     "metadata": {},
     "output_type": "display_data"
    }
   ],
   "source": [
    "plt.figure(figsize=(10,5))\n",
    "p = sns.boxplot(data = df_copy, orient ='h',width=0.8)\n",
    "plt.xticks(rotation=90)"
   ]
  },
  {
   "cell_type": "markdown",
   "id": "cf90d23e",
   "metadata": {},
   "source": [
    "### **Actual and Targeted Productivity over Quarter** <p>\n",
    "\n",
    "This graph is only a visual guide to show how the targeted productivity compares to the actual productivity."
   ]
  },
  {
   "cell_type": "code",
   "execution_count": 104,
   "id": "2c3435de",
   "metadata": {},
   "outputs": [
    {
     "data": {
      "image/png": "[encoded data removed]",
      "text/plain": [
       "<Figure size 640x480 with 1 Axes>"
      ]
     },
     "metadata": {},
     "output_type": "display_data"
    }
   ],
   "source": [
    "sns.histplot(data=df_copy[['targeted_productivity', 'actual_productivity']], element='poly')\n",
    "plt.show()"
   ]
  },
  {
   "cell_type": "markdown",
   "id": "9d535cd5",
   "metadata": {},
   "source": [
    "### **Feature Selecting**\n",
    "In this section, we will check the correlation of the features to determine which features have an contributes to the productivity value. Since all of the data in the `df_copy` are numerical, we can check its correlation with all of the features using a heatmap."
   ]
  },
  {
   "cell_type": "code",
   "execution_count": 105,
   "id": "b2aa296b",
   "metadata": {},
   "outputs": [
    {
     "data": {
      "image/png": "[encoded data removed]",
      "text/plain": [
       "<Figure size 1500x600 with 2 Axes>"
      ]
     },
     "metadata": {},
     "output_type": "display_data"
    }
   ],
   "source": [
    "corrMatrix = df_copy.corr()\n",
    "\n",
    "fig, ax = plt.subplots(figsize=(15,6)) \n",
    "sns.heatmap(corrMatrix, annot=True, linewidths=.5, ax=ax)\n",
    "plt.show()"
   ]
  },
  {
   "cell_type": "markdown",
   "id": "c5f0ee13",
   "metadata": {},
   "source": [
    "This heatmap shows that the `number_of_workers`, `department`, and `smv` are have high correlations coefficient. "
   ]
  },
  {
   "cell_type": "code",
   "execution_count": 106,
   "id": "48692979",
   "metadata": {},
   "outputs": [
    {
     "data": {
      "image/png": "[encoded data removed]",
      "text/plain": [
       "<Figure size 500x1000 with 2 Axes>"
      ]
     },
     "metadata": {},
     "output_type": "display_data"
    }
   ],
   "source": [
    "corrMatrix = df_copy.corr()\n",
    "\n",
    "plt.figure(figsize=(5, 10))\n",
    "heatmap = sns.heatmap(corrMatrix[['actual_productivity']].sort_values(by='actual_productivity', ascending=False), vmin=-1, vmax=1, annot=True, cmap='BrBG')\n",
    "heatmap.set_title('Actual Productivity Feature Correlation', fontdict={'fontsize':18}, pad=16);"
   ]
  },
  {
   "cell_type": "markdown",
   "id": "832b3a76",
   "metadata": {},
   "source": [
    "This graph shows that the `targeted_productivity`, `incentive` , and `wip`  features have a high correlation coefficient potentially signifying a relationship or dependency to the `actual_productivity`."
   ]
  },
  {
   "cell_type": "markdown",
   "id": "c78a23ea",
   "metadata": {},
   "source": [
    "### **Data Splitting**\n",
    "\n",
    "<p>\n",
    "\n",
    "The dataset is split into 70% Training Set, and 30% Testing Set"
   ]
  },
  {
   "cell_type": "code",
   "execution_count": 107,
   "id": "c5e4cb0f",
   "metadata": {},
   "outputs": [
    {
     "name": "stdout",
     "output_type": "stream",
     "text": [
      "(957, 13)\n",
      "(957,)\n",
      "(120, 13)\n",
      "(120,)\n",
      "(120, 13)\n",
      "(120,)\n"
     ]
    }
   ],
   "source": [
    "from sklearn.model_selection import train_test_split\n",
    "\n",
    "x = df_copy.drop(['actual_productivity'], axis=1)\n",
    "y = df_copy.actual_productivity\n",
    "\n",
    "# Split the data into training set (80% of the data) and temp set (20% of the data)\n",
    "x_train, x_temp, y_train, y_temp = train_test_split(x, y, test_size = 0.2, random_state=42) \n",
    "\n",
    "# Then split the temp set into validation set (50% of the temp data) and test set (50% of the temp data)\n",
    "x_val, x_test, y_val, y_test = train_test_split(x_temp, y_temp, test_size = 0.5, random_state=42)\n",
    "\n",
    "print(x_train.shape)\n",
    "print(y_train.shape)\n",
    "\n",
    "print(x_val.shape)\n",
    "print(y_val.shape)\n",
    "\n",
    "print(x_test.shape)\n",
    "print(y_test.shape)"
   ]
  },
  {
   "cell_type": "markdown",
   "id": "c006e9e9",
   "metadata": {},
   "source": [
    "## **Section 6: Model training**\n",
    "\n",
    "In this section, we will be using regression models to predict the productivity of the garment workers. <br>\n",
    "\n",
    "The models are as followed: <br>\n",
    "- **Model 1:** Linear Regression <br>\n",
    "- **Model 2:** Lasso Regression <br>\n",
    "- **Model 3:** Ridge Regression <br>\n",
    "- **Model 4:** Decision Tree Regression <br>\n",
    "- **Model 5:** Random Forest Regression <br>"
   ]
  },
  {
   "cell_type": "markdown",
   "id": "1ba06b87",
   "metadata": {},
   "source": [
    "Use machine learning models to accomplish your chosen task for the dataset. In this section of the notebook, please take note of the following:\n",
    "- The project should train and evaluate at least 3 different kinds of machine learning models.\n",
    "- Each model should be appropriate in accomplishing the chosen task for the dataset. There should be a clear and correct justification on the use of each machine learning model.\n",
    "- Make sure that the values of the hyperparameters of each model are mentioned. At the minimum, the optimizer, the learning rate, and the learning rate schedule should be discussed per model.\n",
    "- The report should show that the models are not overfitting nor underfitting."
   ]
  },
  {
   "cell_type": "markdown",
   "id": "7251919e",
   "metadata": {},
   "source": [
    "### **Model 1: Linear Regression** <p>\n",
    "\n",
    "The first model that we will use is the **Linear Regression** model. This will help us understand and predict the features that affect the actual productivity of the garment workers. "
   ]
  },
  {
   "cell_type": "code",
   "execution_count": 108,
   "id": "7540c456",
   "metadata": {},
   "outputs": [],
   "source": [
    "from sklearn.linear_model import LinearRegression\n",
    "\n",
    "lr_model = LinearRegression(fit_intercept=True)"
   ]
  },
  {
   "cell_type": "code",
   "execution_count": 109,
   "id": "d8233167",
   "metadata": {},
   "outputs": [
    {
     "data": {
      "text/html": [
       "<style>#sk-container-id-10 {color: black;}#sk-container-id-10 pre{padding: 0;}#sk-container-id-10 div.sk-toggleable {background-color: white;}#sk-container-id-10 label.sk-toggleable__label {cursor: pointer;display: block;width: 100%;margin-bottom: 0;padding: 0.3em;box-sizing: border-box;text-align: center;}#sk-container-id-10 label.sk-toggleable__label-arrow:before {content: \"▸\";float: left;margin-right: 0.25em;color: #696969;}#sk-container-id-10 label.sk-toggleable__label-arrow:hover:before {color: black;}#sk-container-id-10 div.sk-estimator:hover label.sk-toggleable__label-arrow:before {color: black;}#sk-container-id-10 div.sk-toggleable__content {max-height: 0;max-width: 0;overflow: hidden;text-align: left;background-color: #f0f8ff;}#sk-container-id-10 div.sk-toggleable__content pre {margin: 0.2em;color: black;border-radius: 0.25em;background-color: #f0f8ff;}#sk-container-id-10 input.sk-toggleable__control:checked~div.sk-toggleable__content {max-height: 200px;max-width: 100%;overflow: auto;}#sk-container-id-10 input.sk-toggleable__control:checked~label.sk-toggleable__label-arrow:before {content: \"▾\";}#sk-container-id-10 div.sk-estimator input.sk-toggleable__control:checked~label.sk-toggleable__label {background-color: #d4ebff;}#sk-container-id-10 div.sk-label input.sk-toggleable__control:checked~label.sk-toggleable__label {background-color: #d4ebff;}#sk-container-id-10 input.sk-hidden--visually {border: 0;clip: rect(1px 1px 1px 1px);clip: rect(1px, 1px, 1px, 1px);height: 1px;margin: -1px;overflow: hidden;padding: 0;position: absolute;width: 1px;}#sk-container-id-10 div.sk-estimator {font-family: monospace;background-color: #f0f8ff;border: 1px dotted black;border-radius: 0.25em;box-sizing: border-box;margin-bottom: 0.5em;}#sk-container-id-10 div.sk-estimator:hover {background-color: #d4ebff;}#sk-container-id-10 div.sk-parallel-item::after {content: \"\";width: 100%;border-bottom: 1px solid gray;flex-grow: 1;}#sk-container-id-10 div.sk-label:hover label.sk-toggleable__label {background-color: #d4ebff;}#sk-container-id-10 div.sk-serial::before {content: \"\";position: absolute;border-left: 1px solid gray;box-sizing: border-box;top: 0;bottom: 0;left: 50%;z-index: 0;}#sk-container-id-10 div.sk-serial {display: flex;flex-direction: column;align-items: center;background-color: white;padding-right: 0.2em;padding-left: 0.2em;position: relative;}#sk-container-id-10 div.sk-item {position: relative;z-index: 1;}#sk-container-id-10 div.sk-parallel {display: flex;align-items: stretch;justify-content: center;background-color: white;position: relative;}#sk-container-id-10 div.sk-item::before, #sk-container-id-10 div.sk-parallel-item::before {content: \"\";position: absolute;border-left: 1px solid gray;box-sizing: border-box;top: 0;bottom: 0;left: 50%;z-index: -1;}#sk-container-id-10 div.sk-parallel-item {display: flex;flex-direction: column;z-index: 1;position: relative;background-color: white;}#sk-container-id-10 div.sk-parallel-item:first-child::after {align-self: flex-end;width: 50%;}#sk-container-id-10 div.sk-parallel-item:last-child::after {align-self: flex-start;width: 50%;}#sk-container-id-10 div.sk-parallel-item:only-child::after {width: 0;}#sk-container-id-10 div.sk-dashed-wrapped {border: 1px dashed gray;margin: 0 0.4em 0.5em 0.4em;box-sizing: border-box;padding-bottom: 0.4em;background-color: white;}#sk-container-id-10 div.sk-label label {font-family: monospace;font-weight: bold;display: inline-block;line-height: 1.2em;}#sk-container-id-10 div.sk-label-container {text-align: center;}#sk-container-id-10 div.sk-container {/* jupyter's `normalize.less` sets `[hidden] { display: none; }` but bootstrap.min.css set `[hidden] { display: none !important; }` so we also need the `!important` here to be able to override the default hidden behavior on the sphinx rendered scikit-learn.org. See: https://github.com/scikit-learn/scikit-learn/issues/21755 */display: inline-block !important;position: relative;}#sk-container-id-10 div.sk-text-repr-fallback {display: none;}</style><div id=\"sk-container-id-10\" class=\"sk-top-container\"><div class=\"sk-text-repr-fallback\"><pre>LinearRegression()</pre><b>In a Jupyter environment, please rerun this cell to show the HTML representation or trust the notebook. <br />On GitHub, the HTML representation is unable to render, please try loading this page with nbviewer.org.</b></div><div class=\"sk-container\" hidden><div class=\"sk-item\"><div class=\"sk-estimator sk-toggleable\"><input class=\"sk-toggleable__control sk-hidden--visually\" id=\"sk-estimator-id-14\" type=\"checkbox\" checked><label for=\"sk-estimator-id-14\" class=\"sk-toggleable__label sk-toggleable__label-arrow\">LinearRegression</label><div class=\"sk-toggleable__content\"><pre>LinearRegression()</pre></div></div></div></div></div>"
      ],
      "text/plain": [
       "LinearRegression()"
      ]
     },
     "execution_count": 109,
     "metadata": {},
     "output_type": "execute_result"
    }
   ],
   "source": [
    "lr_model.fit(x_train, y_train)"
   ]
  },
  {
   "cell_type": "markdown",
   "id": "b25960b7",
   "metadata": {},
   "source": [
    "**Predicting on Train Set**"
   ]
  },
  {
   "cell_type": "code",
   "execution_count": 110,
   "id": "625b12cf",
   "metadata": {},
   "outputs": [],
   "source": [
    "lr_train_pred = lr_model.predict(x_train)"
   ]
  },
  {
   "cell_type": "code",
   "execution_count": 111,
   "id": "5e89aaf7",
   "metadata": {},
   "outputs": [
    {
     "name": "stdout",
     "output_type": "stream",
     "text": [
      "LINEAR REGRESSION TRAIN SET PREDICTION\n",
      "Train Mean Absolute Error: 0.10690442920522784\n",
      "Train Mean Squared Error: 0.021673534015032005\n",
      "Train Root Mean Squared Error: 0.14721933981319169\n",
      "Train R-squared: 0.2986657164579225\n"
     ]
    }
   ],
   "source": [
    "mae_lr_train = mean_absolute_error(y_train, lr_train_pred)\n",
    "mse_lr_train = mean_squared_error(y_train, lr_train_pred)\n",
    "rmse_lr_train = compute_RMSE(y_train, lr_train_pred)\n",
    "r2_lr_train = r2_score(y_train, lr_train_pred)\n",
    "\n",
    "print(\"LINEAR REGRESSION TRAIN SET PREDICTION\")\n",
    "print(f\"Train Mean Absolute Error: {mae_lr_train}\")\n",
    "print(f\"Train Mean Squared Error: {mse_lr_train}\")\n",
    "print(f\"Train Root Mean Squared Error: {rmse_lr_train}\")\n",
    "print(f\"Train R-squared: {r2_lr_train}\")"
   ]
  },
  {
   "cell_type": "markdown",
   "id": "ac943f20",
   "metadata": {},
   "source": [
    "**Predicting on Validation Set**"
   ]
  },
  {
   "cell_type": "code",
   "execution_count": 112,
   "id": "9113800a",
   "metadata": {},
   "outputs": [],
   "source": [
    "lr_val_pred = lr_model.predict(x_val)"
   ]
  },
  {
   "cell_type": "code",
   "execution_count": 113,
   "id": "db43c268",
   "metadata": {},
   "outputs": [
    {
     "name": "stdout",
     "output_type": "stream",
     "text": [
      "LINEAR REGRESSION VALIDATION SET PREDICTION\n",
      "LR Mean Absolute Error: 0.09595815539412558\n",
      "LR Mean Squared Error: 0.01678438125462354\n",
      "LR Root Mean Squared Error: 0.1295545493397416\n",
      "LR R-squared: 0.27952064107355323\n"
     ]
    }
   ],
   "source": [
    "\n",
    "mae_lr = mean_absolute_error(y_val, lr_val_pred)\n",
    "mse_lr = mean_squared_error(y_val, lr_val_pred)\n",
    "rmse_lr = compute_RMSE(y_val, lr_val_pred)\n",
    "r2_lr = r2_score(y_val, lr_val_pred)\n",
    "\n",
    "print(\"LINEAR REGRESSION VALIDATION SET PREDICTION\")\n",
    "print(f\"LR Mean Absolute Error: {mae_lr}\")\n",
    "print(f\"LR Mean Squared Error: {mse_lr}\")\n",
    "print(f\"LR Root Mean Squared Error: {rmse_lr}\")\n",
    "print(f\"LR R-squared: {r2_lr}\")"
   ]
  },
  {
   "cell_type": "markdown",
   "metadata": {},
   "source": [
    "| LINEAR REGRESSION | TRAIN SET PREDICTION | VALIDATION SET PREDICTION |\n",
    "|-------------------|----------------------|---------------------------|\n",
    "| Mean Absolute Error: | 0.10690442920522784 | 0.09595815539412558 |\n",
    "| Mean Squared Error: | 0.021673534015032005 | 0.01678438125462354 |\n",
    "| Root Mean Squared Error: | 0.14721933981319169 | 0.1295545493397416 |\n",
    "| R-squared: | 0.2986657164579225 | 0.27952064107355323 |"
   ]
  },
  {
   "cell_type": "markdown",
   "id": "8236f22a",
   "metadata": {},
   "source": [
    "**Linear Regression Model Result:** The Linear Regression model has similar performance on both the training and validation sets, with a slightly higher error on the training set. This suggests that the model is neither significantly overfitting nor underfitting, but there might be room for improvement as the R-squared values are below 0.3 for both sets, indicating that the model explains less than 30% of the variance in the target variable."
   ]
  },
  {
   "cell_type": "markdown",
   "id": "88001636",
   "metadata": {},
   "source": [
    "### **Model 2: Lasso Regression** <p>\n",
    "\n",
    "The next model that we will use is the **Lasso Regression** model. We decided to use Lasso Regression because it automatically selects and sets the features that have low coefficient to zero, meaning that into account the most significant features that highly impact the productivity of the garment workers. It will also help reduce any instances of overfitting. "
   ]
  },
  {
   "cell_type": "code",
   "execution_count": 114,
   "id": "24ca7d7d",
   "metadata": {},
   "outputs": [],
   "source": [
    "from sklearn.linear_model import Lasso\n",
    "\n",
    "lasso_model = Lasso(random_state=None)"
   ]
  },
  {
   "cell_type": "code",
   "execution_count": 115,
   "id": "53f4f528",
   "metadata": {},
   "outputs": [
    {
     "data": {
      "text/html": [
       "<style>#sk-container-id-11 {color: black;}#sk-container-id-11 pre{padding: 0;}#sk-container-id-11 div.sk-toggleable {background-color: white;}#sk-container-id-11 label.sk-toggleable__label {cursor: pointer;display: block;width: 100%;margin-bottom: 0;padding: 0.3em;box-sizing: border-box;text-align: center;}#sk-container-id-11 label.sk-toggleable__label-arrow:before {content: \"▸\";float: left;margin-right: 0.25em;color: #696969;}#sk-container-id-11 label.sk-toggleable__label-arrow:hover:before {color: black;}#sk-container-id-11 div.sk-estimator:hover label.sk-toggleable__label-arrow:before {color: black;}#sk-container-id-11 div.sk-toggleable__content {max-height: 0;max-width: 0;overflow: hidden;text-align: left;background-color: #f0f8ff;}#sk-container-id-11 div.sk-toggleable__content pre {margin: 0.2em;color: black;border-radius: 0.25em;background-color: #f0f8ff;}#sk-container-id-11 input.sk-toggleable__control:checked~div.sk-toggleable__content {max-height: 200px;max-width: 100%;overflow: auto;}#sk-container-id-11 input.sk-toggleable__control:checked~label.sk-toggleable__label-arrow:before {content: \"▾\";}#sk-container-id-11 div.sk-estimator input.sk-toggleable__control:checked~label.sk-toggleable__label {background-color: #d4ebff;}#sk-container-id-11 div.sk-label input.sk-toggleable__control:checked~label.sk-toggleable__label {background-color: #d4ebff;}#sk-container-id-11 input.sk-hidden--visually {border: 0;clip: rect(1px 1px 1px 1px);clip: rect(1px, 1px, 1px, 1px);height: 1px;margin: -1px;overflow: hidden;padding: 0;position: absolute;width: 1px;}#sk-container-id-11 div.sk-estimator {font-family: monospace;background-color: #f0f8ff;border: 1px dotted black;border-radius: 0.25em;box-sizing: border-box;margin-bottom: 0.5em;}#sk-container-id-11 div.sk-estimator:hover {background-color: #d4ebff;}#sk-container-id-11 div.sk-parallel-item::after {content: \"\";width: 100%;border-bottom: 1px solid gray;flex-grow: 1;}#sk-container-id-11 div.sk-label:hover label.sk-toggleable__label {background-color: #d4ebff;}#sk-container-id-11 div.sk-serial::before {content: \"\";position: absolute;border-left: 1px solid gray;box-sizing: border-box;top: 0;bottom: 0;left: 50%;z-index: 0;}#sk-container-id-11 div.sk-serial {display: flex;flex-direction: column;align-items: center;background-color: white;padding-right: 0.2em;padding-left: 0.2em;position: relative;}#sk-container-id-11 div.sk-item {position: relative;z-index: 1;}#sk-container-id-11 div.sk-parallel {display: flex;align-items: stretch;justify-content: center;background-color: white;position: relative;}#sk-container-id-11 div.sk-item::before, #sk-container-id-11 div.sk-parallel-item::before {content: \"\";position: absolute;border-left: 1px solid gray;box-sizing: border-box;top: 0;bottom: 0;left: 50%;z-index: -1;}#sk-container-id-11 div.sk-parallel-item {display: flex;flex-direction: column;z-index: 1;position: relative;background-color: white;}#sk-container-id-11 div.sk-parallel-item:first-child::after {align-self: flex-end;width: 50%;}#sk-container-id-11 div.sk-parallel-item:last-child::after {align-self: flex-start;width: 50%;}#sk-container-id-11 div.sk-parallel-item:only-child::after {width: 0;}#sk-container-id-11 div.sk-dashed-wrapped {border: 1px dashed gray;margin: 0 0.4em 0.5em 0.4em;box-sizing: border-box;padding-bottom: 0.4em;background-color: white;}#sk-container-id-11 div.sk-label label {font-family: monospace;font-weight: bold;display: inline-block;line-height: 1.2em;}#sk-container-id-11 div.sk-label-container {text-align: center;}#sk-container-id-11 div.sk-container {/* jupyter's `normalize.less` sets `[hidden] { display: none; }` but bootstrap.min.css set `[hidden] { display: none !important; }` so we also need the `!important` here to be able to override the default hidden behavior on the sphinx rendered scikit-learn.org. See: https://github.com/scikit-learn/scikit-learn/issues/21755 */display: inline-block !important;position: relative;}#sk-container-id-11 div.sk-text-repr-fallback {display: none;}</style><div id=\"sk-container-id-11\" class=\"sk-top-container\"><div class=\"sk-text-repr-fallback\"><pre>Lasso()</pre><b>In a Jupyter environment, please rerun this cell to show the HTML representation or trust the notebook. <br />On GitHub, the HTML representation is unable to render, please try loading this page with nbviewer.org.</b></div><div class=\"sk-container\" hidden><div class=\"sk-item\"><div class=\"sk-estimator sk-toggleable\"><input class=\"sk-toggleable__control sk-hidden--visually\" id=\"sk-estimator-id-15\" type=\"checkbox\" checked><label for=\"sk-estimator-id-15\" class=\"sk-toggleable__label sk-toggleable__label-arrow\">Lasso</label><div class=\"sk-toggleable__content\"><pre>Lasso()</pre></div></div></div></div></div>"
      ],
      "text/plain": [
       "Lasso()"
      ]
     },
     "execution_count": 115,
     "metadata": {},
     "output_type": "execute_result"
    }
   ],
   "source": [
    "lasso_model.fit(x_train, y_train)"
   ]
  },
  {
   "cell_type": "markdown",
   "id": "e890a02d",
   "metadata": {},
   "source": [
    "**Predicting on Train Set**"
   ]
  },
  {
   "cell_type": "code",
   "execution_count": 116,
   "id": "e561f68d",
   "metadata": {},
   "outputs": [],
   "source": [
    "lasso_train_pred = lasso_model.predict(x_train)"
   ]
  },
  {
   "cell_type": "code",
   "execution_count": 117,
   "id": "2cbb91f6",
   "metadata": {},
   "outputs": [
    {
     "name": "stdout",
     "output_type": "stream",
     "text": [
      "LASSO REGRESSION TRAIN SET PREDICTION\n",
      "Train Mean Absolute Error: 0.13648681432734266\n",
      "Train Mean Squared Error: 0.030610519558537545\n",
      "Train Root Mean Squared Error: 0.1749586224183808\n",
      "Train R-squared: 0.009473637822605019\n"
     ]
    }
   ],
   "source": [
    "mae_lasso_train = mean_absolute_error(y_train, lasso_train_pred)\n",
    "mse_lasso_train = mean_squared_error(y_train, lasso_train_pred)\n",
    "rmse_lasso_train = compute_RMSE(y_train, lasso_train_pred)\n",
    "r2_lasso_train = r2_score(y_train, lasso_train_pred)\n",
    "\n",
    "print(\"LASSO REGRESSION TRAIN SET PREDICTION\")\n",
    "print(f\"Train Mean Absolute Error: {mae_lasso_train}\")\n",
    "print(f\"Train Mean Squared Error: {mse_lasso_train}\")\n",
    "print(f\"Train Root Mean Squared Error: {rmse_lasso_train}\")\n",
    "print(f\"Train R-squared: {r2_lasso_train}\")"
   ]
  },
  {
   "cell_type": "markdown",
   "id": "bb4ce05b",
   "metadata": {},
   "source": [
    "**Predicting on Validation Set**"
   ]
  },
  {
   "cell_type": "code",
   "execution_count": 118,
   "id": "4cb56c4e",
   "metadata": {},
   "outputs": [],
   "source": [
    "lasso_val_pred = lasso_model.predict(x_val)"
   ]
  },
  {
   "cell_type": "code",
   "execution_count": 119,
   "id": "708e50ed",
   "metadata": {},
   "outputs": [
    {
     "name": "stdout",
     "output_type": "stream",
     "text": [
      "LASSO REGRESSION VALIDATION SET PREDICTION\n",
      "Lasso Validation Mean Absolute Error: 0.12333207892103161\n",
      "Lasso Validation Mean Squared Error: 0.024259522154422414\n",
      "Lasso Validation Root Mean Squared Error: 0.1557546858185089\n",
      "Lasso Validation R-squared: -0.04135414374393198\n"
     ]
    }
   ],
   "source": [
    "# LASSO\n",
    "mae_lasso = mean_absolute_error(y_val, lasso_val_pred)\n",
    "mse_lasso = mean_squared_error(y_val, lasso_val_pred)\n",
    "rmse_lasso = compute_RMSE(y_val, lasso_val_pred)\n",
    "r2_lasso = r2_score(y_val, lasso_val_pred)\n",
    "\n",
    "print(\"LASSO REGRESSION VALIDATION SET PREDICTION\")\n",
    "print(f\"Lasso Validation Mean Absolute Error: {mae_lasso}\")\n",
    "print(f\"Lasso Validation Mean Squared Error: {mse_lasso}\")\n",
    "print(f\"Lasso Validation Root Mean Squared Error: {rmse_lasso}\")\n",
    "print(f\"Lasso Validation R-squared: {r2_lasso}\")\n"
   ]
  },
  {
   "cell_type": "markdown",
   "metadata": {},
   "source": [
    "| LASSO REGRESSION | TRAIN SET PREDICTION | VALIDATION SET PREDICTION |\n",
    "|-------------------|----------------------|---------------------------|\n",
    "| Mean Absolute Error: | 0.13648681432734266 | 0.12333207892103161 |\n",
    "| Mean Squared Error: | 0.030610519558537545 | 0.024259522154422414 |\n",
    "| Root Mean Squared Error: | 0.1749586224183808 | 0.1557546858185089 |\n",
    "| R-squared: | 0.009473637822605019 | -0.04135414374393198 |"
   ]
  },
  {
   "cell_type": "markdown",
   "id": "5c1a9fc9",
   "metadata": {},
   "source": [
    "**Lasso Regression Model Result:** <p>\n",
    "The results of the Lasso Regression model shows that in the training set, the MAE is 0.1365, the MSE is 0.0306, the RMSE is 0.1750, and the R-squared value is 0.0095. Similarly, on the validation set, the model produces a MAE of 0.1233, MSE of 0.0243, RMSE of 0.1558, and a negative R-squared value of -0.0414. <br><br> From the results, the model shows a low R-squared value with relatively high errors for the MAE, MSE, and RMSE on both the training and validation sets which means that the performance is suboptimal. This also indicates that the model is underfit, suggesting more improvements in tuning the hyperparameters of the model.  "
   ]
  },
  {
   "cell_type": "markdown",
   "id": "41323d7e",
   "metadata": {},
   "source": [
    "### **Model 3: Ridge Regression**"
   ]
  },
  {
   "cell_type": "code",
   "execution_count": 120,
   "id": "93caa139",
   "metadata": {},
   "outputs": [],
   "source": [
    "from sklearn.linear_model import Ridge\n",
    "\n",
    "ridge_model = Ridge(random_state=None)"
   ]
  },
  {
   "cell_type": "code",
   "execution_count": 121,
   "id": "79467eb9",
   "metadata": {},
   "outputs": [
    {
     "data": {
      "text/html": [
       "<style>#sk-container-id-12 {color: black;}#sk-container-id-12 pre{padding: 0;}#sk-container-id-12 div.sk-toggleable {background-color: white;}#sk-container-id-12 label.sk-toggleable__label {cursor: pointer;display: block;width: 100%;margin-bottom: 0;padding: 0.3em;box-sizing: border-box;text-align: center;}#sk-container-id-12 label.sk-toggleable__label-arrow:before {content: \"▸\";float: left;margin-right: 0.25em;color: #696969;}#sk-container-id-12 label.sk-toggleable__label-arrow:hover:before {color: black;}#sk-container-id-12 div.sk-estimator:hover label.sk-toggleable__label-arrow:before {color: black;}#sk-container-id-12 div.sk-toggleable__content {max-height: 0;max-width: 0;overflow: hidden;text-align: left;background-color: #f0f8ff;}#sk-container-id-12 div.sk-toggleable__content pre {margin: 0.2em;color: black;border-radius: 0.25em;background-color: #f0f8ff;}#sk-container-id-12 input.sk-toggleable__control:checked~div.sk-toggleable__content {max-height: 200px;max-width: 100%;overflow: auto;}#sk-container-id-12 input.sk-toggleable__control:checked~label.sk-toggleable__label-arrow:before {content: \"▾\";}#sk-container-id-12 div.sk-estimator input.sk-toggleable__control:checked~label.sk-toggleable__label {background-color: #d4ebff;}#sk-container-id-12 div.sk-label input.sk-toggleable__control:checked~label.sk-toggleable__label {background-color: #d4ebff;}#sk-container-id-12 input.sk-hidden--visually {border: 0;clip: rect(1px 1px 1px 1px);clip: rect(1px, 1px, 1px, 1px);height: 1px;margin: -1px;overflow: hidden;padding: 0;position: absolute;width: 1px;}#sk-container-id-12 div.sk-estimator {font-family: monospace;background-color: #f0f8ff;border: 1px dotted black;border-radius: 0.25em;box-sizing: border-box;margin-bottom: 0.5em;}#sk-container-id-12 div.sk-estimator:hover {background-color: #d4ebff;}#sk-container-id-12 div.sk-parallel-item::after {content: \"\";width: 100%;border-bottom: 1px solid gray;flex-grow: 1;}#sk-container-id-12 div.sk-label:hover label.sk-toggleable__label {background-color: #d4ebff;}#sk-container-id-12 div.sk-serial::before {content: \"\";position: absolute;border-left: 1px solid gray;box-sizing: border-box;top: 0;bottom: 0;left: 50%;z-index: 0;}#sk-container-id-12 div.sk-serial {display: flex;flex-direction: column;align-items: center;background-color: white;padding-right: 0.2em;padding-left: 0.2em;position: relative;}#sk-container-id-12 div.sk-item {position: relative;z-index: 1;}#sk-container-id-12 div.sk-parallel {display: flex;align-items: stretch;justify-content: center;background-color: white;position: relative;}#sk-container-id-12 div.sk-item::before, #sk-container-id-12 div.sk-parallel-item::before {content: \"\";position: absolute;border-left: 1px solid gray;box-sizing: border-box;top: 0;bottom: 0;left: 50%;z-index: -1;}#sk-container-id-12 div.sk-parallel-item {display: flex;flex-direction: column;z-index: 1;position: relative;background-color: white;}#sk-container-id-12 div.sk-parallel-item:first-child::after {align-self: flex-end;width: 50%;}#sk-container-id-12 div.sk-parallel-item:last-child::after {align-self: flex-start;width: 50%;}#sk-container-id-12 div.sk-parallel-item:only-child::after {width: 0;}#sk-container-id-12 div.sk-dashed-wrapped {border: 1px dashed gray;margin: 0 0.4em 0.5em 0.4em;box-sizing: border-box;padding-bottom: 0.4em;background-color: white;}#sk-container-id-12 div.sk-label label {font-family: monospace;font-weight: bold;display: inline-block;line-height: 1.2em;}#sk-container-id-12 div.sk-label-container {text-align: center;}#sk-container-id-12 div.sk-container {/* jupyter's `normalize.less` sets `[hidden] { display: none; }` but bootstrap.min.css set `[hidden] { display: none !important; }` so we also need the `!important` here to be able to override the default hidden behavior on the sphinx rendered scikit-learn.org. See: https://github.com/scikit-learn/scikit-learn/issues/21755 */display: inline-block !important;position: relative;}#sk-container-id-12 div.sk-text-repr-fallback {display: none;}</style><div id=\"sk-container-id-12\" class=\"sk-top-container\"><div class=\"sk-text-repr-fallback\"><pre>Ridge()</pre><b>In a Jupyter environment, please rerun this cell to show the HTML representation or trust the notebook. <br />On GitHub, the HTML representation is unable to render, please try loading this page with nbviewer.org.</b></div><div class=\"sk-container\" hidden><div class=\"sk-item\"><div class=\"sk-estimator sk-toggleable\"><input class=\"sk-toggleable__control sk-hidden--visually\" id=\"sk-estimator-id-16\" type=\"checkbox\" checked><label for=\"sk-estimator-id-16\" class=\"sk-toggleable__label sk-toggleable__label-arrow\">Ridge</label><div class=\"sk-toggleable__content\"><pre>Ridge()</pre></div></div></div></div></div>"
      ],
      "text/plain": [
       "Ridge()"
      ]
     },
     "execution_count": 121,
     "metadata": {},
     "output_type": "execute_result"
    }
   ],
   "source": [
    "ridge_model.fit(x_train, y_train)"
   ]
  },
  {
   "cell_type": "markdown",
   "id": "10c57c97",
   "metadata": {},
   "source": [
    "**Predicting on Train Set**"
   ]
  },
  {
   "cell_type": "code",
   "execution_count": 122,
   "id": "9da628ce",
   "metadata": {},
   "outputs": [],
   "source": [
    "ridge_train_pred = ridge_model.predict(x_train)"
   ]
  },
  {
   "cell_type": "code",
   "execution_count": 123,
   "id": "b46fcecb",
   "metadata": {},
   "outputs": [
    {
     "name": "stdout",
     "output_type": "stream",
     "text": [
      "RIDGE REGRESSION TRAIN SET PREDICTION\n",
      "Train Mean Absolute Error: 0.1081048216862262\n",
      "Train Mean Squared Error: 0.021720419730235405\n",
      "Train Root Mean Squared Error: 0.14737849140982345\n",
      "Train R-squared: 0.29714854074224417\n"
     ]
    }
   ],
   "source": [
    "mae_ridge_train = mean_absolute_error(y_train, ridge_train_pred)\n",
    "mse_ridge_train = mean_squared_error(y_train, ridge_train_pred)\n",
    "rmse_ridge_train = compute_RMSE(y_train, ridge_train_pred)\n",
    "r2_ridge_train = r2_score(y_train, ridge_train_pred)\n",
    "\n",
    "print(\"RIDGE REGRESSION TRAIN SET PREDICTION\")\n",
    "print(f\"Train Mean Absolute Error: {mae_ridge_train}\")\n",
    "print(f\"Train Mean Squared Error: {mse_ridge_train}\")\n",
    "print(f\"Train Root Mean Squared Error: {rmse_ridge_train}\")\n",
    "print(f\"Train R-squared: {r2_ridge_train}\")"
   ]
  },
  {
   "cell_type": "markdown",
   "id": "ba1c2967",
   "metadata": {},
   "source": [
    "**Predicting on Validation Set**"
   ]
  },
  {
   "cell_type": "code",
   "execution_count": 124,
   "id": "53b28f97",
   "metadata": {},
   "outputs": [],
   "source": [
    "ridge_val_pred = ridge_model.predict(x_val)"
   ]
  },
  {
   "cell_type": "code",
   "execution_count": 125,
   "id": "ecf67d45",
   "metadata": {},
   "outputs": [
    {
     "name": "stdout",
     "output_type": "stream",
     "text": [
      "RIDGE REGRESSION VALIDATION SET PREDICTION\n",
      "Ridge Validation Mean Absolute Error: 0.09663200063881089\n",
      "Ridge Validation Mean Squared Error: 0.016822623701554792\n",
      "Ridge Validation Root Mean Squared Error: 0.12970205742992202\n",
      "Ridge Validation R-squared: 0.2778790617248228\n"
     ]
    }
   ],
   "source": [
    "# LASSO\n",
    "mae_ridge = mean_absolute_error(y_val, ridge_val_pred)\n",
    "mse_ridge= mean_squared_error(y_val, ridge_val_pred)\n",
    "rmse_ridge = compute_RMSE(y_val, ridge_val_pred)\n",
    "r2_ridge= r2_score(y_val, ridge_val_pred)\n",
    "\n",
    "print(\"RIDGE REGRESSION VALIDATION SET PREDICTION\")\n",
    "print(f\"Ridge Validation Mean Absolute Error: {mae_ridge}\")\n",
    "print(f\"Ridge Validation Mean Squared Error: {mse_ridge}\")\n",
    "print(f\"Ridge Validation Root Mean Squared Error: {rmse_ridge}\")\n",
    "print(f\"Ridge Validation R-squared: {r2_ridge}\")"
   ]
  },
  {
   "cell_type": "markdown",
   "metadata": {},
   "source": [
    "| RIDGE  REGRESSION | TRAIN SET PREDICTION | VALIDATION SET PREDICTION |\n",
    "|-------------------|----------------------|---------------------------|\n",
    "| Mean Absolute Error: | 0.1081048216862262 | 0.09663200063881089 |\n",
    "| Mean Squared Error: | 0.021720419730235405 | 0.016822623701554792 |\n",
    "| Root Mean Squared Error: | 0.14737849140982345 | 0.12970205742992202 |\n",
    "| R-squared: | 0.29714854074224417 | 0.2778790617248228 |"
   ]
  },
  {
   "cell_type": "markdown",
   "id": "a5b537a9",
   "metadata": {},
   "source": [
    "**Ridge Regression Model Result:**\n",
    "    \n",
    "The Ridge Regression model demonstrates moderate performance on both the training and validation sets. In the training set, the model achieves an MAE of 0.1081, an MSE of 0.0217, a Root Mean Squared Error RMSE of 0.1474, and an R-squared value of 0.2971. Similarly, on the validation set, the Ridge Regression model shows an MAE of 0.0966, an MSE of 0.0168, an RMSE of 0.1297, and an R-squared value of 0.2779.<br><br>\n",
    "\n",
    "The R-squared results for the model shows a performance that is fair enough to capture some of the variance in the target variable but the moderate errors suggest further improvements to lower the MAE, MSE, and RMSE values. Although we were able to show that Ridge Regression performs better than Lasso Regression based from the results, tuning the hyperparameters can still be done on the Ridge Regression Model to enhance the predictive performance. "
   ]
  },
  {
   "cell_type": "markdown",
   "id": "e9e679ea",
   "metadata": {},
   "source": [
    "<font color='green'>**Model Comparison Checkpoint:**</font> In evaluating the performance of three regression models on the validation set, the linear regression and ridge regression models exhibited similar and superior performance compared to the lasso regression. The linear regression model demonstrated the lowest Mean Absolute Error (MAE) of 0.096 and Root Mean Squared Error (RMSE) of 0.130, along with a moderately higher R-squared value of 0.280, indicating a better fit to the data compared to ridge regression. Thus, among the models assessed, the linear regression model appears to be the most effective for this dataset based on its lower error metrics and higher R-squared value."
   ]
  },
  {
   "cell_type": "markdown",
   "id": "7a130546",
   "metadata": {},
   "source": [
    "### **Model 4: Decision Tree Regressor**"
   ]
  },
  {
   "cell_type": "code",
   "execution_count": 126,
   "id": "c5b5a92d",
   "metadata": {},
   "outputs": [],
   "source": [
    "from sklearn.tree import DecisionTreeRegressor\n",
    "\n",
    "dt_model = DecisionTreeRegressor(max_depth=100, random_state = None)"
   ]
  },
  {
   "cell_type": "code",
   "execution_count": 127,
   "id": "6c1e05ae",
   "metadata": {},
   "outputs": [
    {
     "data": {
      "text/html": [
       "<style>#sk-container-id-13 {color: black;}#sk-container-id-13 pre{padding: 0;}#sk-container-id-13 div.sk-toggleable {background-color: white;}#sk-container-id-13 label.sk-toggleable__label {cursor: pointer;display: block;width: 100%;margin-bottom: 0;padding: 0.3em;box-sizing: border-box;text-align: center;}#sk-container-id-13 label.sk-toggleable__label-arrow:before {content: \"▸\";float: left;margin-right: 0.25em;color: #696969;}#sk-container-id-13 label.sk-toggleable__label-arrow:hover:before {color: black;}#sk-container-id-13 div.sk-estimator:hover label.sk-toggleable__label-arrow:before {color: black;}#sk-container-id-13 div.sk-toggleable__content {max-height: 0;max-width: 0;overflow: hidden;text-align: left;background-color: #f0f8ff;}#sk-container-id-13 div.sk-toggleable__content pre {margin: 0.2em;color: black;border-radius: 0.25em;background-color: #f0f8ff;}#sk-container-id-13 input.sk-toggleable__control:checked~div.sk-toggleable__content {max-height: 200px;max-width: 100%;overflow: auto;}#sk-container-id-13 input.sk-toggleable__control:checked~label.sk-toggleable__label-arrow:before {content: \"▾\";}#sk-container-id-13 div.sk-estimator input.sk-toggleable__control:checked~label.sk-toggleable__label {background-color: #d4ebff;}#sk-container-id-13 div.sk-label input.sk-toggleable__control:checked~label.sk-toggleable__label {background-color: #d4ebff;}#sk-container-id-13 input.sk-hidden--visually {border: 0;clip: rect(1px 1px 1px 1px);clip: rect(1px, 1px, 1px, 1px);height: 1px;margin: -1px;overflow: hidden;padding: 0;position: absolute;width: 1px;}#sk-container-id-13 div.sk-estimator {font-family: monospace;background-color: #f0f8ff;border: 1px dotted black;border-radius: 0.25em;box-sizing: border-box;margin-bottom: 0.5em;}#sk-container-id-13 div.sk-estimator:hover {background-color: #d4ebff;}#sk-container-id-13 div.sk-parallel-item::after {content: \"\";width: 100%;border-bottom: 1px solid gray;flex-grow: 1;}#sk-container-id-13 div.sk-label:hover label.sk-toggleable__label {background-color: #d4ebff;}#sk-container-id-13 div.sk-serial::before {content: \"\";position: absolute;border-left: 1px solid gray;box-sizing: border-box;top: 0;bottom: 0;left: 50%;z-index: 0;}#sk-container-id-13 div.sk-serial {display: flex;flex-direction: column;align-items: center;background-color: white;padding-right: 0.2em;padding-left: 0.2em;position: relative;}#sk-container-id-13 div.sk-item {position: relative;z-index: 1;}#sk-container-id-13 div.sk-parallel {display: flex;align-items: stretch;justify-content: center;background-color: white;position: relative;}#sk-container-id-13 div.sk-item::before, #sk-container-id-13 div.sk-parallel-item::before {content: \"\";position: absolute;border-left: 1px solid gray;box-sizing: border-box;top: 0;bottom: 0;left: 50%;z-index: -1;}#sk-container-id-13 div.sk-parallel-item {display: flex;flex-direction: column;z-index: 1;position: relative;background-color: white;}#sk-container-id-13 div.sk-parallel-item:first-child::after {align-self: flex-end;width: 50%;}#sk-container-id-13 div.sk-parallel-item:last-child::after {align-self: flex-start;width: 50%;}#sk-container-id-13 div.sk-parallel-item:only-child::after {width: 0;}#sk-container-id-13 div.sk-dashed-wrapped {border: 1px dashed gray;margin: 0 0.4em 0.5em 0.4em;box-sizing: border-box;padding-bottom: 0.4em;background-color: white;}#sk-container-id-13 div.sk-label label {font-family: monospace;font-weight: bold;display: inline-block;line-height: 1.2em;}#sk-container-id-13 div.sk-label-container {text-align: center;}#sk-container-id-13 div.sk-container {/* jupyter's `normalize.less` sets `[hidden] { display: none; }` but bootstrap.min.css set `[hidden] { display: none !important; }` so we also need the `!important` here to be able to override the default hidden behavior on the sphinx rendered scikit-learn.org. See: https://github.com/scikit-learn/scikit-learn/issues/21755 */display: inline-block !important;position: relative;}#sk-container-id-13 div.sk-text-repr-fallback {display: none;}</style><div id=\"sk-container-id-13\" class=\"sk-top-container\"><div class=\"sk-text-repr-fallback\"><pre>DecisionTreeRegressor(max_depth=100)</pre><b>In a Jupyter environment, please rerun this cell to show the HTML representation or trust the notebook. <br />On GitHub, the HTML representation is unable to render, please try loading this page with nbviewer.org.</b></div><div class=\"sk-container\" hidden><div class=\"sk-item\"><div class=\"sk-estimator sk-toggleable\"><input class=\"sk-toggleable__control sk-hidden--visually\" id=\"sk-estimator-id-17\" type=\"checkbox\" checked><label for=\"sk-estimator-id-17\" class=\"sk-toggleable__label sk-toggleable__label-arrow\">DecisionTreeRegressor</label><div class=\"sk-toggleable__content\"><pre>DecisionTreeRegressor(max_depth=100)</pre></div></div></div></div></div>"
      ],
      "text/plain": [
       "DecisionTreeRegressor(max_depth=100)"
      ]
     },
     "execution_count": 127,
     "metadata": {},
     "output_type": "execute_result"
    }
   ],
   "source": [
    "# Training\n",
    "dt_model.fit(x_train, y_train)"
   ]
  },
  {
   "cell_type": "markdown",
   "id": "401670f8",
   "metadata": {},
   "source": [
    "**Predicting on Train Set**"
   ]
  },
  {
   "cell_type": "code",
   "execution_count": 128,
   "id": "c2ed96a3",
   "metadata": {},
   "outputs": [],
   "source": [
    "dt_train_pred = dt_model.predict(x_train)"
   ]
  },
  {
   "cell_type": "code",
   "execution_count": 129,
   "id": "36fd0dc4",
   "metadata": {},
   "outputs": [
    {
     "name": "stdout",
     "output_type": "stream",
     "text": [
      "DECISION TREE REGRESSION TRAIN SET PREDICTION\n",
      "Train Mean Absolute Error: 8.700807403018469e-18\n",
      "Train Mean Squared Error: 1.6614919144055403e-33\n",
      "Train Root Mean Squared Error: 4.0761402262502456e-17\n",
      "Train R-squared: 1.0\n"
     ]
    }
   ],
   "source": [
    "mae_dt_train = mean_absolute_error(y_train, dt_train_pred)\n",
    "mse_dt_train = mean_squared_error(y_train, dt_train_pred)\n",
    "rmse_dt_train = compute_RMSE(y_train, dt_train_pred)\n",
    "r2_dt_train = r2_score(y_train, dt_train_pred)\n",
    "\n",
    "print(\"DECISION TREE REGRESSION TRAIN SET PREDICTION\")\n",
    "print(f\"Train Mean Absolute Error: {mae_dt_train}\")\n",
    "print(f\"Train Mean Squared Error: {mse_dt_train}\")\n",
    "print(f\"Train Root Mean Squared Error: {rmse_dt_train}\")\n",
    "print(f\"Train R-squared: {r2_dt_train}\")"
   ]
  },
  {
   "cell_type": "markdown",
   "id": "1973523c",
   "metadata": {},
   "source": [
    "**Predicting on Validation Set**"
   ]
  },
  {
   "cell_type": "code",
   "execution_count": 130,
   "id": "9313508a",
   "metadata": {},
   "outputs": [],
   "source": [
    "dt_val_pred = dt_model.predict(x_val)"
   ]
  },
  {
   "cell_type": "code",
   "execution_count": 131,
   "id": "2b6cbb04",
   "metadata": {},
   "outputs": [
    {
     "name": "stdout",
     "output_type": "stream",
     "text": [
      "DECISION TREE REGRESSION VALIDATION SET PREDICTION\n",
      "Decision Tree Validation Mean Absolute Error: 0.08470072474166668\n",
      "Decision Tree Validation Mean Squared Error: 0.021920571071198446\n",
      "Decision Tree Validation Root Mean Squared Error: 0.14805597276435167\n",
      "Decision Tree Validation R-squared: 0.059046696265426024\n"
     ]
    }
   ],
   "source": [
    "mae_dt = mean_absolute_error(y_val, dt_val_pred)\n",
    "mse_dt = mean_squared_error(y_val, dt_val_pred)\n",
    "rmse_dt = compute_RMSE(y_val, dt_val_pred)\n",
    "r2_dt = r2_score(y_val, dt_val_pred)\n",
    "\n",
    "print(\"DECISION TREE REGRESSION VALIDATION SET PREDICTION\")\n",
    "print(f\"Decision Tree Validation Mean Absolute Error: {mae_dt}\")\n",
    "print(f\"Decision Tree Validation Mean Squared Error: {mse_dt}\")\n",
    "print(f\"Decision Tree Validation Root Mean Squared Error: {rmse_dt}\")\n",
    "print(f\"Decision Tree Validation R-squared: {r2_dt}\")"
   ]
  },
  {
   "cell_type": "markdown",
   "metadata": {},
   "source": [
    "| DECISION TREE REGRESSION | TRAIN SET PREDICTION | VALIDATION SET PREDICTION |\n",
    "|-------------------|----------------------|---------------------------|\n",
    "| Mean Absolute Error: | 9.512882760633525e-18 | 0.07777630755833334 |\n",
    "| Mean Squared Error: | 1.7516503903810347e-33 | 0.01857637079387745 |\n",
    "| Root Mean Squared Error: | 4.1852722616109874e-17 | 0.13629516056660798 |\n",
    "| R-squared: | 1.0 | 0.20259844448743214 |"
   ]
  },
  {
   "cell_type": "markdown",
   "id": "d4f28d47",
   "metadata": {},
   "source": [
    "**Decision Tree Regression Model Result:** <br>\n",
    "The Decision Tree Regression Model achieved perfect performance on the training data, displaying zero errors and a perfect fit (R-squared of 1.0). However, when tested on the validation set, the model's accuracy decreased significantly. It exhibited higher error metrics (MAE of 0.078, RMSE of 0.136) and a lower R-squared value (0.203), indicating potential overfitting. Later on, we will be fine tuning the hyperparameters of the model to check if it still exihibits the same prediction."
   ]
  },
  {
   "cell_type": "markdown",
   "id": "2643865f",
   "metadata": {},
   "source": [
    "### **Model 5: Random Forest Regression**"
   ]
  },
  {
   "cell_type": "code",
   "execution_count": 132,
   "id": "ffd72115",
   "metadata": {},
   "outputs": [],
   "source": [
    "from sklearn.ensemble import RandomForestRegressor\n",
    "\n",
    "rf_model = RandomForestRegressor(n_estimators = 100,  random_state = None)"
   ]
  },
  {
   "cell_type": "code",
   "execution_count": 133,
   "id": "ce8efc0d",
   "metadata": {},
   "outputs": [
    {
     "data": {
      "text/html": [
       "<style>#sk-container-id-14 {color: black;}#sk-container-id-14 pre{padding: 0;}#sk-container-id-14 div.sk-toggleable {background-color: white;}#sk-container-id-14 label.sk-toggleable__label {cursor: pointer;display: block;width: 100%;margin-bottom: 0;padding: 0.3em;box-sizing: border-box;text-align: center;}#sk-container-id-14 label.sk-toggleable__label-arrow:before {content: \"▸\";float: left;margin-right: 0.25em;color: #696969;}#sk-container-id-14 label.sk-toggleable__label-arrow:hover:before {color: black;}#sk-container-id-14 div.sk-estimator:hover label.sk-toggleable__label-arrow:before {color: black;}#sk-container-id-14 div.sk-toggleable__content {max-height: 0;max-width: 0;overflow: hidden;text-align: left;background-color: #f0f8ff;}#sk-container-id-14 div.sk-toggleable__content pre {margin: 0.2em;color: black;border-radius: 0.25em;background-color: #f0f8ff;}#sk-container-id-14 input.sk-toggleable__control:checked~div.sk-toggleable__content {max-height: 200px;max-width: 100%;overflow: auto;}#sk-container-id-14 input.sk-toggleable__control:checked~label.sk-toggleable__label-arrow:before {content: \"▾\";}#sk-container-id-14 div.sk-estimator input.sk-toggleable__control:checked~label.sk-toggleable__label {background-color: #d4ebff;}#sk-container-id-14 div.sk-label input.sk-toggleable__control:checked~label.sk-toggleable__label {background-color: #d4ebff;}#sk-container-id-14 input.sk-hidden--visually {border: 0;clip: rect(1px 1px 1px 1px);clip: rect(1px, 1px, 1px, 1px);height: 1px;margin: -1px;overflow: hidden;padding: 0;position: absolute;width: 1px;}#sk-container-id-14 div.sk-estimator {font-family: monospace;background-color: #f0f8ff;border: 1px dotted black;border-radius: 0.25em;box-sizing: border-box;margin-bottom: 0.5em;}#sk-container-id-14 div.sk-estimator:hover {background-color: #d4ebff;}#sk-container-id-14 div.sk-parallel-item::after {content: \"\";width: 100%;border-bottom: 1px solid gray;flex-grow: 1;}#sk-container-id-14 div.sk-label:hover label.sk-toggleable__label {background-color: #d4ebff;}#sk-container-id-14 div.sk-serial::before {content: \"\";position: absolute;border-left: 1px solid gray;box-sizing: border-box;top: 0;bottom: 0;left: 50%;z-index: 0;}#sk-container-id-14 div.sk-serial {display: flex;flex-direction: column;align-items: center;background-color: white;padding-right: 0.2em;padding-left: 0.2em;position: relative;}#sk-container-id-14 div.sk-item {position: relative;z-index: 1;}#sk-container-id-14 div.sk-parallel {display: flex;align-items: stretch;justify-content: center;background-color: white;position: relative;}#sk-container-id-14 div.sk-item::before, #sk-container-id-14 div.sk-parallel-item::before {content: \"\";position: absolute;border-left: 1px solid gray;box-sizing: border-box;top: 0;bottom: 0;left: 50%;z-index: -1;}#sk-container-id-14 div.sk-parallel-item {display: flex;flex-direction: column;z-index: 1;position: relative;background-color: white;}#sk-container-id-14 div.sk-parallel-item:first-child::after {align-self: flex-end;width: 50%;}#sk-container-id-14 div.sk-parallel-item:last-child::after {align-self: flex-start;width: 50%;}#sk-container-id-14 div.sk-parallel-item:only-child::after {width: 0;}#sk-container-id-14 div.sk-dashed-wrapped {border: 1px dashed gray;margin: 0 0.4em 0.5em 0.4em;box-sizing: border-box;padding-bottom: 0.4em;background-color: white;}#sk-container-id-14 div.sk-label label {font-family: monospace;font-weight: bold;display: inline-block;line-height: 1.2em;}#sk-container-id-14 div.sk-label-container {text-align: center;}#sk-container-id-14 div.sk-container {/* jupyter's `normalize.less` sets `[hidden] { display: none; }` but bootstrap.min.css set `[hidden] { display: none !important; }` so we also need the `!important` here to be able to override the default hidden behavior on the sphinx rendered scikit-learn.org. See: https://github.com/scikit-learn/scikit-learn/issues/21755 */display: inline-block !important;position: relative;}#sk-container-id-14 div.sk-text-repr-fallback {display: none;}</style><div id=\"sk-container-id-14\" class=\"sk-top-container\"><div class=\"sk-text-repr-fallback\"><pre>RandomForestRegressor()</pre><b>In a Jupyter environment, please rerun this cell to show the HTML representation or trust the notebook. <br />On GitHub, the HTML representation is unable to render, please try loading this page with nbviewer.org.</b></div><div class=\"sk-container\" hidden><div class=\"sk-item\"><div class=\"sk-estimator sk-toggleable\"><input class=\"sk-toggleable__control sk-hidden--visually\" id=\"sk-estimator-id-18\" type=\"checkbox\" checked><label for=\"sk-estimator-id-18\" class=\"sk-toggleable__label sk-toggleable__label-arrow\">RandomForestRegressor</label><div class=\"sk-toggleable__content\"><pre>RandomForestRegressor()</pre></div></div></div></div></div>"
      ],
      "text/plain": [
       "RandomForestRegressor()"
      ]
     },
     "execution_count": 133,
     "metadata": {},
     "output_type": "execute_result"
    }
   ],
   "source": [
    "# Training\n",
    "\n",
    "rf_model.fit(x_train,y_train)"
   ]
  },
  {
   "cell_type": "markdown",
   "id": "47091554",
   "metadata": {},
   "source": [
    "**Predicting on Train Set**"
   ]
  },
  {
   "cell_type": "code",
   "execution_count": 134,
   "id": "36dfc36b",
   "metadata": {},
   "outputs": [],
   "source": [
    "rf_train_pred = rf_model.predict(x_train)"
   ]
  },
  {
   "cell_type": "code",
   "execution_count": 135,
   "id": "cddf3846",
   "metadata": {},
   "outputs": [
    {
     "name": "stdout",
     "output_type": "stream",
     "text": [
      "RANDOM FOREST REGRESSION TRAIN SET PREDICTION\n",
      "Train Mean Absolute Error: 0.028729002543281083\n",
      "Train Mean Squared Error: 0.0022932657422974857\n",
      "Train Root Mean Squared Error: 0.04788805427554439\n",
      "Train R-squared: 0.9257921719074377\n"
     ]
    }
   ],
   "source": [
    "mae_rf_train = mean_absolute_error(y_train, rf_train_pred)\n",
    "mse_rf_train = mean_squared_error(y_train, rf_train_pred)\n",
    "rmse_rf_train = compute_RMSE(y_train, rf_train_pred)\n",
    "r2_rf_train = r2_score(y_train, rf_train_pred)\n",
    "\n",
    "print(\"RANDOM FOREST REGRESSION TRAIN SET PREDICTION\")\n",
    "print(f\"Train Mean Absolute Error: {mae_rf_train}\")\n",
    "print(f\"Train Mean Squared Error: {mse_rf_train}\")\n",
    "print(f\"Train Root Mean Squared Error: {rmse_rf_train}\")\n",
    "print(f\"Train R-squared: {r2_rf_train}\")"
   ]
  },
  {
   "cell_type": "markdown",
   "id": "d0b2e21a",
   "metadata": {},
   "source": [
    "**Predicting on Validation Set**"
   ]
  },
  {
   "cell_type": "code",
   "execution_count": 136,
   "id": "7b4759b9",
   "metadata": {},
   "outputs": [],
   "source": [
    "rf_val_pred = rf_model.predict(x_val)"
   ]
  },
  {
   "cell_type": "code",
   "execution_count": 137,
   "id": "aeadf1a3",
   "metadata": {},
   "outputs": [
    {
     "name": "stdout",
     "output_type": "stream",
     "text": [
      "RANDOM FOREST REGRESSION VALIDATION SET PREDICTION\n",
      "Random Forest Validation Mean Absolute Error: 0.09663200063881089\n",
      "Random Forest Validation Mean Squared Error: 0.016822623701554792\n",
      "Random Forest Validation Root Mean Squared Error: 0.12970205742992202\n",
      "Random Forest Validation R-squared: 0.2778790617248228\n"
     ]
    }
   ],
   "source": [
    "mae_rf = mean_absolute_error(y_val, ridge_val_pred)\n",
    "mse_rf = mean_squared_error(y_val, ridge_val_pred)\n",
    "rmse_rf = compute_RMSE(y_val, ridge_val_pred)\n",
    "r2_rf = r2_score(y_val, ridge_val_pred)\n",
    "\n",
    "print(\"RANDOM FOREST REGRESSION VALIDATION SET PREDICTION\")\n",
    "print(f\"Random Forest Validation Mean Absolute Error: {mae_rf}\")\n",
    "print(f\"Random Forest Validation Mean Squared Error: {mse_rf}\")\n",
    "print(f\"Random Forest Validation Root Mean Squared Error: {rmse_rf}\")\n",
    "print(f\"Random Forest Validation R-squared: {r2_rf}\")"
   ]
  },
  {
   "cell_type": "markdown",
   "metadata": {},
   "source": [
    "| RANDOM FOREST REGRESSION | TRAIN SET PREDICTION | VALIDATION SET PREDICTION |\n",
    "|-------------------|----------------------|---------------------------|\n",
    "| Mean Absolute Error: | 0.02849880381516193 | 0.09663200063881089 |\n",
    "| Mean Squared Error: | 0.002224676261081365 | 0.016822623701554792 |\n",
    "| Root Mean Squared Error: | 0.04716647390977372 | 0.12970205742992202 |\n",
    "| R-squared: | 0.9280116601844242 | 0.2778790617248228 |"
   ]
  },
  {
   "cell_type": "markdown",
   "id": "e9040372",
   "metadata": {},
   "source": [
    "**Random Forest Regression Model Result:** \n",
    "\n",
    "The random forest model shows a strong performnce on the training data with an MAE of 0.0284, an MSE of 0.00222, an RMSE 0.0471 and an R-square of 0.9281. For the validation set, the model has a moderate performance similar, with an MAE of 0.0966, an MSE of 0.0168, an RMSE 0.1297, but the R-square drops from 0.9281 (train) to 0.2779 (validation), which may indicate that the model fits less effectively on the validation set. The difference of the model's perfomance on the train and validation sets may signify the presence of overfitting, and further tuning of the hyperparameters could be considered to improve the model. "
   ]
  },
  {
   "cell_type": "markdown",
   "id": "20855ca2",
   "metadata": {},
   "source": [
    "## **Section 7: Hyperparameter tuning**"
   ]
  },
  {
   "cell_type": "markdown",
   "id": "ba106cb6",
   "metadata": {},
   "source": [
    "In this section, we will be fine-tuning the hyperparameters of the 5 models to check and see if we can optimize their performance further by adjusting parameters such as learning rates, regularization strengths, tree depths, or other relevant parameters, aiming to enhance their predictive capabilities and achieve better generalization on unseen data."
   ]
  },
  {
   "cell_type": "markdown",
   "id": "087f66f8",
   "metadata": {},
   "source": [
    "### **Model 1: Linear Regression**"
   ]
  },
  {
   "cell_type": "markdown",
   "id": "26223e48",
   "metadata": {},
   "source": [
    "In this model, we will use `ParameterGrid` to get the combinations of hyperparameters we will try on our model."
   ]
  },
  {
   "cell_type": "code",
   "execution_count": 138,
   "id": "dacd36e0",
   "metadata": {},
   "outputs": [],
   "source": [
    "from sklearn.model_selection import ParameterGrid"
   ]
  },
  {
   "cell_type": "markdown",
   "id": "2f79edb4",
   "metadata": {},
   "source": [
    "We start by finding our `hyperparameters` from the list of parameters of each model."
   ]
  },
  {
   "cell_type": "code",
   "execution_count": 139,
   "id": "f307aa23",
   "metadata": {},
   "outputs": [
    {
     "data": {
      "text/plain": [
       "{'copy_X': True, 'fit_intercept': True, 'n_jobs': None, 'positive': False}"
      ]
     },
     "execution_count": 139,
     "metadata": {},
     "output_type": "execute_result"
    }
   ],
   "source": [
    "lr_model.get_params()"
   ]
  },
  {
   "cell_type": "code",
   "execution_count": 168,
   "metadata": {},
   "outputs": [],
   "source": [
    "lr_test_pred = lr_model.predict(x_val)"
   ]
  },
  {
   "cell_type": "code",
   "execution_count": 169,
   "metadata": {},
   "outputs": [
    {
     "name": "stdout",
     "output_type": "stream",
     "text": [
      "LINEAR REGRESSION TEST SET PREDICTION\n",
      "LR Mean Absolute Error: 0.09595815539412558\n",
      "LR Mean Squared Error: 0.01678438125462354\n",
      "LR Root Mean Squared Error: 0.1295545493397416\n",
      "LR R-squared: 0.27952064107355323\n"
     ]
    }
   ],
   "source": [
    "mae_lr = mean_absolute_error(y_val, lr_test_pred)\n",
    "mse_lr = mean_squared_error(y_val, lr_test_pred)\n",
    "rmse_lr = compute_RMSE(y_val, lr_test_pred)\n",
    "r2_lr = r2_score(y_val, lr_test_pred)\n",
    "\n",
    "print(\"LINEAR REGRESSION TEST SET PREDICTION\")\n",
    "print(f\"LR Mean Absolute Error: {mae_lr}\")\n",
    "print(f\"LR Mean Squared Error: {mse_lr}\")\n",
    "print(f\"LR Root Mean Squared Error: {rmse_lr}\")\n",
    "print(f\"LR R-squared: {r2_lr}\")"
   ]
  },
  {
   "cell_type": "markdown",
   "id": "89513bd1",
   "metadata": {},
   "source": [
    "The LR model apparently has no hyperparameters to tune. Instead we can tune the hyperparameters of the Ridge and Lasso models. <br><br>\n",
    "References: <br>\n",
    "https://scikit-learn.org/stable/modules/generated/sklearn.linear_model.LinearRegression.html <br>\n",
    "https://stackoverflow.com/questions/60454618/is-it-possible-to-tune-the-linear-regression-hyperparameter-in-sklearn <br>"
   ]
  },
  {
   "cell_type": "markdown",
   "metadata": {},
   "source": [
    "### **Model 2 & 3: Lasso and Ridge Regression**"
   ]
  },
  {
   "cell_type": "markdown",
   "metadata": {},
   "source": [
    "Get the parameters of both models."
   ]
  },
  {
   "cell_type": "code",
   "execution_count": 140,
   "id": "cf60544a",
   "metadata": {},
   "outputs": [
    {
     "data": {
      "text/plain": [
       "{'alpha': 1.0,\n",
       " 'copy_X': True,\n",
       " 'fit_intercept': True,\n",
       " 'max_iter': 1000,\n",
       " 'positive': False,\n",
       " 'precompute': False,\n",
       " 'random_state': None,\n",
       " 'selection': 'cyclic',\n",
       " 'tol': 0.0001,\n",
       " 'warm_start': False}"
      ]
     },
     "execution_count": 140,
     "metadata": {},
     "output_type": "execute_result"
    }
   ],
   "source": [
    "lasso_model.get_params()"
   ]
  },
  {
   "cell_type": "code",
   "execution_count": 141,
   "id": "82ce6eb4",
   "metadata": {},
   "outputs": [
    {
     "data": {
      "text/plain": [
       "{'alpha': 1.0,\n",
       " 'copy_X': True,\n",
       " 'fit_intercept': True,\n",
       " 'max_iter': None,\n",
       " 'positive': False,\n",
       " 'random_state': None,\n",
       " 'solver': 'auto',\n",
       " 'tol': 0.0001}"
      ]
     },
     "execution_count": 141,
     "metadata": {},
     "output_type": "execute_result"
    }
   ],
   "source": [
    "ridge_model.get_params()"
   ]
  },
  {
   "cell_type": "markdown",
   "id": "4a64f589",
   "metadata": {},
   "source": [
    "Both the `ridge` and `lasso` models have the same hyperparameter, alpha. `alpha` is a constant that multiplies the L1 term (for `ridge`) or L2 term (for `lasso`), controlling regularization strength. alpha must be a non-negative float i.e. in `[0, inf)`. Let's start by listing possible values for `alpha` which we can use as input for the `ParameterGrid`."
   ]
  },
  {
   "cell_type": "code",
   "execution_count": 142,
   "id": "1d84464b",
   "metadata": {},
   "outputs": [],
   "source": [
    "lr_parameters = {\n",
    "    'alpha': [0.0001, 0.001, 0.01, 0.1, 1, 10, 100]\n",
    "    }"
   ]
  },
  {
   "cell_type": "code",
   "execution_count": 143,
   "id": "b1ba0cb6",
   "metadata": {},
   "outputs": [
    {
     "data": {
      "text/plain": [
       "[{'alpha': 0.0001},\n",
       " {'alpha': 0.001},\n",
       " {'alpha': 0.01},\n",
       " {'alpha': 0.1},\n",
       " {'alpha': 1},\n",
       " {'alpha': 10},\n",
       " {'alpha': 100}]"
      ]
     },
     "execution_count": 143,
     "metadata": {},
     "output_type": "execute_result"
    }
   ],
   "source": [
    "list(ParameterGrid(lr_parameters))"
   ]
  },
  {
   "cell_type": "code",
   "execution_count": 144,
   "id": "a09b9b9a",
   "metadata": {},
   "outputs": [
    {
     "name": "stdout",
     "output_type": "stream",
     "text": [
      "{'alpha': 0.0001}\n",
      "Ridge Mean Absolute Error: 0.1176875064085225\n",
      "Ridge Mean Squared Error: 0.02557916899287289\n",
      "Ridge Root Mean Squared Error: 0.15993488985481838\n",
      "Ridge R-squared: 0.10168194046091628\n",
      "\n",
      "{'alpha': 0.001}\n",
      "Ridge Mean Absolute Error: 0.11768820758022851\n",
      "Ridge Mean Squared Error: 0.025579257826971857\n",
      "Ridge Root Mean Squared Error: 0.1599351675741513\n",
      "Ridge R-squared: 0.10167882068499912\n",
      "\n",
      "{'alpha': 0.01}\n",
      "Ridge Mean Absolute Error: 0.11769521133214188\n",
      "Ridge Mean Squared Error: 0.025580150445556355\n",
      "Ridge Root Mean Squared Error: 0.15993795811362715\n",
      "Ridge R-squared: 0.10164747270043561\n",
      "\n",
      "{'alpha': 0.1}\n",
      "Ridge Mean Absolute Error: 0.11776446118097068\n",
      "Ridge Mean Squared Error: 0.025589493889962785\n",
      "Ridge Root Mean Squared Error: 0.15996716503696246\n",
      "Ridge R-squared: 0.10131933909879542\n",
      "\n",
      "{'alpha': 1}\n",
      "Ridge Mean Absolute Error: 0.11850340185836705\n",
      "Ridge Mean Squared Error: 0.025715738179208934\n",
      "Ridge Root Mean Squared Error: 0.16036127393859445\n",
      "Ridge R-squared: 0.09688574999450938\n",
      "\n",
      "{'alpha': 10}\n",
      "Ridge Mean Absolute Error: 0.12431647602661228\n",
      "Ridge Mean Squared Error: 0.027359644022971818\n",
      "Ridge Root Mean Squared Error: 0.16540750896791784\n",
      "Ridge R-squared: 0.03915321349007883\n",
      "\n",
      "{'alpha': 100}\n",
      "Ridge Mean Absolute Error: 0.13137920142681334\n",
      "Ridge Mean Squared Error: 0.030421005444470454\n",
      "Ridge Root Mean Squared Error: 0.17441618458294073\n",
      "Ridge R-squared: -0.06835912408721767\n",
      "\n",
      "Best Score:  0.02557916899287289 %\n",
      "Best Grid:  {'alpha': 0.0001}\n"
     ]
    }
   ],
   "source": [
    "best_score_ridge = 1000000\n",
    "for p in ParameterGrid(lr_parameters):\n",
    "    print(p)\n",
    "    \n",
    "    ridge_model = Ridge(**p)\n",
    "    \n",
    "    # write code here\n",
    "    ridge_model.fit(x_train, y_train)\n",
    "    ridge_pred = ridge_model.predict(x_test)\n",
    "\n",
    "    mae_ridge = mean_absolute_error(y_test, ridge_pred)\n",
    "    mse_ridge  = mean_squared_error(y_test, ridge_pred)\n",
    "    rmse_ridge  = compute_RMSE(y_test, ridge_pred)\n",
    "    r2_ridge  = r2_score(y_test, ridge_pred)\n",
    "    \n",
    "    print(f\"Ridge Mean Absolute Error: {mae_ridge}\")\n",
    "    print(f\"Ridge Mean Squared Error: {mse_ridge}\")\n",
    "    print(f\"Ridge Root Mean Squared Error: {rmse_ridge}\")\n",
    "    print(f\"Ridge R-squared: {r2_ridge}\\n\")\n",
    "    \n",
    "    ### Change mse_ridge to the appropriate variable\n",
    "    if mse_ridge < best_score_ridge:\n",
    "        best_score_ridge = mse_ridge\n",
    "        best_grid = p\n",
    "\n",
    "print(\"Best Score: \", best_score_ridge, \"%\")\n",
    "print(\"Best Grid: \", best_grid)"
   ]
  },
  {
   "cell_type": "markdown",
   "metadata": {},
   "source": [
    "The Ridge Regression model's performance was evaluated across varying alpha values, representing different levels of regularization. Lower alpha values, such as 0.0001, demonstrated better model performance, with reduced Mean Absolute Error (MAE), Mean Squared Error (MSE), and Root Mean Squared Error (RMSE), as well as higher R-squared values, suggesting a better fit to the data. As alpha increased, the regularization strength intensified, leading to increased errors and a decrease in R-squared, indicating poorer model performance. The Ridge Regression model has an optimal predictive ability at an alpha value of 0.0001, signifying the significance of minimal regularization for this specific dataset."
   ]
  },
  {
   "cell_type": "code",
   "execution_count": 167,
   "id": "240a2a13",
   "metadata": {},
   "outputs": [
    {
     "name": "stdout",
     "output_type": "stream",
     "text": [
      "{'alpha': 0.0001}\n",
      "Lasso Mean Absolute Error: 0.1177324003355898\n",
      "Lasso Mean Squared Error: 0.025586776966309892\n",
      "Lasso Root Mean Squared Error: 0.15995867268238348\n",
      "Lasso R-squared: 0.10141475508296849\n",
      "\n",
      "{'alpha': 0.001}\n",
      "Lasso Mean Absolute Error: 0.11871546110118916\n",
      "Lasso Mean Squared Error: 0.025827537468862734\n",
      "Lasso Root Mean Squared Error: 0.16070948157735665\n",
      "Lasso R-squared: 0.09295945665137417\n",
      "\n",
      "{'alpha': 0.01}\n",
      "Lasso Mean Absolute Error: 0.13292824793114127\n",
      "Lasso Mean Squared Error: 0.03070616382750486\n",
      "Lasso Root Mean Squared Error: 0.17523174320740195\n",
      "Lasso R-squared: -0.07837363727879731\n",
      "\n",
      "{'alpha': 0.1}\n",
      "Lasso Mean Absolute Error: 0.12904722194744958\n",
      "Lasso Mean Squared Error: 0.027881982930458602\n",
      "Lasso Root Mean Squared Error: 0.16697898948807482\n",
      "Lasso R-squared: 0.020809127568990782\n",
      "\n",
      "{'alpha': 1}\n",
      "Lasso Mean Absolute Error: 0.13004251181749155\n",
      "Lasso Mean Squared Error: 0.02820656594420692\n",
      "Lasso Root Mean Squared Error: 0.16794810491400883\n",
      "Lasso R-squared: 0.009410055802782091\n",
      "\n",
      "{'alpha': 10}\n",
      "Lasso Mean Absolute Error: 0.13037123196205833\n",
      "Lasso Mean Squared Error: 0.02837901923596312\n",
      "Lasso Root Mean Squared Error: 0.1684607349976935\n",
      "Lasso R-squared: 0.0033536469157412485\n",
      "\n",
      "{'alpha': 100}\n",
      "Lasso Mean Absolute Error: 0.13061474169034307\n",
      "Lasso Mean Squared Error: 0.028569632940289285\n",
      "Lasso Root Mean Squared Error: 0.16902553931370634\n",
      "Lasso R-squared: -0.0033405397890553523\n",
      "\n",
      "Best Score:  0.025586776966309892 %\n",
      "Best Grid:  {'alpha': 0.0001}\n"
     ]
    }
   ],
   "source": [
    "best_score_lasso = 1000000\n",
    "for p in ParameterGrid(lr_parameters):\n",
    "    print(p)\n",
    "    \n",
    "    lasso_model = Lasso(**p)\n",
    "    \n",
    "    # write code here\n",
    "    lasso_model.fit(x_train, y_train)\n",
    "    lasso_pred = lasso_model.predict(x_test)\n",
    "\n",
    "    mae_lasso = mean_absolute_error(y_test, lasso_pred)\n",
    "    mse_lasso  = mean_squared_error(y_test, lasso_pred)\n",
    "    rmse_lasso  = compute_RMSE(y_test, lasso_pred)\n",
    "    r2_lasso  = r2_score(y_test, lasso_pred)\n",
    "    \n",
    "    print(f\"Lasso Mean Absolute Error: {mae_lasso}\")\n",
    "    print(f\"Lasso Mean Squared Error: {mse_lasso}\")\n",
    "    print(f\"Lasso Root Mean Squared Error: {rmse_lasso}\")\n",
    "    print(f\"Lasso R-squared: {r2_lasso}\\n\")\n",
    "    \n",
    "    ### Change mse_lasso to the appropriate variable\n",
    "    if mse_lasso < best_score_lasso:\n",
    "        best_score_lasso = mse_lasso\n",
    "        best_grid = p\n",
    "\n",
    "print(\"Best Score: \", best_score_lasso, \"%\")\n",
    "print(\"Best Grid: \", best_grid)"
   ]
  },
  {
   "cell_type": "markdown",
   "metadata": {},
   "source": [
    "Similar with the Ridge Regression Model, the lasso regression model's performance was assessed across varying alpha values, reflecting different levels of regularization. A lower alpha value of 0.0001 demonstrated superior performance, showing the reduced Mean Absolute Error (MAE), Mean Squared Error (MSE), and Root Mean Squared Error (RMSE), along with a higher R-squared value, indicating a better fit to the data. As alpha increased, representing stronger regularization, there was a gradual rise in error metrics and a decline in R-squared, signifying a decline in model performance. The Lasso Regression model exhibited optimal predictive ability at an alpha value of 0.0001, highlighting the significance of minimal regularization for achieving better predictive accuracy on this dataset."
   ]
  },
  {
   "cell_type": "markdown",
   "metadata": {},
   "source": [
    "**Lasso and Ridge Comparison Check:** Lasso Regression was more sensitive to stronger regularization, potentially leading to feature elimination and decreased model performance, while Ridge Regression exhibited a more stable performance with moderate impacts from regularization."
   ]
  },
  {
   "cell_type": "markdown",
   "id": "3ad64050",
   "metadata": {},
   "source": [
    "### **Model 4: Decision Tree Regressor**"
   ]
  },
  {
   "cell_type": "markdown",
   "id": "613c30bd",
   "metadata": {},
   "source": [
    "In this model, we will use `RandomizedSearchCV` to aid in hyperparameter tuning on our Decision Tree Regressor model."
   ]
  },
  {
   "cell_type": "code",
   "execution_count": 146,
   "id": "59190449",
   "metadata": {},
   "outputs": [],
   "source": [
    "from sklearn.model_selection import RandomizedSearchCV"
   ]
  },
  {
   "cell_type": "markdown",
   "id": "4e6b1d1a",
   "metadata": {},
   "source": [
    "We start by finding our `hyperparameters` from the list of parameters of each model."
   ]
  },
  {
   "cell_type": "code",
   "execution_count": 147,
   "id": "642a2b4f",
   "metadata": {},
   "outputs": [
    {
     "data": {
      "text/plain": [
       "{'ccp_alpha': 0.0,\n",
       " 'criterion': 'squared_error',\n",
       " 'max_depth': None,\n",
       " 'max_features': None,\n",
       " 'max_leaf_nodes': None,\n",
       " 'min_impurity_decrease': 0.0,\n",
       " 'min_samples_leaf': 1,\n",
       " 'min_samples_split': 2,\n",
       " 'min_weight_fraction_leaf': 0.0,\n",
       " 'random_state': 42,\n",
       " 'splitter': 'best'}"
      ]
     },
     "execution_count": 147,
     "metadata": {},
     "output_type": "execute_result"
    }
   ],
   "source": [
    "dt_model = DecisionTreeRegressor(random_state = 42)\n",
    "dt_model.get_params()"
   ]
  },
  {
   "cell_type": "markdown",
   "id": "8023ab0d",
   "metadata": {},
   "source": [
    "Let's set the following hyperparameter choices for use in the `RandomizedSearchCV` object."
   ]
  },
  {
   "cell_type": "code",
   "execution_count": 148,
   "id": "87c7643e",
   "metadata": {},
   "outputs": [],
   "source": [
    "dtr_parameters={\n",
    "        \"max_depth\": [2, 4, 6, 10, 15, 20],\n",
    "        \"min_samples_split\": [2, 4, 6, 10, 15, 20],\n",
    "        \"min_impurity_decrease\": [0.001, 0.01, 0.05, 0.1, 0.3, 0.5],\n",
    "        \"max_leaf_nodes\": [3, 5, 10, 20, 50, 100] \n",
    "}"
   ]
  },
  {
   "cell_type": "markdown",
   "id": "0b8526e6",
   "metadata": {},
   "source": [
    "Now we can create our `RandomizedSearchCV` object."
   ]
  },
  {
   "cell_type": "code",
   "execution_count": 149,
   "id": "a1e36124",
   "metadata": {},
   "outputs": [],
   "source": [
    "rsr = RandomizedSearchCV(dt_model, dtr_parameters, n_iter=50, cv=5, random_state=42)"
   ]
  },
  {
   "cell_type": "markdown",
   "id": "f4d0da01",
   "metadata": {},
   "source": [
    "Train the `rsr` model on our training data."
   ]
  },
  {
   "cell_type": "code",
   "execution_count": 150,
   "id": "0ad3d6e4",
   "metadata": {},
   "outputs": [
    {
     "data": {
      "text/html": [
       "<style>#sk-container-id-15 {color: black;}#sk-container-id-15 pre{padding: 0;}#sk-container-id-15 div.sk-toggleable {background-color: white;}#sk-container-id-15 label.sk-toggleable__label {cursor: pointer;display: block;width: 100%;margin-bottom: 0;padding: 0.3em;box-sizing: border-box;text-align: center;}#sk-container-id-15 label.sk-toggleable__label-arrow:before {content: \"▸\";float: left;margin-right: 0.25em;color: #696969;}#sk-container-id-15 label.sk-toggleable__label-arrow:hover:before {color: black;}#sk-container-id-15 div.sk-estimator:hover label.sk-toggleable__label-arrow:before {color: black;}#sk-container-id-15 div.sk-toggleable__content {max-height: 0;max-width: 0;overflow: hidden;text-align: left;background-color: #f0f8ff;}#sk-container-id-15 div.sk-toggleable__content pre {margin: 0.2em;color: black;border-radius: 0.25em;background-color: #f0f8ff;}#sk-container-id-15 input.sk-toggleable__control:checked~div.sk-toggleable__content {max-height: 200px;max-width: 100%;overflow: auto;}#sk-container-id-15 input.sk-toggleable__control:checked~label.sk-toggleable__label-arrow:before {content: \"▾\";}#sk-container-id-15 div.sk-estimator input.sk-toggleable__control:checked~label.sk-toggleable__label {background-color: #d4ebff;}#sk-container-id-15 div.sk-label input.sk-toggleable__control:checked~label.sk-toggleable__label {background-color: #d4ebff;}#sk-container-id-15 input.sk-hidden--visually {border: 0;clip: rect(1px 1px 1px 1px);clip: rect(1px, 1px, 1px, 1px);height: 1px;margin: -1px;overflow: hidden;padding: 0;position: absolute;width: 1px;}#sk-container-id-15 div.sk-estimator {font-family: monospace;background-color: #f0f8ff;border: 1px dotted black;border-radius: 0.25em;box-sizing: border-box;margin-bottom: 0.5em;}#sk-container-id-15 div.sk-estimator:hover {background-color: #d4ebff;}#sk-container-id-15 div.sk-parallel-item::after {content: \"\";width: 100%;border-bottom: 1px solid gray;flex-grow: 1;}#sk-container-id-15 div.sk-label:hover label.sk-toggleable__label {background-color: #d4ebff;}#sk-container-id-15 div.sk-serial::before {content: \"\";position: absolute;border-left: 1px solid gray;box-sizing: border-box;top: 0;bottom: 0;left: 50%;z-index: 0;}#sk-container-id-15 div.sk-serial {display: flex;flex-direction: column;align-items: center;background-color: white;padding-right: 0.2em;padding-left: 0.2em;position: relative;}#sk-container-id-15 div.sk-item {position: relative;z-index: 1;}#sk-container-id-15 div.sk-parallel {display: flex;align-items: stretch;justify-content: center;background-color: white;position: relative;}#sk-container-id-15 div.sk-item::before, #sk-container-id-15 div.sk-parallel-item::before {content: \"\";position: absolute;border-left: 1px solid gray;box-sizing: border-box;top: 0;bottom: 0;left: 50%;z-index: -1;}#sk-container-id-15 div.sk-parallel-item {display: flex;flex-direction: column;z-index: 1;position: relative;background-color: white;}#sk-container-id-15 div.sk-parallel-item:first-child::after {align-self: flex-end;width: 50%;}#sk-container-id-15 div.sk-parallel-item:last-child::after {align-self: flex-start;width: 50%;}#sk-container-id-15 div.sk-parallel-item:only-child::after {width: 0;}#sk-container-id-15 div.sk-dashed-wrapped {border: 1px dashed gray;margin: 0 0.4em 0.5em 0.4em;box-sizing: border-box;padding-bottom: 0.4em;background-color: white;}#sk-container-id-15 div.sk-label label {font-family: monospace;font-weight: bold;display: inline-block;line-height: 1.2em;}#sk-container-id-15 div.sk-label-container {text-align: center;}#sk-container-id-15 div.sk-container {/* jupyter's `normalize.less` sets `[hidden] { display: none; }` but bootstrap.min.css set `[hidden] { display: none !important; }` so we also need the `!important` here to be able to override the default hidden behavior on the sphinx rendered scikit-learn.org. See: https://github.com/scikit-learn/scikit-learn/issues/21755 */display: inline-block !important;position: relative;}#sk-container-id-15 div.sk-text-repr-fallback {display: none;}</style><div id=\"sk-container-id-15\" class=\"sk-top-container\"><div class=\"sk-text-repr-fallback\"><pre>RandomizedSearchCV(cv=5, estimator=DecisionTreeRegressor(random_state=42),\n",
       "                   n_iter=50,\n",
       "                   param_distributions={&#x27;max_depth&#x27;: [2, 4, 6, 10, 15, 20],\n",
       "                                        &#x27;max_leaf_nodes&#x27;: [3, 5, 10, 20, 50,\n",
       "                                                           100],\n",
       "                                        &#x27;min_impurity_decrease&#x27;: [0.001, 0.01,\n",
       "                                                                  0.05, 0.1,\n",
       "                                                                  0.3, 0.5],\n",
       "                                        &#x27;min_samples_split&#x27;: [2, 4, 6, 10, 15,\n",
       "                                                              20]},\n",
       "                   random_state=42)</pre><b>In a Jupyter environment, please rerun this cell to show the HTML representation or trust the notebook. <br />On GitHub, the HTML representation is unable to render, please try loading this page with nbviewer.org.</b></div><div class=\"sk-container\" hidden><div class=\"sk-item sk-dashed-wrapped\"><div class=\"sk-label-container\"><div class=\"sk-label sk-toggleable\"><input class=\"sk-toggleable__control sk-hidden--visually\" id=\"sk-estimator-id-19\" type=\"checkbox\" ><label for=\"sk-estimator-id-19\" class=\"sk-toggleable__label sk-toggleable__label-arrow\">RandomizedSearchCV</label><div class=\"sk-toggleable__content\"><pre>RandomizedSearchCV(cv=5, estimator=DecisionTreeRegressor(random_state=42),\n",
       "                   n_iter=50,\n",
       "                   param_distributions={&#x27;max_depth&#x27;: [2, 4, 6, 10, 15, 20],\n",
       "                                        &#x27;max_leaf_nodes&#x27;: [3, 5, 10, 20, 50,\n",
       "                                                           100],\n",
       "                                        &#x27;min_impurity_decrease&#x27;: [0.001, 0.01,\n",
       "                                                                  0.05, 0.1,\n",
       "                                                                  0.3, 0.5],\n",
       "                                        &#x27;min_samples_split&#x27;: [2, 4, 6, 10, 15,\n",
       "                                                              20]},\n",
       "                   random_state=42)</pre></div></div></div><div class=\"sk-parallel\"><div class=\"sk-parallel-item\"><div class=\"sk-item\"><div class=\"sk-label-container\"><div class=\"sk-label sk-toggleable\"><input class=\"sk-toggleable__control sk-hidden--visually\" id=\"sk-estimator-id-20\" type=\"checkbox\" ><label for=\"sk-estimator-id-20\" class=\"sk-toggleable__label sk-toggleable__label-arrow\">estimator: DecisionTreeRegressor</label><div class=\"sk-toggleable__content\"><pre>DecisionTreeRegressor(random_state=42)</pre></div></div></div><div class=\"sk-serial\"><div class=\"sk-item\"><div class=\"sk-estimator sk-toggleable\"><input class=\"sk-toggleable__control sk-hidden--visually\" id=\"sk-estimator-id-21\" type=\"checkbox\" ><label for=\"sk-estimator-id-21\" class=\"sk-toggleable__label sk-toggleable__label-arrow\">DecisionTreeRegressor</label><div class=\"sk-toggleable__content\"><pre>DecisionTreeRegressor(random_state=42)</pre></div></div></div></div></div></div></div></div></div></div>"
      ],
      "text/plain": [
       "RandomizedSearchCV(cv=5, estimator=DecisionTreeRegressor(random_state=42),\n",
       "                   n_iter=50,\n",
       "                   param_distributions={'max_depth': [2, 4, 6, 10, 15, 20],\n",
       "                                        'max_leaf_nodes': [3, 5, 10, 20, 50,\n",
       "                                                           100],\n",
       "                                        'min_impurity_decrease': [0.001, 0.01,\n",
       "                                                                  0.05, 0.1,\n",
       "                                                                  0.3, 0.5],\n",
       "                                        'min_samples_split': [2, 4, 6, 10, 15,\n",
       "                                                              20]},\n",
       "                   random_state=42)"
      ]
     },
     "execution_count": 150,
     "metadata": {},
     "output_type": "execute_result"
    }
   ],
   "source": [
    "rsr.fit(x_train, y_train)"
   ]
  },
  {
   "cell_type": "markdown",
   "id": "8a4e45bf",
   "metadata": {},
   "source": [
    "Let's see the results of each model (with their corresponding `hyperparameters`)."
   ]
  },
  {
   "cell_type": "code",
   "execution_count": 151,
   "id": "766f6359",
   "metadata": {},
   "outputs": [
    {
     "data": {
      "text/html": [
       "<div>\n",
       "<style scoped>\n",
       "    .dataframe tbody tr th:only-of-type {\n",
       "        vertical-align: middle;\n",
       "    }\n",
       "\n",
       "    .dataframe tbody tr th {\n",
       "        vertical-align: top;\n",
       "    }\n",
       "\n",
       "    .dataframe thead th {\n",
       "        text-align: right;\n",
       "    }\n",
       "</style>\n",
       "<table border=\"1\" class=\"dataframe\">\n",
       "  <thead>\n",
       "    <tr style=\"text-align: right;\">\n",
       "      <th></th>\n",
       "      <th>mean_fit_time</th>\n",
       "      <th>std_fit_time</th>\n",
       "      <th>mean_score_time</th>\n",
       "      <th>std_score_time</th>\n",
       "      <th>param_min_samples_split</th>\n",
       "      <th>param_min_impurity_decrease</th>\n",
       "      <th>param_max_leaf_nodes</th>\n",
       "      <th>param_max_depth</th>\n",
       "      <th>params</th>\n",
       "      <th>split0_test_score</th>\n",
       "      <th>split1_test_score</th>\n",
       "      <th>split2_test_score</th>\n",
       "      <th>split3_test_score</th>\n",
       "      <th>split4_test_score</th>\n",
       "      <th>mean_test_score</th>\n",
       "      <th>std_test_score</th>\n",
       "      <th>rank_test_score</th>\n",
       "    </tr>\n",
       "  </thead>\n",
       "  <tbody>\n",
       "    <tr>\n",
       "      <th>0</th>\n",
       "      <td>0.002793</td>\n",
       "      <td>0.000399</td>\n",
       "      <td>0.002195</td>\n",
       "      <td>0.000398</td>\n",
       "      <td>15</td>\n",
       "      <td>0.1</td>\n",
       "      <td>50</td>\n",
       "      <td>6</td>\n",
       "      <td>{'min_samples_split': 15, 'min_impurity_decrease': 0.1, 'max_leaf_nodes': 50, 'max_depth': 6}</td>\n",
       "      <td>-0.000232</td>\n",
       "      <td>-0.045272</td>\n",
       "      <td>-0.000914</td>\n",
       "      <td>-0.013410</td>\n",
       "      <td>-0.008903</td>\n",
       "      <td>-0.013746</td>\n",
       "      <td>0.016521</td>\n",
       "      <td>7</td>\n",
       "    </tr>\n",
       "    <tr>\n",
       "      <th>1</th>\n",
       "      <td>0.003590</td>\n",
       "      <td>0.000489</td>\n",
       "      <td>0.001794</td>\n",
       "      <td>0.000399</td>\n",
       "      <td>15</td>\n",
       "      <td>0.1</td>\n",
       "      <td>20</td>\n",
       "      <td>4</td>\n",
       "      <td>{'min_samples_split': 15, 'min_impurity_decrease': 0.1, 'max_leaf_nodes': 20, 'max_depth': 4}</td>\n",
       "      <td>-0.000232</td>\n",
       "      <td>-0.045272</td>\n",
       "      <td>-0.000914</td>\n",
       "      <td>-0.013410</td>\n",
       "      <td>-0.008903</td>\n",
       "      <td>-0.013746</td>\n",
       "      <td>0.016521</td>\n",
       "      <td>7</td>\n",
       "    </tr>\n",
       "    <tr>\n",
       "      <th>2</th>\n",
       "      <td>0.002793</td>\n",
       "      <td>0.000747</td>\n",
       "      <td>0.001795</td>\n",
       "      <td>0.000398</td>\n",
       "      <td>4</td>\n",
       "      <td>0.3</td>\n",
       "      <td>10</td>\n",
       "      <td>10</td>\n",
       "      <td>{'min_samples_split': 4, 'min_impurity_decrease': 0.3, 'max_leaf_nodes': 10, 'max_depth': 10}</td>\n",
       "      <td>-0.000232</td>\n",
       "      <td>-0.045272</td>\n",
       "      <td>-0.000914</td>\n",
       "      <td>-0.013410</td>\n",
       "      <td>-0.008903</td>\n",
       "      <td>-0.013746</td>\n",
       "      <td>0.016521</td>\n",
       "      <td>7</td>\n",
       "    </tr>\n",
       "    <tr>\n",
       "      <th>3</th>\n",
       "      <td>0.002591</td>\n",
       "      <td>0.001016</td>\n",
       "      <td>0.001597</td>\n",
       "      <td>0.000799</td>\n",
       "      <td>10</td>\n",
       "      <td>0.1</td>\n",
       "      <td>50</td>\n",
       "      <td>15</td>\n",
       "      <td>{'min_samples_split': 10, 'min_impurity_decrease': 0.1, 'max_leaf_nodes': 50, 'max_depth': 15}</td>\n",
       "      <td>-0.000232</td>\n",
       "      <td>-0.045272</td>\n",
       "      <td>-0.000914</td>\n",
       "      <td>-0.013410</td>\n",
       "      <td>-0.008903</td>\n",
       "      <td>-0.013746</td>\n",
       "      <td>0.016521</td>\n",
       "      <td>7</td>\n",
       "    </tr>\n",
       "    <tr>\n",
       "      <th>4</th>\n",
       "      <td>0.002796</td>\n",
       "      <td>0.000753</td>\n",
       "      <td>0.002390</td>\n",
       "      <td>0.000492</td>\n",
       "      <td>2</td>\n",
       "      <td>0.01</td>\n",
       "      <td>10</td>\n",
       "      <td>20</td>\n",
       "      <td>{'min_samples_split': 2, 'min_impurity_decrease': 0.01, 'max_leaf_nodes': 10, 'max_depth': 20}</td>\n",
       "      <td>-0.000232</td>\n",
       "      <td>-0.045272</td>\n",
       "      <td>-0.000914</td>\n",
       "      <td>-0.013410</td>\n",
       "      <td>-0.008903</td>\n",
       "      <td>-0.013746</td>\n",
       "      <td>0.016521</td>\n",
       "      <td>7</td>\n",
       "    </tr>\n",
       "    <tr>\n",
       "      <th>5</th>\n",
       "      <td>0.003192</td>\n",
       "      <td>0.000976</td>\n",
       "      <td>0.001595</td>\n",
       "      <td>0.000488</td>\n",
       "      <td>6</td>\n",
       "      <td>0.05</td>\n",
       "      <td>20</td>\n",
       "      <td>15</td>\n",
       "      <td>{'min_samples_split': 6, 'min_impurity_decrease': 0.05, 'max_leaf_nodes': 20, 'max_depth': 15}</td>\n",
       "      <td>-0.000232</td>\n",
       "      <td>-0.045272</td>\n",
       "      <td>-0.000914</td>\n",
       "      <td>-0.013410</td>\n",
       "      <td>-0.008903</td>\n",
       "      <td>-0.013746</td>\n",
       "      <td>0.016521</td>\n",
       "      <td>7</td>\n",
       "    </tr>\n",
       "    <tr>\n",
       "      <th>6</th>\n",
       "      <td>0.003790</td>\n",
       "      <td>0.000399</td>\n",
       "      <td>0.001796</td>\n",
       "      <td>0.000399</td>\n",
       "      <td>15</td>\n",
       "      <td>0.01</td>\n",
       "      <td>5</td>\n",
       "      <td>6</td>\n",
       "      <td>{'min_samples_split': 15, 'min_impurity_decrease': 0.01, 'max_leaf_nodes': 5, 'max_depth': 6}</td>\n",
       "      <td>-0.000232</td>\n",
       "      <td>-0.045272</td>\n",
       "      <td>-0.000914</td>\n",
       "      <td>-0.013410</td>\n",
       "      <td>-0.008903</td>\n",
       "      <td>-0.013746</td>\n",
       "      <td>0.016521</td>\n",
       "      <td>7</td>\n",
       "    </tr>\n",
       "    <tr>\n",
       "      <th>7</th>\n",
       "      <td>0.002992</td>\n",
       "      <td>0.000891</td>\n",
       "      <td>0.001596</td>\n",
       "      <td>0.000489</td>\n",
       "      <td>15</td>\n",
       "      <td>0.05</td>\n",
       "      <td>100</td>\n",
       "      <td>6</td>\n",
       "      <td>{'min_samples_split': 15, 'min_impurity_decrease': 0.05, 'max_leaf_nodes': 100, 'max_depth': 6}</td>\n",
       "      <td>-0.000232</td>\n",
       "      <td>-0.045272</td>\n",
       "      <td>-0.000914</td>\n",
       "      <td>-0.013410</td>\n",
       "      <td>-0.008903</td>\n",
       "      <td>-0.013746</td>\n",
       "      <td>0.016521</td>\n",
       "      <td>7</td>\n",
       "    </tr>\n",
       "    <tr>\n",
       "      <th>8</th>\n",
       "      <td>0.002796</td>\n",
       "      <td>0.000731</td>\n",
       "      <td>0.002191</td>\n",
       "      <td>0.000400</td>\n",
       "      <td>6</td>\n",
       "      <td>0.3</td>\n",
       "      <td>3</td>\n",
       "      <td>15</td>\n",
       "      <td>{'min_samples_split': 6, 'min_impurity_decrease': 0.3, 'max_leaf_nodes': 3, 'max_depth': 15}</td>\n",
       "      <td>-0.000232</td>\n",
       "      <td>-0.045272</td>\n",
       "      <td>-0.000914</td>\n",
       "      <td>-0.013410</td>\n",
       "      <td>-0.008903</td>\n",
       "      <td>-0.013746</td>\n",
       "      <td>0.016521</td>\n",
       "      <td>7</td>\n",
       "    </tr>\n",
       "    <tr>\n",
       "      <th>9</th>\n",
       "      <td>0.004388</td>\n",
       "      <td>0.000798</td>\n",
       "      <td>0.002003</td>\n",
       "      <td>0.000632</td>\n",
       "      <td>15</td>\n",
       "      <td>0.001</td>\n",
       "      <td>10</td>\n",
       "      <td>2</td>\n",
       "      <td>{'min_samples_split': 15, 'min_impurity_decrease': 0.001, 'max_leaf_nodes': 10, 'max_depth': 2}</td>\n",
       "      <td>0.115297</td>\n",
       "      <td>0.191987</td>\n",
       "      <td>0.254609</td>\n",
       "      <td>0.200728</td>\n",
       "      <td>0.219330</td>\n",
       "      <td>0.196390</td>\n",
       "      <td>0.045891</td>\n",
       "      <td>5</td>\n",
       "    </tr>\n",
       "    <tr>\n",
       "      <th>10</th>\n",
       "      <td>0.003184</td>\n",
       "      <td>0.000722</td>\n",
       "      <td>0.002206</td>\n",
       "      <td>0.000393</td>\n",
       "      <td>15</td>\n",
       "      <td>0.05</td>\n",
       "      <td>10</td>\n",
       "      <td>10</td>\n",
       "      <td>{'min_samples_split': 15, 'min_impurity_decrease': 0.05, 'max_leaf_nodes': 10, 'max_depth': 10}</td>\n",
       "      <td>-0.000232</td>\n",
       "      <td>-0.045272</td>\n",
       "      <td>-0.000914</td>\n",
       "      <td>-0.013410</td>\n",
       "      <td>-0.008903</td>\n",
       "      <td>-0.013746</td>\n",
       "      <td>0.016521</td>\n",
       "      <td>7</td>\n",
       "    </tr>\n",
       "    <tr>\n",
       "      <th>11</th>\n",
       "      <td>0.003592</td>\n",
       "      <td>0.000488</td>\n",
       "      <td>0.001986</td>\n",
       "      <td>0.000632</td>\n",
       "      <td>10</td>\n",
       "      <td>0.05</td>\n",
       "      <td>5</td>\n",
       "      <td>20</td>\n",
       "      <td>{'min_samples_split': 10, 'min_impurity_decrease': 0.05, 'max_leaf_nodes': 5, 'max_depth': 20}</td>\n",
       "      <td>-0.000232</td>\n",
       "      <td>-0.045272</td>\n",
       "      <td>-0.000914</td>\n",
       "      <td>-0.013410</td>\n",
       "      <td>-0.008903</td>\n",
       "      <td>-0.013746</td>\n",
       "      <td>0.016521</td>\n",
       "      <td>7</td>\n",
       "    </tr>\n",
       "    <tr>\n",
       "      <th>12</th>\n",
       "      <td>0.004402</td>\n",
       "      <td>0.000784</td>\n",
       "      <td>0.001979</td>\n",
       "      <td>0.000609</td>\n",
       "      <td>15</td>\n",
       "      <td>0.001</td>\n",
       "      <td>10</td>\n",
       "      <td>10</td>\n",
       "      <td>{'min_samples_split': 15, 'min_impurity_decrease': 0.001, 'max_leaf_nodes': 10, 'max_depth': 10}</td>\n",
       "      <td>0.203775</td>\n",
       "      <td>0.216292</td>\n",
       "      <td>0.257086</td>\n",
       "      <td>0.200728</td>\n",
       "      <td>0.219330</td>\n",
       "      <td>0.219442</td>\n",
       "      <td>0.020113</td>\n",
       "      <td>1</td>\n",
       "    </tr>\n",
       "    <tr>\n",
       "      <th>13</th>\n",
       "      <td>0.003179</td>\n",
       "      <td>0.000743</td>\n",
       "      <td>0.001800</td>\n",
       "      <td>0.000756</td>\n",
       "      <td>2</td>\n",
       "      <td>0.5</td>\n",
       "      <td>3</td>\n",
       "      <td>6</td>\n",
       "      <td>{'min_samples_split': 2, 'min_impurity_decrease': 0.5, 'max_leaf_nodes': 3, 'max_depth': 6}</td>\n",
       "      <td>-0.000232</td>\n",
       "      <td>-0.045272</td>\n",
       "      <td>-0.000914</td>\n",
       "      <td>-0.013410</td>\n",
       "      <td>-0.008903</td>\n",
       "      <td>-0.013746</td>\n",
       "      <td>0.016521</td>\n",
       "      <td>7</td>\n",
       "    </tr>\n",
       "    <tr>\n",
       "      <th>14</th>\n",
       "      <td>0.002800</td>\n",
       "      <td>0.000749</td>\n",
       "      <td>0.001987</td>\n",
       "      <td>0.000620</td>\n",
       "      <td>15</td>\n",
       "      <td>0.3</td>\n",
       "      <td>10</td>\n",
       "      <td>15</td>\n",
       "      <td>{'min_samples_split': 15, 'min_impurity_decrease': 0.3, 'max_leaf_nodes': 10, 'max_depth': 15}</td>\n",
       "      <td>-0.000232</td>\n",
       "      <td>-0.045272</td>\n",
       "      <td>-0.000914</td>\n",
       "      <td>-0.013410</td>\n",
       "      <td>-0.008903</td>\n",
       "      <td>-0.013746</td>\n",
       "      <td>0.016521</td>\n",
       "      <td>7</td>\n",
       "    </tr>\n",
       "    <tr>\n",
       "      <th>15</th>\n",
       "      <td>0.002594</td>\n",
       "      <td>0.000476</td>\n",
       "      <td>0.001794</td>\n",
       "      <td>0.000399</td>\n",
       "      <td>6</td>\n",
       "      <td>0.01</td>\n",
       "      <td>5</td>\n",
       "      <td>2</td>\n",
       "      <td>{'min_samples_split': 6, 'min_impurity_decrease': 0.01, 'max_leaf_nodes': 5, 'max_depth': 2}</td>\n",
       "      <td>-0.000232</td>\n",
       "      <td>-0.045272</td>\n",
       "      <td>-0.000914</td>\n",
       "      <td>-0.013410</td>\n",
       "      <td>-0.008903</td>\n",
       "      <td>-0.013746</td>\n",
       "      <td>0.016521</td>\n",
       "      <td>7</td>\n",
       "    </tr>\n",
       "    <tr>\n",
       "      <th>16</th>\n",
       "      <td>0.002194</td>\n",
       "      <td>0.000398</td>\n",
       "      <td>0.001798</td>\n",
       "      <td>0.000767</td>\n",
       "      <td>20</td>\n",
       "      <td>0.3</td>\n",
       "      <td>5</td>\n",
       "      <td>2</td>\n",
       "      <td>{'min_samples_split': 20, 'min_impurity_decrease': 0.3, 'max_leaf_nodes': 5, 'max_depth': 2}</td>\n",
       "      <td>-0.000232</td>\n",
       "      <td>-0.045272</td>\n",
       "      <td>-0.000914</td>\n",
       "      <td>-0.013410</td>\n",
       "      <td>-0.008903</td>\n",
       "      <td>-0.013746</td>\n",
       "      <td>0.016521</td>\n",
       "      <td>7</td>\n",
       "    </tr>\n",
       "    <tr>\n",
       "      <th>17</th>\n",
       "      <td>0.003584</td>\n",
       "      <td>0.000793</td>\n",
       "      <td>0.001602</td>\n",
       "      <td>0.000468</td>\n",
       "      <td>20</td>\n",
       "      <td>0.01</td>\n",
       "      <td>10</td>\n",
       "      <td>10</td>\n",
       "      <td>{'min_samples_split': 20, 'min_impurity_decrease': 0.01, 'max_leaf_nodes': 10, 'max_depth': 10}</td>\n",
       "      <td>-0.000232</td>\n",
       "      <td>-0.045272</td>\n",
       "      <td>-0.000914</td>\n",
       "      <td>-0.013410</td>\n",
       "      <td>-0.008903</td>\n",
       "      <td>-0.013746</td>\n",
       "      <td>0.016521</td>\n",
       "      <td>7</td>\n",
       "    </tr>\n",
       "    <tr>\n",
       "      <th>18</th>\n",
       "      <td>0.003596</td>\n",
       "      <td>0.000507</td>\n",
       "      <td>0.001988</td>\n",
       "      <td>0.000012</td>\n",
       "      <td>4</td>\n",
       "      <td>0.3</td>\n",
       "      <td>3</td>\n",
       "      <td>10</td>\n",
       "      <td>{'min_samples_split': 4, 'min_impurity_decrease': 0.3, 'max_leaf_nodes': 3, 'max_depth': 10}</td>\n",
       "      <td>-0.000232</td>\n",
       "      <td>-0.045272</td>\n",
       "      <td>-0.000914</td>\n",
       "      <td>-0.013410</td>\n",
       "      <td>-0.008903</td>\n",
       "      <td>-0.013746</td>\n",
       "      <td>0.016521</td>\n",
       "      <td>7</td>\n",
       "    </tr>\n",
       "    <tr>\n",
       "      <th>19</th>\n",
       "      <td>0.003384</td>\n",
       "      <td>0.000482</td>\n",
       "      <td>0.001197</td>\n",
       "      <td>0.000399</td>\n",
       "      <td>10</td>\n",
       "      <td>0.001</td>\n",
       "      <td>50</td>\n",
       "      <td>4</td>\n",
       "      <td>{'min_samples_split': 10, 'min_impurity_decrease': 0.001, 'max_leaf_nodes': 50, 'max_depth': 4}</td>\n",
       "      <td>0.203775</td>\n",
       "      <td>0.216292</td>\n",
       "      <td>0.257086</td>\n",
       "      <td>0.200728</td>\n",
       "      <td>0.219330</td>\n",
       "      <td>0.219442</td>\n",
       "      <td>0.020113</td>\n",
       "      <td>1</td>\n",
       "    </tr>\n",
       "    <tr>\n",
       "      <th>20</th>\n",
       "      <td>0.002592</td>\n",
       "      <td>0.000798</td>\n",
       "      <td>0.001796</td>\n",
       "      <td>0.000746</td>\n",
       "      <td>20</td>\n",
       "      <td>0.3</td>\n",
       "      <td>100</td>\n",
       "      <td>4</td>\n",
       "      <td>{'min_samples_split': 20, 'min_impurity_decrease': 0.3, 'max_leaf_nodes': 100, 'max_depth': 4}</td>\n",
       "      <td>-0.000232</td>\n",
       "      <td>-0.045272</td>\n",
       "      <td>-0.000914</td>\n",
       "      <td>-0.013410</td>\n",
       "      <td>-0.008903</td>\n",
       "      <td>-0.013746</td>\n",
       "      <td>0.016521</td>\n",
       "      <td>7</td>\n",
       "    </tr>\n",
       "    <tr>\n",
       "      <th>21</th>\n",
       "      <td>0.003988</td>\n",
       "      <td>0.001087</td>\n",
       "      <td>0.001796</td>\n",
       "      <td>0.000400</td>\n",
       "      <td>20</td>\n",
       "      <td>0.001</td>\n",
       "      <td>20</td>\n",
       "      <td>15</td>\n",
       "      <td>{'min_samples_split': 20, 'min_impurity_decrease': 0.001, 'max_leaf_nodes': 20, 'max_depth': 15}</td>\n",
       "      <td>0.203775</td>\n",
       "      <td>0.216292</td>\n",
       "      <td>0.257086</td>\n",
       "      <td>0.200728</td>\n",
       "      <td>0.219330</td>\n",
       "      <td>0.219442</td>\n",
       "      <td>0.020113</td>\n",
       "      <td>1</td>\n",
       "    </tr>\n",
       "    <tr>\n",
       "      <th>22</th>\n",
       "      <td>0.002394</td>\n",
       "      <td>0.000490</td>\n",
       "      <td>0.001595</td>\n",
       "      <td>0.000488</td>\n",
       "      <td>2</td>\n",
       "      <td>0.01</td>\n",
       "      <td>100</td>\n",
       "      <td>15</td>\n",
       "      <td>{'min_samples_split': 2, 'min_impurity_decrease': 0.01, 'max_leaf_nodes': 100, 'max_depth': 15}</td>\n",
       "      <td>-0.000232</td>\n",
       "      <td>-0.045272</td>\n",
       "      <td>-0.000914</td>\n",
       "      <td>-0.013410</td>\n",
       "      <td>-0.008903</td>\n",
       "      <td>-0.013746</td>\n",
       "      <td>0.016521</td>\n",
       "      <td>7</td>\n",
       "    </tr>\n",
       "    <tr>\n",
       "      <th>23</th>\n",
       "      <td>0.002784</td>\n",
       "      <td>0.000397</td>\n",
       "      <td>0.001603</td>\n",
       "      <td>0.000481</td>\n",
       "      <td>20</td>\n",
       "      <td>0.3</td>\n",
       "      <td>10</td>\n",
       "      <td>2</td>\n",
       "      <td>{'min_samples_split': 20, 'min_impurity_decrease': 0.3, 'max_leaf_nodes': 10, 'max_depth': 2}</td>\n",
       "      <td>-0.000232</td>\n",
       "      <td>-0.045272</td>\n",
       "      <td>-0.000914</td>\n",
       "      <td>-0.013410</td>\n",
       "      <td>-0.008903</td>\n",
       "      <td>-0.013746</td>\n",
       "      <td>0.016521</td>\n",
       "      <td>7</td>\n",
       "    </tr>\n",
       "    <tr>\n",
       "      <th>24</th>\n",
       "      <td>0.002194</td>\n",
       "      <td>0.000401</td>\n",
       "      <td>0.002001</td>\n",
       "      <td>0.000632</td>\n",
       "      <td>20</td>\n",
       "      <td>0.01</td>\n",
       "      <td>5</td>\n",
       "      <td>6</td>\n",
       "      <td>{'min_samples_split': 20, 'min_impurity_decrease': 0.01, 'max_leaf_nodes': 5, 'max_depth': 6}</td>\n",
       "      <td>-0.000232</td>\n",
       "      <td>-0.045272</td>\n",
       "      <td>-0.000914</td>\n",
       "      <td>-0.013410</td>\n",
       "      <td>-0.008903</td>\n",
       "      <td>-0.013746</td>\n",
       "      <td>0.016521</td>\n",
       "      <td>7</td>\n",
       "    </tr>\n",
       "    <tr>\n",
       "      <th>25</th>\n",
       "      <td>0.003173</td>\n",
       "      <td>0.000971</td>\n",
       "      <td>0.001813</td>\n",
       "      <td>0.000391</td>\n",
       "      <td>4</td>\n",
       "      <td>0.05</td>\n",
       "      <td>5</td>\n",
       "      <td>4</td>\n",
       "      <td>{'min_samples_split': 4, 'min_impurity_decrease': 0.05, 'max_leaf_nodes': 5, 'max_depth': 4}</td>\n",
       "      <td>-0.000232</td>\n",
       "      <td>-0.045272</td>\n",
       "      <td>-0.000914</td>\n",
       "      <td>-0.013410</td>\n",
       "      <td>-0.008903</td>\n",
       "      <td>-0.013746</td>\n",
       "      <td>0.016521</td>\n",
       "      <td>7</td>\n",
       "    </tr>\n",
       "    <tr>\n",
       "      <th>26</th>\n",
       "      <td>0.002579</td>\n",
       "      <td>0.000783</td>\n",
       "      <td>0.002399</td>\n",
       "      <td>0.000482</td>\n",
       "      <td>10</td>\n",
       "      <td>0.1</td>\n",
       "      <td>20</td>\n",
       "      <td>20</td>\n",
       "      <td>{'min_samples_split': 10, 'min_impurity_decrease': 0.1, 'max_leaf_nodes': 20, 'max_depth': 20}</td>\n",
       "      <td>-0.000232</td>\n",
       "      <td>-0.045272</td>\n",
       "      <td>-0.000914</td>\n",
       "      <td>-0.013410</td>\n",
       "      <td>-0.008903</td>\n",
       "      <td>-0.013746</td>\n",
       "      <td>0.016521</td>\n",
       "      <td>7</td>\n",
       "    </tr>\n",
       "    <tr>\n",
       "      <th>27</th>\n",
       "      <td>0.003187</td>\n",
       "      <td>0.000755</td>\n",
       "      <td>0.001806</td>\n",
       "      <td>0.000741</td>\n",
       "      <td>6</td>\n",
       "      <td>0.001</td>\n",
       "      <td>3</td>\n",
       "      <td>4</td>\n",
       "      <td>{'min_samples_split': 6, 'min_impurity_decrease': 0.001, 'max_leaf_nodes': 3, 'max_depth': 4}</td>\n",
       "      <td>0.134125</td>\n",
       "      <td>0.149611</td>\n",
       "      <td>0.246060</td>\n",
       "      <td>0.200728</td>\n",
       "      <td>0.219330</td>\n",
       "      <td>0.189971</td>\n",
       "      <td>0.042122</td>\n",
       "      <td>6</td>\n",
       "    </tr>\n",
       "    <tr>\n",
       "      <th>28</th>\n",
       "      <td>0.002792</td>\n",
       "      <td>0.000746</td>\n",
       "      <td>0.001995</td>\n",
       "      <td>0.000631</td>\n",
       "      <td>20</td>\n",
       "      <td>0.05</td>\n",
       "      <td>100</td>\n",
       "      <td>10</td>\n",
       "      <td>{'min_samples_split': 20, 'min_impurity_decrease': 0.05, 'max_leaf_nodes': 100, 'max_depth': 10}</td>\n",
       "      <td>-0.000232</td>\n",
       "      <td>-0.045272</td>\n",
       "      <td>-0.000914</td>\n",
       "      <td>-0.013410</td>\n",
       "      <td>-0.008903</td>\n",
       "      <td>-0.013746</td>\n",
       "      <td>0.016521</td>\n",
       "      <td>7</td>\n",
       "    </tr>\n",
       "    <tr>\n",
       "      <th>29</th>\n",
       "      <td>0.003192</td>\n",
       "      <td>0.000755</td>\n",
       "      <td>0.001595</td>\n",
       "      <td>0.000783</td>\n",
       "      <td>2</td>\n",
       "      <td>0.1</td>\n",
       "      <td>20</td>\n",
       "      <td>4</td>\n",
       "      <td>{'min_samples_split': 2, 'min_impurity_decrease': 0.1, 'max_leaf_nodes': 20, 'max_depth': 4}</td>\n",
       "      <td>-0.000232</td>\n",
       "      <td>-0.045272</td>\n",
       "      <td>-0.000914</td>\n",
       "      <td>-0.013410</td>\n",
       "      <td>-0.008903</td>\n",
       "      <td>-0.013746</td>\n",
       "      <td>0.016521</td>\n",
       "      <td>7</td>\n",
       "    </tr>\n",
       "    <tr>\n",
       "      <th>30</th>\n",
       "      <td>0.002606</td>\n",
       "      <td>0.000486</td>\n",
       "      <td>0.001583</td>\n",
       "      <td>0.000491</td>\n",
       "      <td>6</td>\n",
       "      <td>0.5</td>\n",
       "      <td>50</td>\n",
       "      <td>20</td>\n",
       "      <td>{'min_samples_split': 6, 'min_impurity_decrease': 0.5, 'max_leaf_nodes': 50, 'max_depth': 20}</td>\n",
       "      <td>-0.000232</td>\n",
       "      <td>-0.045272</td>\n",
       "      <td>-0.000914</td>\n",
       "      <td>-0.013410</td>\n",
       "      <td>-0.008903</td>\n",
       "      <td>-0.013746</td>\n",
       "      <td>0.016521</td>\n",
       "      <td>7</td>\n",
       "    </tr>\n",
       "    <tr>\n",
       "      <th>31</th>\n",
       "      <td>0.003598</td>\n",
       "      <td>0.000792</td>\n",
       "      <td>0.001988</td>\n",
       "      <td>0.000620</td>\n",
       "      <td>10</td>\n",
       "      <td>0.1</td>\n",
       "      <td>50</td>\n",
       "      <td>4</td>\n",
       "      <td>{'min_samples_split': 10, 'min_impurity_decrease': 0.1, 'max_leaf_nodes': 50, 'max_depth': 4}</td>\n",
       "      <td>-0.000232</td>\n",
       "      <td>-0.045272</td>\n",
       "      <td>-0.000914</td>\n",
       "      <td>-0.013410</td>\n",
       "      <td>-0.008903</td>\n",
       "      <td>-0.013746</td>\n",
       "      <td>0.016521</td>\n",
       "      <td>7</td>\n",
       "    </tr>\n",
       "    <tr>\n",
       "      <th>32</th>\n",
       "      <td>0.002791</td>\n",
       "      <td>0.000400</td>\n",
       "      <td>0.002192</td>\n",
       "      <td>0.000402</td>\n",
       "      <td>2</td>\n",
       "      <td>0.3</td>\n",
       "      <td>20</td>\n",
       "      <td>10</td>\n",
       "      <td>{'min_samples_split': 2, 'min_impurity_decrease': 0.3, 'max_leaf_nodes': 20, 'max_depth': 10}</td>\n",
       "      <td>-0.000232</td>\n",
       "      <td>-0.045272</td>\n",
       "      <td>-0.000914</td>\n",
       "      <td>-0.013410</td>\n",
       "      <td>-0.008903</td>\n",
       "      <td>-0.013746</td>\n",
       "      <td>0.016521</td>\n",
       "      <td>7</td>\n",
       "    </tr>\n",
       "    <tr>\n",
       "      <th>33</th>\n",
       "      <td>0.002982</td>\n",
       "      <td>0.000621</td>\n",
       "      <td>0.001817</td>\n",
       "      <td>0.000725</td>\n",
       "      <td>10</td>\n",
       "      <td>0.05</td>\n",
       "      <td>100</td>\n",
       "      <td>10</td>\n",
       "      <td>{'min_samples_split': 10, 'min_impurity_decrease': 0.05, 'max_leaf_nodes': 100, 'max_depth': 10}</td>\n",
       "      <td>-0.000232</td>\n",
       "      <td>-0.045272</td>\n",
       "      <td>-0.000914</td>\n",
       "      <td>-0.013410</td>\n",
       "      <td>-0.008903</td>\n",
       "      <td>-0.013746</td>\n",
       "      <td>0.016521</td>\n",
       "      <td>7</td>\n",
       "    </tr>\n",
       "    <tr>\n",
       "      <th>34</th>\n",
       "      <td>0.002394</td>\n",
       "      <td>0.000487</td>\n",
       "      <td>0.002193</td>\n",
       "      <td>0.000416</td>\n",
       "      <td>10</td>\n",
       "      <td>0.5</td>\n",
       "      <td>50</td>\n",
       "      <td>6</td>\n",
       "      <td>{'min_samples_split': 10, 'min_impurity_decrease': 0.5, 'max_leaf_nodes': 50, 'max_depth': 6}</td>\n",
       "      <td>-0.000232</td>\n",
       "      <td>-0.045272</td>\n",
       "      <td>-0.000914</td>\n",
       "      <td>-0.013410</td>\n",
       "      <td>-0.008903</td>\n",
       "      <td>-0.013746</td>\n",
       "      <td>0.016521</td>\n",
       "      <td>7</td>\n",
       "    </tr>\n",
       "    <tr>\n",
       "      <th>35</th>\n",
       "      <td>0.002995</td>\n",
       "      <td>0.000631</td>\n",
       "      <td>0.001593</td>\n",
       "      <td>0.000800</td>\n",
       "      <td>10</td>\n",
       "      <td>0.3</td>\n",
       "      <td>5</td>\n",
       "      <td>2</td>\n",
       "      <td>{'min_samples_split': 10, 'min_impurity_decrease': 0.3, 'max_leaf_nodes': 5, 'max_depth': 2}</td>\n",
       "      <td>-0.000232</td>\n",
       "      <td>-0.045272</td>\n",
       "      <td>-0.000914</td>\n",
       "      <td>-0.013410</td>\n",
       "      <td>-0.008903</td>\n",
       "      <td>-0.013746</td>\n",
       "      <td>0.016521</td>\n",
       "      <td>7</td>\n",
       "    </tr>\n",
       "    <tr>\n",
       "      <th>36</th>\n",
       "      <td>0.002799</td>\n",
       "      <td>0.000739</td>\n",
       "      <td>0.001981</td>\n",
       "      <td>0.000620</td>\n",
       "      <td>6</td>\n",
       "      <td>0.01</td>\n",
       "      <td>10</td>\n",
       "      <td>15</td>\n",
       "      <td>{'min_samples_split': 6, 'min_impurity_decrease': 0.01, 'max_leaf_nodes': 10, 'max_depth': 15}</td>\n",
       "      <td>-0.000232</td>\n",
       "      <td>-0.045272</td>\n",
       "      <td>-0.000914</td>\n",
       "      <td>-0.013410</td>\n",
       "      <td>-0.008903</td>\n",
       "      <td>-0.013746</td>\n",
       "      <td>0.016521</td>\n",
       "      <td>7</td>\n",
       "    </tr>\n",
       "    <tr>\n",
       "      <th>37</th>\n",
       "      <td>0.003199</td>\n",
       "      <td>0.000761</td>\n",
       "      <td>0.001783</td>\n",
       "      <td>0.000393</td>\n",
       "      <td>20</td>\n",
       "      <td>0.5</td>\n",
       "      <td>10</td>\n",
       "      <td>10</td>\n",
       "      <td>{'min_samples_split': 20, 'min_impurity_decrease': 0.5, 'max_leaf_nodes': 10, 'max_depth': 10}</td>\n",
       "      <td>-0.000232</td>\n",
       "      <td>-0.045272</td>\n",
       "      <td>-0.000914</td>\n",
       "      <td>-0.013410</td>\n",
       "      <td>-0.008903</td>\n",
       "      <td>-0.013746</td>\n",
       "      <td>0.016521</td>\n",
       "      <td>7</td>\n",
       "    </tr>\n",
       "    <tr>\n",
       "      <th>38</th>\n",
       "      <td>0.002807</td>\n",
       "      <td>0.000749</td>\n",
       "      <td>0.002187</td>\n",
       "      <td>0.000385</td>\n",
       "      <td>10</td>\n",
       "      <td>0.05</td>\n",
       "      <td>3</td>\n",
       "      <td>6</td>\n",
       "      <td>{'min_samples_split': 10, 'min_impurity_decrease': 0.05, 'max_leaf_nodes': 3, 'max_depth': 6}</td>\n",
       "      <td>-0.000232</td>\n",
       "      <td>-0.045272</td>\n",
       "      <td>-0.000914</td>\n",
       "      <td>-0.013410</td>\n",
       "      <td>-0.008903</td>\n",
       "      <td>-0.013746</td>\n",
       "      <td>0.016521</td>\n",
       "      <td>7</td>\n",
       "    </tr>\n",
       "    <tr>\n",
       "      <th>39</th>\n",
       "      <td>0.003190</td>\n",
       "      <td>0.000397</td>\n",
       "      <td>0.001789</td>\n",
       "      <td>0.000395</td>\n",
       "      <td>15</td>\n",
       "      <td>0.01</td>\n",
       "      <td>10</td>\n",
       "      <td>6</td>\n",
       "      <td>{'min_samples_split': 15, 'min_impurity_decrease': 0.01, 'max_leaf_nodes': 10, 'max_depth': 6}</td>\n",
       "      <td>-0.000232</td>\n",
       "      <td>-0.045272</td>\n",
       "      <td>-0.000914</td>\n",
       "      <td>-0.013410</td>\n",
       "      <td>-0.008903</td>\n",
       "      <td>-0.013746</td>\n",
       "      <td>0.016521</td>\n",
       "      <td>7</td>\n",
       "    </tr>\n",
       "    <tr>\n",
       "      <th>40</th>\n",
       "      <td>0.002977</td>\n",
       "      <td>0.000893</td>\n",
       "      <td>0.002208</td>\n",
       "      <td>0.000752</td>\n",
       "      <td>2</td>\n",
       "      <td>0.01</td>\n",
       "      <td>10</td>\n",
       "      <td>2</td>\n",
       "      <td>{'min_samples_split': 2, 'min_impurity_decrease': 0.01, 'max_leaf_nodes': 10, 'max_depth': 2}</td>\n",
       "      <td>-0.000232</td>\n",
       "      <td>-0.045272</td>\n",
       "      <td>-0.000914</td>\n",
       "      <td>-0.013410</td>\n",
       "      <td>-0.008903</td>\n",
       "      <td>-0.013746</td>\n",
       "      <td>0.016521</td>\n",
       "      <td>7</td>\n",
       "    </tr>\n",
       "    <tr>\n",
       "      <th>41</th>\n",
       "      <td>0.004594</td>\n",
       "      <td>0.000799</td>\n",
       "      <td>0.001988</td>\n",
       "      <td>0.000025</td>\n",
       "      <td>15</td>\n",
       "      <td>0.001</td>\n",
       "      <td>5</td>\n",
       "      <td>15</td>\n",
       "      <td>{'min_samples_split': 15, 'min_impurity_decrease': 0.001, 'max_leaf_nodes': 5, 'max_depth': 15}</td>\n",
       "      <td>0.157719</td>\n",
       "      <td>0.216292</td>\n",
       "      <td>0.257086</td>\n",
       "      <td>0.200728</td>\n",
       "      <td>0.219330</td>\n",
       "      <td>0.210231</td>\n",
       "      <td>0.032133</td>\n",
       "      <td>4</td>\n",
       "    </tr>\n",
       "    <tr>\n",
       "      <th>42</th>\n",
       "      <td>0.002785</td>\n",
       "      <td>0.000747</td>\n",
       "      <td>0.002195</td>\n",
       "      <td>0.000380</td>\n",
       "      <td>10</td>\n",
       "      <td>0.1</td>\n",
       "      <td>10</td>\n",
       "      <td>4</td>\n",
       "      <td>{'min_samples_split': 10, 'min_impurity_decrease': 0.1, 'max_leaf_nodes': 10, 'max_depth': 4}</td>\n",
       "      <td>-0.000232</td>\n",
       "      <td>-0.045272</td>\n",
       "      <td>-0.000914</td>\n",
       "      <td>-0.013410</td>\n",
       "      <td>-0.008903</td>\n",
       "      <td>-0.013746</td>\n",
       "      <td>0.016521</td>\n",
       "      <td>7</td>\n",
       "    </tr>\n",
       "    <tr>\n",
       "      <th>43</th>\n",
       "      <td>0.003189</td>\n",
       "      <td>0.000392</td>\n",
       "      <td>0.001797</td>\n",
       "      <td>0.000409</td>\n",
       "      <td>2</td>\n",
       "      <td>0.3</td>\n",
       "      <td>3</td>\n",
       "      <td>10</td>\n",
       "      <td>{'min_samples_split': 2, 'min_impurity_decrease': 0.3, 'max_leaf_nodes': 3, 'max_depth': 10}</td>\n",
       "      <td>-0.000232</td>\n",
       "      <td>-0.045272</td>\n",
       "      <td>-0.000914</td>\n",
       "      <td>-0.013410</td>\n",
       "      <td>-0.008903</td>\n",
       "      <td>-0.013746</td>\n",
       "      <td>0.016521</td>\n",
       "      <td>7</td>\n",
       "    </tr>\n",
       "    <tr>\n",
       "      <th>44</th>\n",
       "      <td>0.002799</td>\n",
       "      <td>0.000750</td>\n",
       "      <td>0.001583</td>\n",
       "      <td>0.000475</td>\n",
       "      <td>20</td>\n",
       "      <td>0.01</td>\n",
       "      <td>10</td>\n",
       "      <td>20</td>\n",
       "      <td>{'min_samples_split': 20, 'min_impurity_decrease': 0.01, 'max_leaf_nodes': 10, 'max_depth': 20}</td>\n",
       "      <td>-0.000232</td>\n",
       "      <td>-0.045272</td>\n",
       "      <td>-0.000914</td>\n",
       "      <td>-0.013410</td>\n",
       "      <td>-0.008903</td>\n",
       "      <td>-0.013746</td>\n",
       "      <td>0.016521</td>\n",
       "      <td>7</td>\n",
       "    </tr>\n",
       "    <tr>\n",
       "      <th>45</th>\n",
       "      <td>0.002992</td>\n",
       "      <td>0.000631</td>\n",
       "      <td>0.001995</td>\n",
       "      <td>0.000892</td>\n",
       "      <td>6</td>\n",
       "      <td>0.5</td>\n",
       "      <td>3</td>\n",
       "      <td>20</td>\n",
       "      <td>{'min_samples_split': 6, 'min_impurity_decrease': 0.5, 'max_leaf_nodes': 3, 'max_depth': 20}</td>\n",
       "      <td>-0.000232</td>\n",
       "      <td>-0.045272</td>\n",
       "      <td>-0.000914</td>\n",
       "      <td>-0.013410</td>\n",
       "      <td>-0.008903</td>\n",
       "      <td>-0.013746</td>\n",
       "      <td>0.016521</td>\n",
       "      <td>7</td>\n",
       "    </tr>\n",
       "    <tr>\n",
       "      <th>46</th>\n",
       "      <td>0.002964</td>\n",
       "      <td>0.000892</td>\n",
       "      <td>0.002209</td>\n",
       "      <td>0.000753</td>\n",
       "      <td>6</td>\n",
       "      <td>0.01</td>\n",
       "      <td>100</td>\n",
       "      <td>15</td>\n",
       "      <td>{'min_samples_split': 6, 'min_impurity_decrease': 0.01, 'max_leaf_nodes': 100, 'max_depth': 15}</td>\n",
       "      <td>-0.000232</td>\n",
       "      <td>-0.045272</td>\n",
       "      <td>-0.000914</td>\n",
       "      <td>-0.013410</td>\n",
       "      <td>-0.008903</td>\n",
       "      <td>-0.013746</td>\n",
       "      <td>0.016521</td>\n",
       "      <td>7</td>\n",
       "    </tr>\n",
       "    <tr>\n",
       "      <th>47</th>\n",
       "      <td>0.003013</td>\n",
       "      <td>0.000631</td>\n",
       "      <td>0.001779</td>\n",
       "      <td>0.000724</td>\n",
       "      <td>2</td>\n",
       "      <td>0.1</td>\n",
       "      <td>100</td>\n",
       "      <td>2</td>\n",
       "      <td>{'min_samples_split': 2, 'min_impurity_decrease': 0.1, 'max_leaf_nodes': 100, 'max_depth': 2}</td>\n",
       "      <td>-0.000232</td>\n",
       "      <td>-0.045272</td>\n",
       "      <td>-0.000914</td>\n",
       "      <td>-0.013410</td>\n",
       "      <td>-0.008903</td>\n",
       "      <td>-0.013746</td>\n",
       "      <td>0.016521</td>\n",
       "      <td>7</td>\n",
       "    </tr>\n",
       "    <tr>\n",
       "      <th>48</th>\n",
       "      <td>0.003192</td>\n",
       "      <td>0.000416</td>\n",
       "      <td>0.001197</td>\n",
       "      <td>0.000400</td>\n",
       "      <td>20</td>\n",
       "      <td>0.1</td>\n",
       "      <td>50</td>\n",
       "      <td>15</td>\n",
       "      <td>{'min_samples_split': 20, 'min_impurity_decrease': 0.1, 'max_leaf_nodes': 50, 'max_depth': 15}</td>\n",
       "      <td>-0.000232</td>\n",
       "      <td>-0.045272</td>\n",
       "      <td>-0.000914</td>\n",
       "      <td>-0.013410</td>\n",
       "      <td>-0.008903</td>\n",
       "      <td>-0.013746</td>\n",
       "      <td>0.016521</td>\n",
       "      <td>7</td>\n",
       "    </tr>\n",
       "    <tr>\n",
       "      <th>49</th>\n",
       "      <td>0.002992</td>\n",
       "      <td>0.000893</td>\n",
       "      <td>0.001795</td>\n",
       "      <td>0.000399</td>\n",
       "      <td>6</td>\n",
       "      <td>0.05</td>\n",
       "      <td>5</td>\n",
       "      <td>15</td>\n",
       "      <td>{'min_samples_split': 6, 'min_impurity_decrease': 0.05, 'max_leaf_nodes': 5, 'max_depth': 15}</td>\n",
       "      <td>-0.000232</td>\n",
       "      <td>-0.045272</td>\n",
       "      <td>-0.000914</td>\n",
       "      <td>-0.013410</td>\n",
       "      <td>-0.008903</td>\n",
       "      <td>-0.013746</td>\n",
       "      <td>0.016521</td>\n",
       "      <td>7</td>\n",
       "    </tr>\n",
       "  </tbody>\n",
       "</table>\n",
       "</div>"
      ],
      "text/plain": [
       "    mean_fit_time  std_fit_time  mean_score_time  std_score_time  \\\n",
       "0        0.002793      0.000399         0.002195        0.000398   \n",
       "1        0.003590      0.000489         0.001794        0.000399   \n",
       "2        0.002793      0.000747         0.001795        0.000398   \n",
       "3        0.002591      0.001016         0.001597        0.000799   \n",
       "4        0.002796      0.000753         0.002390        0.000492   \n",
       "5        0.003192      0.000976         0.001595        0.000488   \n",
       "6        0.003790      0.000399         0.001796        0.000399   \n",
       "7        0.002992      0.000891         0.001596        0.000489   \n",
       "8        0.002796      0.000731         0.002191        0.000400   \n",
       "9        0.004388      0.000798         0.002003        0.000632   \n",
       "10       0.003184      0.000722         0.002206        0.000393   \n",
       "11       0.003592      0.000488         0.001986        0.000632   \n",
       "12       0.004402      0.000784         0.001979        0.000609   \n",
       "13       0.003179      0.000743         0.001800        0.000756   \n",
       "14       0.002800      0.000749         0.001987        0.000620   \n",
       "15       0.002594      0.000476         0.001794        0.000399   \n",
       "16       0.002194      0.000398         0.001798        0.000767   \n",
       "17       0.003584      0.000793         0.001602        0.000468   \n",
       "18       0.003596      0.000507         0.001988        0.000012   \n",
       "19       0.003384      0.000482         0.001197        0.000399   \n",
       "20       0.002592      0.000798         0.001796        0.000746   \n",
       "21       0.003988      0.001087         0.001796        0.000400   \n",
       "22       0.002394      0.000490         0.001595        0.000488   \n",
       "23       0.002784      0.000397         0.001603        0.000481   \n",
       "24       0.002194      0.000401         0.002001        0.000632   \n",
       "25       0.003173      0.000971         0.001813        0.000391   \n",
       "26       0.002579      0.000783         0.002399        0.000482   \n",
       "27       0.003187      0.000755         0.001806        0.000741   \n",
       "28       0.002792      0.000746         0.001995        0.000631   \n",
       "29       0.003192      0.000755         0.001595        0.000783   \n",
       "30       0.002606      0.000486         0.001583        0.000491   \n",
       "31       0.003598      0.000792         0.001988        0.000620   \n",
       "32       0.002791      0.000400         0.002192        0.000402   \n",
       "33       0.002982      0.000621         0.001817        0.000725   \n",
       "34       0.002394      0.000487         0.002193        0.000416   \n",
       "35       0.002995      0.000631         0.001593        0.000800   \n",
       "36       0.002799      0.000739         0.001981        0.000620   \n",
       "37       0.003199      0.000761         0.001783        0.000393   \n",
       "38       0.002807      0.000749         0.002187        0.000385   \n",
       "39       0.003190      0.000397         0.001789        0.000395   \n",
       "40       0.002977      0.000893         0.002208        0.000752   \n",
       "41       0.004594      0.000799         0.001988        0.000025   \n",
       "42       0.002785      0.000747         0.002195        0.000380   \n",
       "43       0.003189      0.000392         0.001797        0.000409   \n",
       "44       0.002799      0.000750         0.001583        0.000475   \n",
       "45       0.002992      0.000631         0.001995        0.000892   \n",
       "46       0.002964      0.000892         0.002209        0.000753   \n",
       "47       0.003013      0.000631         0.001779        0.000724   \n",
       "48       0.003192      0.000416         0.001197        0.000400   \n",
       "49       0.002992      0.000893         0.001795        0.000399   \n",
       "\n",
       "   param_min_samples_split param_min_impurity_decrease param_max_leaf_nodes  \\\n",
       "0                       15                         0.1                   50   \n",
       "1                       15                         0.1                   20   \n",
       "2                        4                         0.3                   10   \n",
       "3                       10                         0.1                   50   \n",
       "4                        2                        0.01                   10   \n",
       "5                        6                        0.05                   20   \n",
       "6                       15                        0.01                    5   \n",
       "7                       15                        0.05                  100   \n",
       "8                        6                         0.3                    3   \n",
       "9                       15                       0.001                   10   \n",
       "10                      15                        0.05                   10   \n",
       "11                      10                        0.05                    5   \n",
       "12                      15                       0.001                   10   \n",
       "13                       2                         0.5                    3   \n",
       "14                      15                         0.3                   10   \n",
       "15                       6                        0.01                    5   \n",
       "16                      20                         0.3                    5   \n",
       "17                      20                        0.01                   10   \n",
       "18                       4                         0.3                    3   \n",
       "19                      10                       0.001                   50   \n",
       "20                      20                         0.3                  100   \n",
       "21                      20                       0.001                   20   \n",
       "22                       2                        0.01                  100   \n",
       "23                      20                         0.3                   10   \n",
       "24                      20                        0.01                    5   \n",
       "25                       4                        0.05                    5   \n",
       "26                      10                         0.1                   20   \n",
       "27                       6                       0.001                    3   \n",
       "28                      20                        0.05                  100   \n",
       "29                       2                         0.1                   20   \n",
       "30                       6                         0.5                   50   \n",
       "31                      10                         0.1                   50   \n",
       "32                       2                         0.3                   20   \n",
       "33                      10                        0.05                  100   \n",
       "34                      10                         0.5                   50   \n",
       "35                      10                         0.3                    5   \n",
       "36                       6                        0.01                   10   \n",
       "37                      20                         0.5                   10   \n",
       "38                      10                        0.05                    3   \n",
       "39                      15                        0.01                   10   \n",
       "40                       2                        0.01                   10   \n",
       "41                      15                       0.001                    5   \n",
       "42                      10                         0.1                   10   \n",
       "43                       2                         0.3                    3   \n",
       "44                      20                        0.01                   10   \n",
       "45                       6                         0.5                    3   \n",
       "46                       6                        0.01                  100   \n",
       "47                       2                         0.1                  100   \n",
       "48                      20                         0.1                   50   \n",
       "49                       6                        0.05                    5   \n",
       "\n",
       "   param_max_depth  \\\n",
       "0                6   \n",
       "1                4   \n",
       "2               10   \n",
       "3               15   \n",
       "4               20   \n",
       "5               15   \n",
       "6                6   \n",
       "7                6   \n",
       "8               15   \n",
       "9                2   \n",
       "10              10   \n",
       "11              20   \n",
       "12              10   \n",
       "13               6   \n",
       "14              15   \n",
       "15               2   \n",
       "16               2   \n",
       "17              10   \n",
       "18              10   \n",
       "19               4   \n",
       "20               4   \n",
       "21              15   \n",
       "22              15   \n",
       "23               2   \n",
       "24               6   \n",
       "25               4   \n",
       "26              20   \n",
       "27               4   \n",
       "28              10   \n",
       "29               4   \n",
       "30              20   \n",
       "31               4   \n",
       "32              10   \n",
       "33              10   \n",
       "34               6   \n",
       "35               2   \n",
       "36              15   \n",
       "37              10   \n",
       "38               6   \n",
       "39               6   \n",
       "40               2   \n",
       "41              15   \n",
       "42               4   \n",
       "43              10   \n",
       "44              20   \n",
       "45              20   \n",
       "46              15   \n",
       "47               2   \n",
       "48              15   \n",
       "49              15   \n",
       "\n",
       "                                                                                              params  \\\n",
       "0      {'min_samples_split': 15, 'min_impurity_decrease': 0.1, 'max_leaf_nodes': 50, 'max_depth': 6}   \n",
       "1      {'min_samples_split': 15, 'min_impurity_decrease': 0.1, 'max_leaf_nodes': 20, 'max_depth': 4}   \n",
       "2      {'min_samples_split': 4, 'min_impurity_decrease': 0.3, 'max_leaf_nodes': 10, 'max_depth': 10}   \n",
       "3     {'min_samples_split': 10, 'min_impurity_decrease': 0.1, 'max_leaf_nodes': 50, 'max_depth': 15}   \n",
       "4     {'min_samples_split': 2, 'min_impurity_decrease': 0.01, 'max_leaf_nodes': 10, 'max_depth': 20}   \n",
       "5     {'min_samples_split': 6, 'min_impurity_decrease': 0.05, 'max_leaf_nodes': 20, 'max_depth': 15}   \n",
       "6      {'min_samples_split': 15, 'min_impurity_decrease': 0.01, 'max_leaf_nodes': 5, 'max_depth': 6}   \n",
       "7    {'min_samples_split': 15, 'min_impurity_decrease': 0.05, 'max_leaf_nodes': 100, 'max_depth': 6}   \n",
       "8       {'min_samples_split': 6, 'min_impurity_decrease': 0.3, 'max_leaf_nodes': 3, 'max_depth': 15}   \n",
       "9    {'min_samples_split': 15, 'min_impurity_decrease': 0.001, 'max_leaf_nodes': 10, 'max_depth': 2}   \n",
       "10   {'min_samples_split': 15, 'min_impurity_decrease': 0.05, 'max_leaf_nodes': 10, 'max_depth': 10}   \n",
       "11    {'min_samples_split': 10, 'min_impurity_decrease': 0.05, 'max_leaf_nodes': 5, 'max_depth': 20}   \n",
       "12  {'min_samples_split': 15, 'min_impurity_decrease': 0.001, 'max_leaf_nodes': 10, 'max_depth': 10}   \n",
       "13       {'min_samples_split': 2, 'min_impurity_decrease': 0.5, 'max_leaf_nodes': 3, 'max_depth': 6}   \n",
       "14    {'min_samples_split': 15, 'min_impurity_decrease': 0.3, 'max_leaf_nodes': 10, 'max_depth': 15}   \n",
       "15      {'min_samples_split': 6, 'min_impurity_decrease': 0.01, 'max_leaf_nodes': 5, 'max_depth': 2}   \n",
       "16      {'min_samples_split': 20, 'min_impurity_decrease': 0.3, 'max_leaf_nodes': 5, 'max_depth': 2}   \n",
       "17   {'min_samples_split': 20, 'min_impurity_decrease': 0.01, 'max_leaf_nodes': 10, 'max_depth': 10}   \n",
       "18      {'min_samples_split': 4, 'min_impurity_decrease': 0.3, 'max_leaf_nodes': 3, 'max_depth': 10}   \n",
       "19   {'min_samples_split': 10, 'min_impurity_decrease': 0.001, 'max_leaf_nodes': 50, 'max_depth': 4}   \n",
       "20    {'min_samples_split': 20, 'min_impurity_decrease': 0.3, 'max_leaf_nodes': 100, 'max_depth': 4}   \n",
       "21  {'min_samples_split': 20, 'min_impurity_decrease': 0.001, 'max_leaf_nodes': 20, 'max_depth': 15}   \n",
       "22   {'min_samples_split': 2, 'min_impurity_decrease': 0.01, 'max_leaf_nodes': 100, 'max_depth': 15}   \n",
       "23     {'min_samples_split': 20, 'min_impurity_decrease': 0.3, 'max_leaf_nodes': 10, 'max_depth': 2}   \n",
       "24     {'min_samples_split': 20, 'min_impurity_decrease': 0.01, 'max_leaf_nodes': 5, 'max_depth': 6}   \n",
       "25      {'min_samples_split': 4, 'min_impurity_decrease': 0.05, 'max_leaf_nodes': 5, 'max_depth': 4}   \n",
       "26    {'min_samples_split': 10, 'min_impurity_decrease': 0.1, 'max_leaf_nodes': 20, 'max_depth': 20}   \n",
       "27     {'min_samples_split': 6, 'min_impurity_decrease': 0.001, 'max_leaf_nodes': 3, 'max_depth': 4}   \n",
       "28  {'min_samples_split': 20, 'min_impurity_decrease': 0.05, 'max_leaf_nodes': 100, 'max_depth': 10}   \n",
       "29      {'min_samples_split': 2, 'min_impurity_decrease': 0.1, 'max_leaf_nodes': 20, 'max_depth': 4}   \n",
       "30     {'min_samples_split': 6, 'min_impurity_decrease': 0.5, 'max_leaf_nodes': 50, 'max_depth': 20}   \n",
       "31     {'min_samples_split': 10, 'min_impurity_decrease': 0.1, 'max_leaf_nodes': 50, 'max_depth': 4}   \n",
       "32     {'min_samples_split': 2, 'min_impurity_decrease': 0.3, 'max_leaf_nodes': 20, 'max_depth': 10}   \n",
       "33  {'min_samples_split': 10, 'min_impurity_decrease': 0.05, 'max_leaf_nodes': 100, 'max_depth': 10}   \n",
       "34     {'min_samples_split': 10, 'min_impurity_decrease': 0.5, 'max_leaf_nodes': 50, 'max_depth': 6}   \n",
       "35      {'min_samples_split': 10, 'min_impurity_decrease': 0.3, 'max_leaf_nodes': 5, 'max_depth': 2}   \n",
       "36    {'min_samples_split': 6, 'min_impurity_decrease': 0.01, 'max_leaf_nodes': 10, 'max_depth': 15}   \n",
       "37    {'min_samples_split': 20, 'min_impurity_decrease': 0.5, 'max_leaf_nodes': 10, 'max_depth': 10}   \n",
       "38     {'min_samples_split': 10, 'min_impurity_decrease': 0.05, 'max_leaf_nodes': 3, 'max_depth': 6}   \n",
       "39    {'min_samples_split': 15, 'min_impurity_decrease': 0.01, 'max_leaf_nodes': 10, 'max_depth': 6}   \n",
       "40     {'min_samples_split': 2, 'min_impurity_decrease': 0.01, 'max_leaf_nodes': 10, 'max_depth': 2}   \n",
       "41   {'min_samples_split': 15, 'min_impurity_decrease': 0.001, 'max_leaf_nodes': 5, 'max_depth': 15}   \n",
       "42     {'min_samples_split': 10, 'min_impurity_decrease': 0.1, 'max_leaf_nodes': 10, 'max_depth': 4}   \n",
       "43      {'min_samples_split': 2, 'min_impurity_decrease': 0.3, 'max_leaf_nodes': 3, 'max_depth': 10}   \n",
       "44   {'min_samples_split': 20, 'min_impurity_decrease': 0.01, 'max_leaf_nodes': 10, 'max_depth': 20}   \n",
       "45      {'min_samples_split': 6, 'min_impurity_decrease': 0.5, 'max_leaf_nodes': 3, 'max_depth': 20}   \n",
       "46   {'min_samples_split': 6, 'min_impurity_decrease': 0.01, 'max_leaf_nodes': 100, 'max_depth': 15}   \n",
       "47     {'min_samples_split': 2, 'min_impurity_decrease': 0.1, 'max_leaf_nodes': 100, 'max_depth': 2}   \n",
       "48    {'min_samples_split': 20, 'min_impurity_decrease': 0.1, 'max_leaf_nodes': 50, 'max_depth': 15}   \n",
       "49     {'min_samples_split': 6, 'min_impurity_decrease': 0.05, 'max_leaf_nodes': 5, 'max_depth': 15}   \n",
       "\n",
       "    split0_test_score  split1_test_score  split2_test_score  \\\n",
       "0           -0.000232          -0.045272          -0.000914   \n",
       "1           -0.000232          -0.045272          -0.000914   \n",
       "2           -0.000232          -0.045272          -0.000914   \n",
       "3           -0.000232          -0.045272          -0.000914   \n",
       "4           -0.000232          -0.045272          -0.000914   \n",
       "5           -0.000232          -0.045272          -0.000914   \n",
       "6           -0.000232          -0.045272          -0.000914   \n",
       "7           -0.000232          -0.045272          -0.000914   \n",
       "8           -0.000232          -0.045272          -0.000914   \n",
       "9            0.115297           0.191987           0.254609   \n",
       "10          -0.000232          -0.045272          -0.000914   \n",
       "11          -0.000232          -0.045272          -0.000914   \n",
       "12           0.203775           0.216292           0.257086   \n",
       "13          -0.000232          -0.045272          -0.000914   \n",
       "14          -0.000232          -0.045272          -0.000914   \n",
       "15          -0.000232          -0.045272          -0.000914   \n",
       "16          -0.000232          -0.045272          -0.000914   \n",
       "17          -0.000232          -0.045272          -0.000914   \n",
       "18          -0.000232          -0.045272          -0.000914   \n",
       "19           0.203775           0.216292           0.257086   \n",
       "20          -0.000232          -0.045272          -0.000914   \n",
       "21           0.203775           0.216292           0.257086   \n",
       "22          -0.000232          -0.045272          -0.000914   \n",
       "23          -0.000232          -0.045272          -0.000914   \n",
       "24          -0.000232          -0.045272          -0.000914   \n",
       "25          -0.000232          -0.045272          -0.000914   \n",
       "26          -0.000232          -0.045272          -0.000914   \n",
       "27           0.134125           0.149611           0.246060   \n",
       "28          -0.000232          -0.045272          -0.000914   \n",
       "29          -0.000232          -0.045272          -0.000914   \n",
       "30          -0.000232          -0.045272          -0.000914   \n",
       "31          -0.000232          -0.045272          -0.000914   \n",
       "32          -0.000232          -0.045272          -0.000914   \n",
       "33          -0.000232          -0.045272          -0.000914   \n",
       "34          -0.000232          -0.045272          -0.000914   \n",
       "35          -0.000232          -0.045272          -0.000914   \n",
       "36          -0.000232          -0.045272          -0.000914   \n",
       "37          -0.000232          -0.045272          -0.000914   \n",
       "38          -0.000232          -0.045272          -0.000914   \n",
       "39          -0.000232          -0.045272          -0.000914   \n",
       "40          -0.000232          -0.045272          -0.000914   \n",
       "41           0.157719           0.216292           0.257086   \n",
       "42          -0.000232          -0.045272          -0.000914   \n",
       "43          -0.000232          -0.045272          -0.000914   \n",
       "44          -0.000232          -0.045272          -0.000914   \n",
       "45          -0.000232          -0.045272          -0.000914   \n",
       "46          -0.000232          -0.045272          -0.000914   \n",
       "47          -0.000232          -0.045272          -0.000914   \n",
       "48          -0.000232          -0.045272          -0.000914   \n",
       "49          -0.000232          -0.045272          -0.000914   \n",
       "\n",
       "    split3_test_score  split4_test_score  mean_test_score  std_test_score  \\\n",
       "0           -0.013410          -0.008903        -0.013746        0.016521   \n",
       "1           -0.013410          -0.008903        -0.013746        0.016521   \n",
       "2           -0.013410          -0.008903        -0.013746        0.016521   \n",
       "3           -0.013410          -0.008903        -0.013746        0.016521   \n",
       "4           -0.013410          -0.008903        -0.013746        0.016521   \n",
       "5           -0.013410          -0.008903        -0.013746        0.016521   \n",
       "6           -0.013410          -0.008903        -0.013746        0.016521   \n",
       "7           -0.013410          -0.008903        -0.013746        0.016521   \n",
       "8           -0.013410          -0.008903        -0.013746        0.016521   \n",
       "9            0.200728           0.219330         0.196390        0.045891   \n",
       "10          -0.013410          -0.008903        -0.013746        0.016521   \n",
       "11          -0.013410          -0.008903        -0.013746        0.016521   \n",
       "12           0.200728           0.219330         0.219442        0.020113   \n",
       "13          -0.013410          -0.008903        -0.013746        0.016521   \n",
       "14          -0.013410          -0.008903        -0.013746        0.016521   \n",
       "15          -0.013410          -0.008903        -0.013746        0.016521   \n",
       "16          -0.013410          -0.008903        -0.013746        0.016521   \n",
       "17          -0.013410          -0.008903        -0.013746        0.016521   \n",
       "18          -0.013410          -0.008903        -0.013746        0.016521   \n",
       "19           0.200728           0.219330         0.219442        0.020113   \n",
       "20          -0.013410          -0.008903        -0.013746        0.016521   \n",
       "21           0.200728           0.219330         0.219442        0.020113   \n",
       "22          -0.013410          -0.008903        -0.013746        0.016521   \n",
       "23          -0.013410          -0.008903        -0.013746        0.016521   \n",
       "24          -0.013410          -0.008903        -0.013746        0.016521   \n",
       "25          -0.013410          -0.008903        -0.013746        0.016521   \n",
       "26          -0.013410          -0.008903        -0.013746        0.016521   \n",
       "27           0.200728           0.219330         0.189971        0.042122   \n",
       "28          -0.013410          -0.008903        -0.013746        0.016521   \n",
       "29          -0.013410          -0.008903        -0.013746        0.016521   \n",
       "30          -0.013410          -0.008903        -0.013746        0.016521   \n",
       "31          -0.013410          -0.008903        -0.013746        0.016521   \n",
       "32          -0.013410          -0.008903        -0.013746        0.016521   \n",
       "33          -0.013410          -0.008903        -0.013746        0.016521   \n",
       "34          -0.013410          -0.008903        -0.013746        0.016521   \n",
       "35          -0.013410          -0.008903        -0.013746        0.016521   \n",
       "36          -0.013410          -0.008903        -0.013746        0.016521   \n",
       "37          -0.013410          -0.008903        -0.013746        0.016521   \n",
       "38          -0.013410          -0.008903        -0.013746        0.016521   \n",
       "39          -0.013410          -0.008903        -0.013746        0.016521   \n",
       "40          -0.013410          -0.008903        -0.013746        0.016521   \n",
       "41           0.200728           0.219330         0.210231        0.032133   \n",
       "42          -0.013410          -0.008903        -0.013746        0.016521   \n",
       "43          -0.013410          -0.008903        -0.013746        0.016521   \n",
       "44          -0.013410          -0.008903        -0.013746        0.016521   \n",
       "45          -0.013410          -0.008903        -0.013746        0.016521   \n",
       "46          -0.013410          -0.008903        -0.013746        0.016521   \n",
       "47          -0.013410          -0.008903        -0.013746        0.016521   \n",
       "48          -0.013410          -0.008903        -0.013746        0.016521   \n",
       "49          -0.013410          -0.008903        -0.013746        0.016521   \n",
       "\n",
       "    rank_test_score  \n",
       "0                 7  \n",
       "1                 7  \n",
       "2                 7  \n",
       "3                 7  \n",
       "4                 7  \n",
       "5                 7  \n",
       "6                 7  \n",
       "7                 7  \n",
       "8                 7  \n",
       "9                 5  \n",
       "10                7  \n",
       "11                7  \n",
       "12                1  \n",
       "13                7  \n",
       "14                7  \n",
       "15                7  \n",
       "16                7  \n",
       "17                7  \n",
       "18                7  \n",
       "19                1  \n",
       "20                7  \n",
       "21                1  \n",
       "22                7  \n",
       "23                7  \n",
       "24                7  \n",
       "25                7  \n",
       "26                7  \n",
       "27                6  \n",
       "28                7  \n",
       "29                7  \n",
       "30                7  \n",
       "31                7  \n",
       "32                7  \n",
       "33                7  \n",
       "34                7  \n",
       "35                7  \n",
       "36                7  \n",
       "37                7  \n",
       "38                7  \n",
       "39                7  \n",
       "40                7  \n",
       "41                4  \n",
       "42                7  \n",
       "43                7  \n",
       "44                7  \n",
       "45                7  \n",
       "46                7  \n",
       "47                7  \n",
       "48                7  \n",
       "49                7  "
      ]
     },
     "execution_count": 151,
     "metadata": {},
     "output_type": "execute_result"
    }
   ],
   "source": [
    "pd.set_option('display.max_colwidth', None)\n",
    "\n",
    "rsr_results = pd.DataFrame(rsr.cv_results_)\n",
    "rsr_results"
   ]
  },
  {
   "cell_type": "markdown",
   "id": "f1a0290a",
   "metadata": {},
   "source": [
    "Find the best `hyperparameters` from the `rsr` model."
   ]
  },
  {
   "cell_type": "code",
   "execution_count": 152,
   "id": "c71d4653",
   "metadata": {},
   "outputs": [
    {
     "data": {
      "text/plain": [
       "{'min_samples_split': 15,\n",
       " 'min_impurity_decrease': 0.001,\n",
       " 'max_leaf_nodes': 10,\n",
       " 'max_depth': 10}"
      ]
     },
     "execution_count": 152,
     "metadata": {},
     "output_type": "execute_result"
    }
   ],
   "source": [
    "rsr.best_params_"
   ]
  },
  {
   "cell_type": "markdown",
   "id": "c95f50d1",
   "metadata": {},
   "source": [
    "Make a new model using the best `hyperparameters`."
   ]
  },
  {
   "cell_type": "code",
   "execution_count": 153,
   "id": "8437b755",
   "metadata": {},
   "outputs": [],
   "source": [
    "dt_model = DecisionTreeRegressor(**rsr.best_params_)"
   ]
  },
  {
   "cell_type": "markdown",
   "id": "81d2d79a",
   "metadata": {},
   "source": [
    "Train the new model and get the predictions."
   ]
  },
  {
   "cell_type": "code",
   "execution_count": 154,
   "id": "ed7822ff",
   "metadata": {},
   "outputs": [],
   "source": [
    "dt_pred = dt_model.fit(x_train, y_train).predict(x_test)"
   ]
  },
  {
   "cell_type": "code",
   "execution_count": 155,
   "id": "8ca2df99",
   "metadata": {},
   "outputs": [
    {
     "name": "stdout",
     "output_type": "stream",
     "text": [
      "DT Mean Absolute Error: 0.10207226385195782\n",
      "DT Mean Squared Error: 0.02043995062244807\n",
      "DT Root Mean Squared Error: 0.1429683553183993\n",
      "DT R-squared: 0.2821667980946405\n"
     ]
    }
   ],
   "source": [
    "mae_dt = mean_absolute_error(y_test, dt_pred)\n",
    "mse_dt = mean_squared_error(y_test, dt_pred)\n",
    "rmse_dt = compute_RMSE(y_test, dt_pred)\n",
    "r2_dt = r2_score(y_test, dt_pred)\n",
    "\n",
    "\n",
    "print(f\"DT Mean Absolute Error: {mae_dt}\")\n",
    "print(f\"DT Mean Squared Error: {mse_dt}\")\n",
    "print(f\"DT Root Mean Squared Error: {rmse_dt}\")\n",
    "print(f\"DT R-squared: {r2_dt}\")"
   ]
  },
  {
   "cell_type": "markdown",
   "metadata": {},
   "source": [
    "Now, let's compare the results before and after hyperparameter tuning. The increase in MAE suggests that the tuned Decision Tree model performed less well on average, which is a negative outcome. However, the decrease in MSE, RMSE, and the increase in R-squared indicate that the model's generalization to unseen data likely improved after hyperparameter tuning. The tuned model might be better capturing the underlying patterns and exhibiting lower overall variance."
   ]
  },
  {
   "cell_type": "markdown",
   "id": "fc92da1d",
   "metadata": {},
   "source": [
    "### **Model 5: Random Forest Regression**"
   ]
  },
  {
   "cell_type": "markdown",
   "id": "0cc04ced",
   "metadata": {},
   "source": [
    "To tune the hyperparameters for a random forest model, we will be using the grid search tenchnique using GridSearchCV from scikit learn. We will define a grid of hyperparameters and let the GridSearchCV perform cross-validated grid search to identify the best set of hyperparameters based on the negative MSE. After getting the best set of hyperparameters, we then use it to train the model again and evaluate using the validation set."
   ]
  },
  {
   "cell_type": "markdown",
   "id": "2b98481f",
   "metadata": {},
   "source": [
    "Let's create a new random forest regressor object."
   ]
  },
  {
   "cell_type": "code",
   "execution_count": 156,
   "id": "204ba71f",
   "metadata": {},
   "outputs": [],
   "source": [
    "rf_model = RandomForestRegressor(random_state=None)"
   ]
  },
  {
   "cell_type": "markdown",
   "id": "c97f9bba",
   "metadata": {},
   "source": [
    "Define the hyperparameter grid to search."
   ]
  },
  {
   "cell_type": "code",
   "execution_count": 157,
   "id": "7108030b",
   "metadata": {},
   "outputs": [],
   "source": [
    "param_grid = {\n",
    "    'n_estimators': [50, 100, 150],          \n",
    "    'max_depth': [None, 10, 20, 30],         \n",
    "    'min_samples_split': [2, 5, 10],         \n",
    "    'min_samples_leaf': [1, 2, 4]            \n",
    "}"
   ]
  },
  {
   "cell_type": "markdown",
   "metadata": {},
   "source": [
    "Let's make the `GridSearchCV` object and search for the best set of parameters."
   ]
  },
  {
   "cell_type": "code",
   "execution_count": 158,
   "id": "96a86654",
   "metadata": {},
   "outputs": [],
   "source": [
    "# create a GridSearchCV\n",
    "grid_search = GridSearchCV(estimator=rf_model, param_grid=param_grid, scoring='neg_mean_squared_error', cv=5, n_jobs=-1)"
   ]
  },
  {
   "cell_type": "code",
   "execution_count": 159,
   "id": "fd7c23cf",
   "metadata": {},
   "outputs": [
    {
     "data": {
      "text/html": [
       "<style>#sk-container-id-16 {color: black;}#sk-container-id-16 pre{padding: 0;}#sk-container-id-16 div.sk-toggleable {background-color: white;}#sk-container-id-16 label.sk-toggleable__label {cursor: pointer;display: block;width: 100%;margin-bottom: 0;padding: 0.3em;box-sizing: border-box;text-align: center;}#sk-container-id-16 label.sk-toggleable__label-arrow:before {content: \"▸\";float: left;margin-right: 0.25em;color: #696969;}#sk-container-id-16 label.sk-toggleable__label-arrow:hover:before {color: black;}#sk-container-id-16 div.sk-estimator:hover label.sk-toggleable__label-arrow:before {color: black;}#sk-container-id-16 div.sk-toggleable__content {max-height: 0;max-width: 0;overflow: hidden;text-align: left;background-color: #f0f8ff;}#sk-container-id-16 div.sk-toggleable__content pre {margin: 0.2em;color: black;border-radius: 0.25em;background-color: #f0f8ff;}#sk-container-id-16 input.sk-toggleable__control:checked~div.sk-toggleable__content {max-height: 200px;max-width: 100%;overflow: auto;}#sk-container-id-16 input.sk-toggleable__control:checked~label.sk-toggleable__label-arrow:before {content: \"▾\";}#sk-container-id-16 div.sk-estimator input.sk-toggleable__control:checked~label.sk-toggleable__label {background-color: #d4ebff;}#sk-container-id-16 div.sk-label input.sk-toggleable__control:checked~label.sk-toggleable__label {background-color: #d4ebff;}#sk-container-id-16 input.sk-hidden--visually {border: 0;clip: rect(1px 1px 1px 1px);clip: rect(1px, 1px, 1px, 1px);height: 1px;margin: -1px;overflow: hidden;padding: 0;position: absolute;width: 1px;}#sk-container-id-16 div.sk-estimator {font-family: monospace;background-color: #f0f8ff;border: 1px dotted black;border-radius: 0.25em;box-sizing: border-box;margin-bottom: 0.5em;}#sk-container-id-16 div.sk-estimator:hover {background-color: #d4ebff;}#sk-container-id-16 div.sk-parallel-item::after {content: \"\";width: 100%;border-bottom: 1px solid gray;flex-grow: 1;}#sk-container-id-16 div.sk-label:hover label.sk-toggleable__label {background-color: #d4ebff;}#sk-container-id-16 div.sk-serial::before {content: \"\";position: absolute;border-left: 1px solid gray;box-sizing: border-box;top: 0;bottom: 0;left: 50%;z-index: 0;}#sk-container-id-16 div.sk-serial {display: flex;flex-direction: column;align-items: center;background-color: white;padding-right: 0.2em;padding-left: 0.2em;position: relative;}#sk-container-id-16 div.sk-item {position: relative;z-index: 1;}#sk-container-id-16 div.sk-parallel {display: flex;align-items: stretch;justify-content: center;background-color: white;position: relative;}#sk-container-id-16 div.sk-item::before, #sk-container-id-16 div.sk-parallel-item::before {content: \"\";position: absolute;border-left: 1px solid gray;box-sizing: border-box;top: 0;bottom: 0;left: 50%;z-index: -1;}#sk-container-id-16 div.sk-parallel-item {display: flex;flex-direction: column;z-index: 1;position: relative;background-color: white;}#sk-container-id-16 div.sk-parallel-item:first-child::after {align-self: flex-end;width: 50%;}#sk-container-id-16 div.sk-parallel-item:last-child::after {align-self: flex-start;width: 50%;}#sk-container-id-16 div.sk-parallel-item:only-child::after {width: 0;}#sk-container-id-16 div.sk-dashed-wrapped {border: 1px dashed gray;margin: 0 0.4em 0.5em 0.4em;box-sizing: border-box;padding-bottom: 0.4em;background-color: white;}#sk-container-id-16 div.sk-label label {font-family: monospace;font-weight: bold;display: inline-block;line-height: 1.2em;}#sk-container-id-16 div.sk-label-container {text-align: center;}#sk-container-id-16 div.sk-container {/* jupyter's `normalize.less` sets `[hidden] { display: none; }` but bootstrap.min.css set `[hidden] { display: none !important; }` so we also need the `!important` here to be able to override the default hidden behavior on the sphinx rendered scikit-learn.org. See: https://github.com/scikit-learn/scikit-learn/issues/21755 */display: inline-block !important;position: relative;}#sk-container-id-16 div.sk-text-repr-fallback {display: none;}</style><div id=\"sk-container-id-16\" class=\"sk-top-container\"><div class=\"sk-text-repr-fallback\"><pre>GridSearchCV(cv=5, estimator=RandomForestRegressor(), n_jobs=-1,\n",
       "             param_grid={&#x27;max_depth&#x27;: [None, 10, 20, 30],\n",
       "                         &#x27;min_samples_leaf&#x27;: [1, 2, 4],\n",
       "                         &#x27;min_samples_split&#x27;: [2, 5, 10],\n",
       "                         &#x27;n_estimators&#x27;: [50, 100, 150]},\n",
       "             scoring=&#x27;neg_mean_squared_error&#x27;)</pre><b>In a Jupyter environment, please rerun this cell to show the HTML representation or trust the notebook. <br />On GitHub, the HTML representation is unable to render, please try loading this page with nbviewer.org.</b></div><div class=\"sk-container\" hidden><div class=\"sk-item sk-dashed-wrapped\"><div class=\"sk-label-container\"><div class=\"sk-label sk-toggleable\"><input class=\"sk-toggleable__control sk-hidden--visually\" id=\"sk-estimator-id-22\" type=\"checkbox\" ><label for=\"sk-estimator-id-22\" class=\"sk-toggleable__label sk-toggleable__label-arrow\">GridSearchCV</label><div class=\"sk-toggleable__content\"><pre>GridSearchCV(cv=5, estimator=RandomForestRegressor(), n_jobs=-1,\n",
       "             param_grid={&#x27;max_depth&#x27;: [None, 10, 20, 30],\n",
       "                         &#x27;min_samples_leaf&#x27;: [1, 2, 4],\n",
       "                         &#x27;min_samples_split&#x27;: [2, 5, 10],\n",
       "                         &#x27;n_estimators&#x27;: [50, 100, 150]},\n",
       "             scoring=&#x27;neg_mean_squared_error&#x27;)</pre></div></div></div><div class=\"sk-parallel\"><div class=\"sk-parallel-item\"><div class=\"sk-item\"><div class=\"sk-label-container\"><div class=\"sk-label sk-toggleable\"><input class=\"sk-toggleable__control sk-hidden--visually\" id=\"sk-estimator-id-23\" type=\"checkbox\" ><label for=\"sk-estimator-id-23\" class=\"sk-toggleable__label sk-toggleable__label-arrow\">estimator: RandomForestRegressor</label><div class=\"sk-toggleable__content\"><pre>RandomForestRegressor()</pre></div></div></div><div class=\"sk-serial\"><div class=\"sk-item\"><div class=\"sk-estimator sk-toggleable\"><input class=\"sk-toggleable__control sk-hidden--visually\" id=\"sk-estimator-id-24\" type=\"checkbox\" ><label for=\"sk-estimator-id-24\" class=\"sk-toggleable__label sk-toggleable__label-arrow\">RandomForestRegressor</label><div class=\"sk-toggleable__content\"><pre>RandomForestRegressor()</pre></div></div></div></div></div></div></div></div></div></div>"
      ],
      "text/plain": [
       "GridSearchCV(cv=5, estimator=RandomForestRegressor(), n_jobs=-1,\n",
       "             param_grid={'max_depth': [None, 10, 20, 30],\n",
       "                         'min_samples_leaf': [1, 2, 4],\n",
       "                         'min_samples_split': [2, 5, 10],\n",
       "                         'n_estimators': [50, 100, 150]},\n",
       "             scoring='neg_mean_squared_error')"
      ]
     },
     "execution_count": 159,
     "metadata": {},
     "output_type": "execute_result"
    }
   ],
   "source": [
    "# train the model\n",
    "grid_search.fit(x_train, y_train)"
   ]
  },
  {
   "cell_type": "markdown",
   "metadata": {},
   "source": [
    "Show the best set of hyperparameters from the `GridSearchCV`."
   ]
  },
  {
   "cell_type": "code",
   "execution_count": 160,
   "id": "b9b54934",
   "metadata": {},
   "outputs": [
    {
     "data": {
      "text/plain": [
       "{'max_depth': 10,\n",
       " 'min_samples_leaf': 1,\n",
       " 'min_samples_split': 10,\n",
       " 'n_estimators': 50}"
      ]
     },
     "execution_count": 160,
     "metadata": {},
     "output_type": "execute_result"
    }
   ],
   "source": [
    "# get the best set of hyperparameters\n",
    "best_params = grid_search.best_params_\n",
    "best_params"
   ]
  },
  {
   "cell_type": "markdown",
   "metadata": {},
   "source": [
    "Let's make a new Random Forest Regressor using these `hyperparameters` and train it as well. "
   ]
  },
  {
   "cell_type": "code",
   "execution_count": 161,
   "id": "9061f3da",
   "metadata": {},
   "outputs": [],
   "source": [
    "# Use the best hyperparameters to create the final model\n",
    "best_rf_model = RandomForestRegressor(**best_params, random_state=None)"
   ]
  },
  {
   "cell_type": "code",
   "execution_count": 162,
   "id": "dd561606",
   "metadata": {},
   "outputs": [
    {
     "data": {
      "text/html": [
       "<style>#sk-container-id-17 {color: black;}#sk-container-id-17 pre{padding: 0;}#sk-container-id-17 div.sk-toggleable {background-color: white;}#sk-container-id-17 label.sk-toggleable__label {cursor: pointer;display: block;width: 100%;margin-bottom: 0;padding: 0.3em;box-sizing: border-box;text-align: center;}#sk-container-id-17 label.sk-toggleable__label-arrow:before {content: \"▸\";float: left;margin-right: 0.25em;color: #696969;}#sk-container-id-17 label.sk-toggleable__label-arrow:hover:before {color: black;}#sk-container-id-17 div.sk-estimator:hover label.sk-toggleable__label-arrow:before {color: black;}#sk-container-id-17 div.sk-toggleable__content {max-height: 0;max-width: 0;overflow: hidden;text-align: left;background-color: #f0f8ff;}#sk-container-id-17 div.sk-toggleable__content pre {margin: 0.2em;color: black;border-radius: 0.25em;background-color: #f0f8ff;}#sk-container-id-17 input.sk-toggleable__control:checked~div.sk-toggleable__content {max-height: 200px;max-width: 100%;overflow: auto;}#sk-container-id-17 input.sk-toggleable__control:checked~label.sk-toggleable__label-arrow:before {content: \"▾\";}#sk-container-id-17 div.sk-estimator input.sk-toggleable__control:checked~label.sk-toggleable__label {background-color: #d4ebff;}#sk-container-id-17 div.sk-label input.sk-toggleable__control:checked~label.sk-toggleable__label {background-color: #d4ebff;}#sk-container-id-17 input.sk-hidden--visually {border: 0;clip: rect(1px 1px 1px 1px);clip: rect(1px, 1px, 1px, 1px);height: 1px;margin: -1px;overflow: hidden;padding: 0;position: absolute;width: 1px;}#sk-container-id-17 div.sk-estimator {font-family: monospace;background-color: #f0f8ff;border: 1px dotted black;border-radius: 0.25em;box-sizing: border-box;margin-bottom: 0.5em;}#sk-container-id-17 div.sk-estimator:hover {background-color: #d4ebff;}#sk-container-id-17 div.sk-parallel-item::after {content: \"\";width: 100%;border-bottom: 1px solid gray;flex-grow: 1;}#sk-container-id-17 div.sk-label:hover label.sk-toggleable__label {background-color: #d4ebff;}#sk-container-id-17 div.sk-serial::before {content: \"\";position: absolute;border-left: 1px solid gray;box-sizing: border-box;top: 0;bottom: 0;left: 50%;z-index: 0;}#sk-container-id-17 div.sk-serial {display: flex;flex-direction: column;align-items: center;background-color: white;padding-right: 0.2em;padding-left: 0.2em;position: relative;}#sk-container-id-17 div.sk-item {position: relative;z-index: 1;}#sk-container-id-17 div.sk-parallel {display: flex;align-items: stretch;justify-content: center;background-color: white;position: relative;}#sk-container-id-17 div.sk-item::before, #sk-container-id-17 div.sk-parallel-item::before {content: \"\";position: absolute;border-left: 1px solid gray;box-sizing: border-box;top: 0;bottom: 0;left: 50%;z-index: -1;}#sk-container-id-17 div.sk-parallel-item {display: flex;flex-direction: column;z-index: 1;position: relative;background-color: white;}#sk-container-id-17 div.sk-parallel-item:first-child::after {align-self: flex-end;width: 50%;}#sk-container-id-17 div.sk-parallel-item:last-child::after {align-self: flex-start;width: 50%;}#sk-container-id-17 div.sk-parallel-item:only-child::after {width: 0;}#sk-container-id-17 div.sk-dashed-wrapped {border: 1px dashed gray;margin: 0 0.4em 0.5em 0.4em;box-sizing: border-box;padding-bottom: 0.4em;background-color: white;}#sk-container-id-17 div.sk-label label {font-family: monospace;font-weight: bold;display: inline-block;line-height: 1.2em;}#sk-container-id-17 div.sk-label-container {text-align: center;}#sk-container-id-17 div.sk-container {/* jupyter's `normalize.less` sets `[hidden] { display: none; }` but bootstrap.min.css set `[hidden] { display: none !important; }` so we also need the `!important` here to be able to override the default hidden behavior on the sphinx rendered scikit-learn.org. See: https://github.com/scikit-learn/scikit-learn/issues/21755 */display: inline-block !important;position: relative;}#sk-container-id-17 div.sk-text-repr-fallback {display: none;}</style><div id=\"sk-container-id-17\" class=\"sk-top-container\"><div class=\"sk-text-repr-fallback\"><pre>RandomForestRegressor(max_depth=10, min_samples_split=10, n_estimators=50)</pre><b>In a Jupyter environment, please rerun this cell to show the HTML representation or trust the notebook. <br />On GitHub, the HTML representation is unable to render, please try loading this page with nbviewer.org.</b></div><div class=\"sk-container\" hidden><div class=\"sk-item\"><div class=\"sk-estimator sk-toggleable\"><input class=\"sk-toggleable__control sk-hidden--visually\" id=\"sk-estimator-id-25\" type=\"checkbox\" checked><label for=\"sk-estimator-id-25\" class=\"sk-toggleable__label sk-toggleable__label-arrow\">RandomForestRegressor</label><div class=\"sk-toggleable__content\"><pre>RandomForestRegressor(max_depth=10, min_samples_split=10, n_estimators=50)</pre></div></div></div></div></div>"
      ],
      "text/plain": [
       "RandomForestRegressor(max_depth=10, min_samples_split=10, n_estimators=50)"
      ]
     },
     "execution_count": 162,
     "metadata": {},
     "output_type": "execute_result"
    }
   ],
   "source": [
    "# train the model with the best hyperparameters\n",
    "best_rf_model.fit(x_train, y_train)"
   ]
  },
  {
   "cell_type": "markdown",
   "metadata": {},
   "source": [
    "Now to predict it on the validation set and see the results."
   ]
  },
  {
   "cell_type": "code",
   "execution_count": 163,
   "id": "2058f5c6",
   "metadata": {},
   "outputs": [],
   "source": [
    "# Predict on the validation set\n",
    "rf_val_pred_tuned = best_rf_model.predict(x_val)"
   ]
  },
  {
   "cell_type": "code",
   "execution_count": 164,
   "id": "fe789265",
   "metadata": {},
   "outputs": [],
   "source": [
    "# Evaluate the tuned model\n",
    "tuned_mse = mean_squared_error(y_val, rf_val_pred_tuned)\n",
    "tuned_mae = mean_absolute_error(y_val, rf_val_pred_tuned)\n",
    "tuned_rmse = np.sqrt(tuned_mse)\n",
    "tuned_r2 = r2_score(y_val, rf_val_pred_tuned)"
   ]
  },
  {
   "cell_type": "markdown",
   "metadata": {},
   "source": [
    "Lets print out the values we just computed for:"
   ]
  },
  {
   "cell_type": "code",
   "execution_count": 165,
   "id": "a6cad9ce",
   "metadata": {},
   "outputs": [
    {
     "name": "stdout",
     "output_type": "stream",
     "text": [
      "Best Hyperparameters: {'max_depth': 10, 'min_samples_leaf': 1, 'min_samples_split': 10, 'n_estimators': 50}\n",
      "Tuned Random Forest Validation Mean Absolute Error: 0.07292866565844759\n",
      "Tuned Random Forest Validation Mean Squared Error: 0.012000979548710194\n",
      "Tuned Random Forest Validation Root Mean Squared Error: 0.10954898241750215\n",
      "Tuned Random Forest Validation R-squared: 0.4848509503820816\n"
     ]
    }
   ],
   "source": [
    "# best hyperparameters and evaluation metrics\n",
    "print(\"Best Hyperparameters:\", best_params)\n",
    "print(\"Tuned Random Forest Validation Mean Absolute Error:\", tuned_mae)\n",
    "print(\"Tuned Random Forest Validation Mean Squared Error:\", tuned_mse)\n",
    "print(\"Tuned Random Forest Validation Root Mean Squared Error:\", tuned_rmse)\n",
    "print(\"Tuned Random Forest Validation R-squared:\", tuned_r2)"
   ]
  },
  {
   "cell_type": "markdown",
   "id": "fa99875d",
   "metadata": {},
   "source": [
    "From the results of the hyperparameter tuning process, we can see that the model has improved its perforamce on the validation set. the MAE, MSE, RMSE, was decreased while the R-square value increased, indicating that the model captures a larger portion of the variance in the target variable on the validation set."
   ]
  },
  {
   "cell_type": "markdown",
   "id": "db9c0afd",
   "metadata": {},
   "source": [
    "We can now check if the model will be able to generalize on new data by predicting the test set"
   ]
  },
  {
   "cell_type": "code",
   "execution_count": 166,
   "id": "e37e7239",
   "metadata": {},
   "outputs": [
    {
     "name": "stdout",
     "output_type": "stream",
     "text": [
      "Tuned Random Forest Test Mean Absolute Error: 0.06951715834017401\n",
      "Tuned Random Forest Test Mean Squared Error: 0.012485714221889233\n",
      "Tuned Random Forest Test Root Mean Squared Error: 0.11173949266883769\n",
      "Tuned Random Forest Test R-squared: 0.5615126286982888\n"
     ]
    }
   ],
   "source": [
    "rf_test_pred_tuned = best_rf_model.predict(x_test)\n",
    "\n",
    "test_mae = mean_absolute_error(y_test, rf_test_pred_tuned)\n",
    "test_mse = mean_squared_error(y_test, rf_test_pred_tuned)\n",
    "test_rmse = np.sqrt(test_mse)\n",
    "test_r2 = r2_score(y_test, rf_test_pred_tuned)\n",
    "\n",
    "# Print the test set evaluation metrics\n",
    "print(\"Tuned Random Forest Test Mean Absolute Error:\", test_mae)\n",
    "print(\"Tuned Random Forest Test Mean Squared Error:\", test_mse)\n",
    "print(\"Tuned Random Forest Test Root Mean Squared Error:\", test_rmse)\n",
    "print(\"Tuned Random Forest Test R-squared:\", test_r2)"
   ]
  },
  {
   "cell_type": "markdown",
   "id": "20e37660",
   "metadata": {},
   "source": [
    "The results of applying the tuned random forest on the test set, we can say that the model was able to show the improvements after tuning the hyperparameters. On the test set, the errors became lower, the R-square increased, and the consistency of the model is shown as it was able to generalize from the train and validation sets to the test set."
   ]
  },
  {
   "cell_type": "markdown",
   "id": "079f1fcb",
   "metadata": {},
   "source": [
    "## **Section 8: Model selection**"
   ]
  },
  {
   "cell_type": "markdown",
   "id": "1abd6e24",
   "metadata": {},
   "source": [
    "Present a summary of all model configurations. Include each algorithm and the best set of values for its hyperparameters. Identify the best model configuration and discuss its advantage over other configurations."
   ]
  },
  {
   "cell_type": "markdown",
   "id": "526069ad",
   "metadata": {},
   "source": [
    "| Models     | Mean Absolute Error | Mean Squared Error | Root Mean Squared Error | R-squared | \n",
    "|------------|---------------------|--------------------|-------------------------|-----------|\n",
    "| Linear Regression        | 0.09595815539412558 |0.01678438125462354|0.1295545493397416|0.27952064107355323| \n",
    "| Lasso Regression         | 0.1177324003355898 | 0.025586776966309892 | 0.15995867268238348  |0.10141475508296849| \n",
    "| Ridge Regression         | 0.1176875064085225 | 0.02557916899287289 | 0.15993488985481838 | 0.10168194046091628| \n",
    "| Decision Tree Regressor  | 0.10207226385195782 | 0.02043995062244807 | 0.1429683553183993 |0.2821667980946405| \n",
    "| Random Forest Regressor  | 0.06951715834017401 | 0.012485714221889233 | 0.11173949266883769 |0.5615126286982888| "
   ]
  },
  {
   "cell_type": "markdown",
   "metadata": {},
   "source": [
    "Among the five models evaluated on the test set, the Tuned Random Forest Regression displayed the best predictive performance. It achieved the lowest Mean Absolute Error (MAE) of 0.070, Mean Squared Error (MSE) of 0.012, and Root Mean Squared Error (RMSE) of 0.112, accompanied by the highest R-squared value of 0.562. This indicates that the Tuned Random Forest model outperformed the Decision Tree, Lasso Regression, Ridge Regression, and Linear Regression models in accurately predicting the target variable on unseen data."
   ]
  },
  {
   "cell_type": "markdown",
   "id": "37b3a490",
   "metadata": {},
   "source": [
    "## **Section 9: Insights and conclusions**"
   ]
  },
  {
   "cell_type": "markdown",
   "id": "ee2b0c58",
   "metadata": {},
   "source": [
    "Clearly state your insights and conclusions from training a model on the data. Why did some models produce better results? Summarize your conclusions to explain the performance of the models. Discuss recommendations to improve the performance of the model."
   ]
  },
  {
   "cell_type": "markdown",
   "id": "a3fa5150",
   "metadata": {},
   "source": [
    "Predicting the Productivity of the Garment Workers based on the given features allowed us to determine which model/s was able to predict the actual productivity count. During the Model Training, we were able to distinguish which models we can use. We decided to use only Regression Models since the origin of the dataset suggests that features can be used for regression purposes to determine the actual productivity count. The regression models were chosen because they are best suited for predicting a continuous outcome variable (such as the productivity) from one or more predictor variables. We decided to use Linear, Lasso, and Ridge Regression as our first 3 models because we want to understand the relationships between the various features provided and the actual productivity count of the garment workers. Specifically, Linear Regression serves as a fundamental method to establish a baseline predictive model. Moreover, we integrated Lasso and Ridge Regression into our selection due to their regularization capabilities, addressing potential issues of multicollinearity and overfitting while allowing us to measure the impact of different features on the productivity count. The Decision Trees and Random Forest were used to complement our analysis by exploring potential non-linear relationships and interactions between features that might influence the productivity of garment workers. Decision Trees and Random Forest models were incorporated to capture complex patterns and interactions within the dataset that might not be easily discernible with linear models alone. Random Forest combines multiple trees to improve predictive accuracy and generalize well to new data. By employing these tree-based models, we were able to capture nuanced relationships and interactions within the data, thereby enhancing our understanding of how various factors impact garment workers' productivity. <p> <p>\n",
    "\n",
    "The variation in performance among these models on the test set is due to their unique approaches. Decision Trees can overfit, while Lasso and Ridge Regression, despite regularization, might not suit the data well. Random Forest, an ensemble of trees, excels by capturing complex relationships while averting overfitting. Linear Regression, though simple, might struggle with the data's complexity. The Random Forest model outperformed others, likely due to its capacity to handle complexity and generalize better to predict productivity count."
   ]
  },
  {
   "cell_type": "markdown",
   "id": "f5def5c4",
   "metadata": {},
   "source": [
    "## **Section 10: References**"
   ]
  },
  {
   "cell_type": "markdown",
   "id": "94bb7927",
   "metadata": {},
   "source": [
    "https://towardsdatascience.com/hyperparameter-tuning-the-random-forest-in-python-using-scikit-learn-28d2aa77dd74"
   ]
  },
  {
   "cell_type": "markdown",
   "id": "13936e02",
   "metadata": {},
   "source": []
  }
 ],
 "metadata": {
  "kernelspec": {
   "display_name": "Python 3 (ipykernel)",
   "language": "python",
   "name": "python3"
  },
  "language_info": {
   "codemirror_mode": {
    "name": "ipython",
    "version": 3
   },
   "file_extension": ".py",
   "mimetype": "text/x-python",
   "name": "python",
   "nbconvert_exporter": "python",
   "pygments_lexer": "ipython3",
   "version": "3.11.0"
  }
 },
 "nbformat": 4,
 "nbformat_minor": 5
}
