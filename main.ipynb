{
 "cells": [
  {
   "cell_type": "markdown",
   "id": "fcc573dd",
   "metadata": {},
   "source": [
    "# **STINTSY S11 Group 1 Major Course Output**\n",
    "Members:<br>\n",
    "Andres, Donielle<br>\n",
    "Limjoco, Jared Ethan<br>\n",
    "Quinzon, Christopher Josh<br>\n",
    "Uy, Shane Owen"
   ]
  },
  {
   "cell_type": "markdown",
   "id": "8f16d3a8",
   "metadata": {},
   "source": [
    "## **Section 1: Introduction to the problem/task and dataset**\n",
    "\n",
    "The garment industry plays a crucial role in today's industrial globalization as this labor-intesive sector relies heavily manual processes and in order to meet the global demands for clothing and textile products, the industry must ensure efficient production and delivery of the employees of garment manufacturing companies. Decision-makers or those of high positions in the garment industry makes this happen by systematically monitoring, analyzing, and predicting the productivity performance of the different teams that work within their factories. This makes it possible for companies in the industry to gain a competitive advantage in the market. <br><br>\n",
    "\n",
    "In order to systematically monitor, analyze, and predict the productivity performance of the teams in factories, a comprehensive dataset has been built, covering important attributes related to the garment manufacturing process and the productivity of employees. This dataset serves as a valuable resource for researchers, data scientists, and industry professionals to understand the industry on a deeper level by looking at different factors contributing to the productivity of the industry. <br><br>\n",
    "\n",
    "This project's primary objective is to predict and analyze the productivity performance of working teams in garment manufacturing companies. The target of this project is to develop models and generate insights that can predict the productivity of the teams in the garment industry based on the provided attributes. Being able to do so will greatly help decision-makers to make data-driven decision to improve the overall efficiency and competitiveness of their garment manufacturing operations\n",
    "\n",
    "<br><br>\n",
    "Comments:\n",
    "- be more specific on the main task\n",
    "- can do \"predict and analyze the relationship between the given incentives to each worker to the percent of productivity that was delivered in each department per quarter\" para linear regression nalang gamitin naten if ganito"
   ]
  },
  {
   "cell_type": "code",
   "execution_count": null,
   "id": "4e22e6f8",
   "metadata": {},
   "outputs": [],
   "source": []
  },
  {
   "cell_type": "markdown",
   "metadata": {},
   "source": [
    "## **Section 2: Description of the dataset**"
   ]
  },
  {
   "cell_type": "markdown",
   "metadata": {},
   "source": [
    "In this section of the notebook, you must fulfill the following: <br>\n",
    "\n",
    "State a brief description of the dataset.<br>\n",
    "- Provide a description of the collection process executed to build the dataset.\n",
    "<br> \n",
    "\n",
    "> Discuss the implications of the data collection method on the generated conclusions and insights. Note that you may need to look at relevant sources related to the dataset to acquire necessary information for this part of the project. \n",
    "\n",
    "- Describe the structure of the dataset file. <br>\n",
    "\n",
    "> o What does each row and column represent? <br> o How many instances are there in the dataset? <br> o How many features are there in the dataset? <br> o If the dataset is composed of different files that you will combine in the succeeding steps, describe the structure and the contents of each file. <br>\n",
    "\n",
    "- Discuss the features in each dataset file. What does each feature represent? All features, even those which are not used for the study, should be described to the reader. The purpose of each feature in the dataset should be clear to the reader of the notebook without having to go through an external link."
   ]
  },
  {
   "cell_type": "markdown",
   "metadata": {},
   "source": [
    "**Garments Features** <br>\n",
    "- date – Date in MM-DD-YYYY\n",
    "- quarter – A portion of the month. A month was divided into four quarters.\n",
    "- department – Department associated with the instance.\n",
    "- day – Day of the week\n",
    "- team – Team number associated with the instance.\n",
    "- targeted_productivity – Targeted productivity set by the authority for each team for each day.\n",
    "- smv – Standard Minute Value; the allocated time for a task\n",
    "- wip – Work in progress. Includes the number of unfinished items for products.\n",
    "- over_time – Represents the amount of overtime by each team in minutes.\n",
    "- incentive – Represents the amount of financial incentive that enables or motivates a particular course of action.\n",
    "- idle_time – The amount of time when the production was interrupted due to several reasons.\n",
    "- idle_men – The number of workers who were idle due to production interruption.\n",
    "- no_of_style_change – Number of changes in the style of a particular product\n",
    "- no_of_workers – Number of workers in each team\n",
    "- actual_productivity – The actual % of productivity that was delivered by the workers. It ranges from 0-1.\n"
   ]
  },
  {
   "cell_type": "markdown",
   "metadata": {},
   "source": [
    "## **Section 3: List of requirements**"
   ]
  },
  {
   "cell_type": "markdown",
   "metadata": {},
   "source": [
    "List all the Python libraries and modules that you used."
   ]
  },
  {
   "cell_type": "markdown",
   "metadata": {},
   "source": []
  },
  {
   "cell_type": "markdown",
   "metadata": {},
   "source": [
    "## **Section 4: Data preprocessing and cleaning**"
   ]
  },
  {
   "cell_type": "markdown",
   "metadata": {},
   "source": [
    "Perform the necessary steps before using the data. In this section of the notebook, please take note of the following: <br>\n",
    "\n",
    "- If needed, perform preprocessing techniques to transform the data to the appropriate representation. This may include binning, log transformations, conversion to one-hot encoding, normalization, standardization, interpolation, truncation, and feature engineering, among others. There should be a correct and proper justification of the use of each preprocessing technique used in the project.\n",
    "- Make sure that the data is clean, especially features that are used in the project. This may include checking for misrepresentations, checking the data type, dealing with missing data, dealing with duplicate data, and dealing with outliers, among others. There should be a correct and proper justification of the application (or non-application) of each data cleaning method used in the project. Clean only the variables utilized in the study"
   ]
  },
  {
   "cell_type": "markdown",
   "metadata": {},
   "source": [
    "Comments:\n",
    "- needs data cleaning\n",
    "- change variable names and renaming(correct spelling)\n",
    "- check missing values and correct data types\n",
    "- one hot encoding and feature engineering"
   ]
  },
  {
   "cell_type": "markdown",
   "metadata": {},
   "source": [
    "## **Section 5: Exploratory data analysis**"
   ]
  },
  {
   "cell_type": "markdown",
   "metadata": {},
   "source": [
    "Perform exploratory data analysis comprehensively to gain a good understanding of your dataset. <br>In this section of the notebook, you must present relevant numerical summaries and\n",
    "visualizations. Make sure that each code is accompanied by a brief explanation. The whole process should be supported with verbose textual descriptions of your procedures and findings."
   ]
  },
  {
   "cell_type": "markdown",
   "metadata": {},
   "source": []
  },
  {
   "cell_type": "markdown",
   "metadata": {},
   "source": [
    "## **Section 6: Model training**"
   ]
  },
  {
   "cell_type": "markdown",
   "metadata": {},
   "source": [
    "Use machine learning models to accomplish your chosen task for the dataset. In this section of the notebook, please take note of the following:\n",
    "- The project should train and evaluate at least 3 different kinds of machine learning models.\n",
    "- Each model should be appropriate in accomplishing the chosen task for the dataset. There should be a clear and correct justification on the use of each machine learning model.\n",
    "- Make sure that the values of the hyperparameters of each model are mentioned. At the minimum, the optimizer, the learning rate, and the learning rate schedule should be discussed per model.\n",
    "- The report should show that the models are not overfitting nor underfitting."
   ]
  },
  {
   "cell_type": "markdown",
   "metadata": {},
   "source": []
  },
  {
   "cell_type": "markdown",
   "metadata": {},
   "source": [
    "## **Section 7: Hyperparameter tuning**"
   ]
  },
  {
   "cell_type": "markdown",
   "metadata": {},
   "source": [
    "Perform grid search or random search to tune the hyperparameters of each model. In this section of the notebook, please take note of the following:<br>\n",
    "- Make sure to elaborately explain the method of hyperparameter tuning.\n",
    "- Explicitly mention the different hyperparameters and their range of values. Show the corresponding performance of each configuration.\n",
    "- Report the performance of all models using appropriate evaluation metrics and visualizations.\n",
    "- Properly interpret the result based on relevant evaluation metrics."
   ]
  },
  {
   "cell_type": "markdown",
   "metadata": {},
   "source": []
  },
  {
   "cell_type": "markdown",
   "metadata": {},
   "source": [
    "## **Section 8: Model selection**"
   ]
  },
  {
   "cell_type": "markdown",
   "metadata": {},
   "source": [
    "Present a summary of all model configurations. Include each algorithm and the best set of values for its hyperparameters. Identify the best model configuration and discuss its advantage over other configurations."
   ]
  },
  {
   "cell_type": "markdown",
   "metadata": {},
   "source": []
  },
  {
   "cell_type": "markdown",
   "metadata": {},
   "source": [
    "## **Section 9: Insights and conclusions**"
   ]
  },
  {
   "cell_type": "markdown",
   "metadata": {},
   "source": [
    "Clearly state your insights and conclusions from training a model on the data. Why did some models produce better results? Summarize your conclusions to explain the performance of the models. Discuss recommendations to improve the performance of the model."
   ]
  },
  {
   "cell_type": "markdown",
   "metadata": {},
   "source": []
  },
  {
   "cell_type": "markdown",
   "metadata": {},
   "source": [
    "## **Section 10: References**"
   ]
  },
  {
   "cell_type": "markdown",
   "metadata": {},
   "source": []
  },
  {
   "cell_type": "markdown",
   "metadata": {},
   "source": []
  }
 ],
 "metadata": {
  "kernelspec": {
   "display_name": "Python 3 (ipykernel)",
   "language": "python",
   "name": "python3"
  },
  "language_info": {
   "codemirror_mode": {
    "name": "ipython",
    "version": 3
   },
   "file_extension": ".py",
   "mimetype": "text/x-python",
   "name": "python",
   "nbconvert_exporter": "python",
   "pygments_lexer": "ipython3",
   "version": "3.11.0"
  }
 },
 "nbformat": 4,
 "nbformat_minor": 5
}
