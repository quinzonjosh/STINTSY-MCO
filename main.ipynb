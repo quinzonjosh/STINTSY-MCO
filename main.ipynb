{
 "cells": [
  {
   "cell_type": "markdown",
   "id": "fcc573dd",
   "metadata": {},
   "source": [
    "STINTSY Group 1 Major Course Output <br>\n",
    "Members:<br>\n",
    "Andres, Donielle<br>\n",
    "Limjoco, Jared Ethan<br>\n",
    "Quinzon, Christopher Josh<br>\n",
    "Uy, Shane Owen"
   ]
  },
  {
   "cell_type": "code",
   "execution_count": null,
   "id": "c904980d",
   "metadata": {},
   "outputs": [],
   "source": []
  }
 ],
 "metadata": {
  "kernelspec": {
   "display_name": "Python 3 (ipykernel)",
   "language": "python",
   "name": "python3"
  },
  "language_info": {
   "codemirror_mode": {
    "name": "ipython",
    "version": 3
   },
   "file_extension": ".py",
   "mimetype": "text/x-python",
   "name": "python",
   "nbconvert_exporter": "python",
   "pygments_lexer": "ipython3",
   "version": "3.10.7"
  }
 },
 "nbformat": 4,
 "nbformat_minor": 5
}
